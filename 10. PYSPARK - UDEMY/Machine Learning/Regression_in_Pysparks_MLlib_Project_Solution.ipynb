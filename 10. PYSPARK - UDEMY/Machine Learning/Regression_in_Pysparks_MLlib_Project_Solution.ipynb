{
 "cells": [
  {
   "cell_type": "markdown",
   "metadata": {},
   "source": [
    "# Regression in PySpark's MLlib Project\n",
    "\n",
    "Now it's time to put what you've learned to into action with a REAL project! \n",
    "\n",
    "You have been hired as a consultant to a cement production company who wants to be able to improve their customer experience around a number of areas like being able to provide recommendations to cusomters on optimal amounts of certian ingredients in the cement making process and perhaps even create an application where users can input their own values and received a predicted cement strength!\n",
    "\n",
    "I have provided a list of question below to help guide you through this project but feel free to deviate and make this project your own! But first, a bit about this dataset.\n",
    "\n",
    "### About this dataset \n",
    "This dataset contains 1030 instances of concrete samples, containing 9 attributes (8 continuous and 1 discreate), and 1 continuous quantitative output variable. There are no missing attribute values.\n",
    "\n",
    "### Attribute Information:\n",
    "\n",
    "Given are the variable name, variable type, the measurement unit and a brief description. The concrete compressive strength is the outcome variable. The order of this listing corresponds to the order of numerals along the rows of the database.\n",
    "\n",
    "Name -- Data Type -- Measurement -- Description\n",
    "\n",
    "- Cement -- quantitative -- kg in a m3 mixture -- Input Variable \n",
    "- Blast Furnace Slag -- quantitative -- kg in a m3 mixture -- Input Variable \n",
    "- Fly Ash -- quantitative -- kg in a m3 mixture -- Input Variable \n",
    "- Water -- quantitative -- kg in a m3 mixture -- Input Variable \n",
    "- Superplasticizer -- quantitative -- kg in a m3 mixture -- Input Variable \n",
    "- Coarse Aggregate -- quantitative -- kg in a m3 mixture -- Input Variable \n",
    "- Fine Aggregate -- quantitative -- kg in a m3 mixture -- Input Variable \n",
    "- Age -- quantitative -- Day (1~365) -- Input Variable \n",
    "- Concrete compressive strength -- quantitative -- MPa -- Output Variable\n",
    "\n",
    "**Source:** https://www.kaggle.com/maajdl/yeh-concret-data\n",
    "\n",
    "**Dataset Name:** Concrete_Data.csv"
   ]
  },
  {
   "cell_type": "code",
   "execution_count": 1,
   "metadata": {},
   "outputs": [
    {
     "name": "stdout",
     "output_type": "stream",
     "text": [
      "You are working with 1 core(s)\n"
     ]
    },
    {
     "data": {
      "text/html": [
       "\n",
       "            <div>\n",
       "                <p><b>SparkSession - in-memory</b></p>\n",
       "                \n",
       "        <div>\n",
       "            <p><b>SparkContext</b></p>\n",
       "\n",
       "            <p><a href=\"http://orcuns-mbp-2.lan:4040\">Spark UI</a></p>\n",
       "\n",
       "            <dl>\n",
       "              <dt>Version</dt>\n",
       "                <dd><code>v2.4.4</code></dd>\n",
       "              <dt>Master</dt>\n",
       "                <dd><code>local[*]</code></dd>\n",
       "              <dt>AppName</dt>\n",
       "                <dd><code>Regression_Project</code></dd>\n",
       "            </dl>\n",
       "        </div>\n",
       "        \n",
       "            </div>\n",
       "        "
      ],
      "text/plain": [
       "<pyspark.sql.session.SparkSession at 0x112088a10>"
      ]
     },
     "execution_count": 1,
     "metadata": {},
     "output_type": "execute_result"
    }
   ],
   "source": [
    "# First let's create our PySpark instance\n",
    "# import findspark\n",
    "# findspark.init()\n",
    "\n",
    "import pyspark # only run after findspark.init()\n",
    "from pyspark.sql import SparkSession\n",
    "# May take awhile locally\n",
    "spark = SparkSession.builder.appName(\"Regression_Project\").getOrCreate()\n",
    "\n",
    "cores = spark._jsc.sc().getExecutorMemoryStatus().keySet().size()\n",
    "print(\"You are working with\", cores, \"core(s)\")\n",
    "spark"
   ]
  },
  {
   "cell_type": "markdown",
   "metadata": {},
   "source": [
    "**Let's start by reading in our datasets**"
   ]
  },
  {
   "cell_type": "code",
   "execution_count": 2,
   "metadata": {},
   "outputs": [],
   "source": [
    "path =\"Datasets/\"\n",
    "df = spark.read.csv(path+'Concrete_Data.csv',inferSchema=True,header=True)"
   ]
  },
  {
   "cell_type": "markdown",
   "metadata": {},
   "source": [
    "**View data**"
   ]
  },
  {
   "cell_type": "code",
   "execution_count": 3,
   "metadata": {},
   "outputs": [
    {
     "data": {
      "text/html": [
       "<div>\n",
       "<style scoped>\n",
       "    .dataframe tbody tr th:only-of-type {\n",
       "        vertical-align: middle;\n",
       "    }\n",
       "\n",
       "    .dataframe tbody tr th {\n",
       "        vertical-align: top;\n",
       "    }\n",
       "\n",
       "    .dataframe thead th {\n",
       "        text-align: right;\n",
       "    }\n",
       "</style>\n",
       "<table border=\"1\" class=\"dataframe\">\n",
       "  <thead>\n",
       "    <tr style=\"text-align: right;\">\n",
       "      <th></th>\n",
       "      <th>cement</th>\n",
       "      <th>slag</th>\n",
       "      <th>flyash</th>\n",
       "      <th>water</th>\n",
       "      <th>superplasticizer</th>\n",
       "      <th>coarseaggregate</th>\n",
       "      <th>fineaggregate</th>\n",
       "      <th>age</th>\n",
       "      <th>csMPa</th>\n",
       "    </tr>\n",
       "  </thead>\n",
       "  <tbody>\n",
       "    <tr>\n",
       "      <td>0</td>\n",
       "      <td>540.0</td>\n",
       "      <td>0.0</td>\n",
       "      <td>0.0</td>\n",
       "      <td>162.0</td>\n",
       "      <td>2.5</td>\n",
       "      <td>1040.0</td>\n",
       "      <td>676.0</td>\n",
       "      <td>28</td>\n",
       "      <td>79.99</td>\n",
       "    </tr>\n",
       "    <tr>\n",
       "      <td>1</td>\n",
       "      <td>540.0</td>\n",
       "      <td>0.0</td>\n",
       "      <td>0.0</td>\n",
       "      <td>162.0</td>\n",
       "      <td>2.5</td>\n",
       "      <td>1055.0</td>\n",
       "      <td>676.0</td>\n",
       "      <td>28</td>\n",
       "      <td>61.89</td>\n",
       "    </tr>\n",
       "    <tr>\n",
       "      <td>2</td>\n",
       "      <td>332.5</td>\n",
       "      <td>142.5</td>\n",
       "      <td>0.0</td>\n",
       "      <td>228.0</td>\n",
       "      <td>0.0</td>\n",
       "      <td>932.0</td>\n",
       "      <td>594.0</td>\n",
       "      <td>270</td>\n",
       "      <td>40.27</td>\n",
       "    </tr>\n",
       "    <tr>\n",
       "      <td>3</td>\n",
       "      <td>332.5</td>\n",
       "      <td>142.5</td>\n",
       "      <td>0.0</td>\n",
       "      <td>228.0</td>\n",
       "      <td>0.0</td>\n",
       "      <td>932.0</td>\n",
       "      <td>594.0</td>\n",
       "      <td>365</td>\n",
       "      <td>41.05</td>\n",
       "    </tr>\n",
       "    <tr>\n",
       "      <td>4</td>\n",
       "      <td>198.6</td>\n",
       "      <td>132.4</td>\n",
       "      <td>0.0</td>\n",
       "      <td>192.0</td>\n",
       "      <td>0.0</td>\n",
       "      <td>978.4</td>\n",
       "      <td>825.5</td>\n",
       "      <td>360</td>\n",
       "      <td>44.30</td>\n",
       "    </tr>\n",
       "    <tr>\n",
       "      <td>5</td>\n",
       "      <td>266.0</td>\n",
       "      <td>114.0</td>\n",
       "      <td>0.0</td>\n",
       "      <td>228.0</td>\n",
       "      <td>0.0</td>\n",
       "      <td>932.0</td>\n",
       "      <td>670.0</td>\n",
       "      <td>90</td>\n",
       "      <td>47.03</td>\n",
       "    </tr>\n",
       "  </tbody>\n",
       "</table>\n",
       "</div>"
      ],
      "text/plain": [
       "   cement   slag  flyash  water  superplasticizer  coarseaggregate  \\\n",
       "0   540.0    0.0     0.0  162.0               2.5           1040.0   \n",
       "1   540.0    0.0     0.0  162.0               2.5           1055.0   \n",
       "2   332.5  142.5     0.0  228.0               0.0            932.0   \n",
       "3   332.5  142.5     0.0  228.0               0.0            932.0   \n",
       "4   198.6  132.4     0.0  192.0               0.0            978.4   \n",
       "5   266.0  114.0     0.0  228.0               0.0            932.0   \n",
       "\n",
       "   fineaggregate  age  csMPa  \n",
       "0          676.0   28  79.99  \n",
       "1          676.0   28  61.89  \n",
       "2          594.0  270  40.27  \n",
       "3          594.0  365  41.05  \n",
       "4          825.5  360  44.30  \n",
       "5          670.0   90  47.03  "
      ]
     },
     "execution_count": 3,
     "metadata": {},
     "output_type": "execute_result"
    }
   ],
   "source": [
    "df.limit(6).toPandas()"
   ]
  },
  {
   "cell_type": "markdown",
   "metadata": {},
   "source": [
    "**And of course the schema :)**"
   ]
  },
  {
   "cell_type": "code",
   "execution_count": 4,
   "metadata": {},
   "outputs": [
    {
     "name": "stdout",
     "output_type": "stream",
     "text": [
      "root\n",
      " |-- cement: double (nullable = true)\n",
      " |-- slag: double (nullable = true)\n",
      " |-- flyash: double (nullable = true)\n",
      " |-- water: double (nullable = true)\n",
      " |-- superplasticizer: double (nullable = true)\n",
      " |-- coarseaggregate: double (nullable = true)\n",
      " |-- fineaggregate: double (nullable = true)\n",
      " |-- age: integer (nullable = true)\n",
      " |-- csMPa: double (nullable = true)\n",
      "\n"
     ]
    }
   ],
   "source": [
    "df.printSchema()"
   ]
  },
  {
   "cell_type": "markdown",
   "metadata": {},
   "source": [
    "**Doulbe check to see if there are any missing values**\n",
    "\n",
    "Let's go ahead and drop any missing values for the sake of simplicity for this lecture as we have already covered the alternatives in subsequent lectures. "
   ]
  },
  {
   "cell_type": "code",
   "execution_count": 5,
   "metadata": {},
   "outputs": [
    {
     "name": "stdout",
     "output_type": "stream",
     "text": [
      "before dropping missings: 1030\n",
      "after dropping missings 1030\n"
     ]
    }
   ],
   "source": [
    "#drop missing data\n",
    "drop = df.na.drop()\n",
    "print('before dropping missings:',df.count())\n",
    "print('after dropping missings',drop.count())"
   ]
  },
  {
   "cell_type": "markdown",
   "metadata": {},
   "source": [
    "All good!"
   ]
  },
  {
   "cell_type": "markdown",
   "metadata": {},
   "source": [
    "## 1. Which features are the strongest predictors of cement strength?\n",
    "\n",
    "Build your own ML model to figure this one out! This would be good information to give to our client so the sales reps can focus their efforts on certian ingredients to provide recommendations on. For example, if our clients had a customer that was struggling with their cement breaking, we could trouble shoot with them by starting with the factors that we know are important.\n",
    "\n",
    "So in order to do this, we first need to format our data and create a model!"
   ]
  },
  {
   "cell_type": "markdown",
   "metadata": {},
   "source": [
    "## Format Data \n",
    "\n",
    "Remember that MLlib requires all input columns of your dataframe to be vectorized. Good thing we created an awesome function to do that in the lectures, so we can simply copy and pasted that here!"
   ]
  },
  {
   "cell_type": "code",
   "execution_count": 6,
   "metadata": {},
   "outputs": [],
   "source": [
    "def MLRegressDFPrep(df,input_columns,dependent_var,treat_outliers=True,treat_neg_values=True):\n",
    "\n",
    "    renamed = df.withColumnRenamed(dependent_var,'label')\n",
    "    \n",
    "    # Make sure dependent variable is numeric and change if it's not\n",
    "    if str(renamed.schema['label'].dataType) != 'IntegerType':\n",
    "        renamed = renamed.withColumn(\"label\", renamed[\"label\"].cast(FloatType()))\n",
    "    \n",
    "   # Convert all string type data in the input column list to numeric\n",
    "    # Otherwise the Algorithm will not be able to process it\n",
    "    numeric_inputs = []\n",
    "    string_inputs = []\n",
    "    for column in input_columns:\n",
    "        if str(renamed.schema[column].dataType) == 'StringType':\n",
    "            new_col_name = column+\"_num\"\n",
    "            string_inputs.append(new_col_name)\n",
    "        else:\n",
    "            numeric_inputs.append(column)\n",
    "            indexed = renamed\n",
    "            \n",
    "    if len(string_inputs) != 0: # If the datafraem contains string types\n",
    "        for column in input_columns:\n",
    "            if str(renamed.schema[column].dataType) == 'StringType':\n",
    "                indexer = StringIndexer(inputCol=column, outputCol=column+\"_num\") \n",
    "                indexed = indexer.fit(renamed).transform(renamed)\n",
    "    else:\n",
    "        indexed = renamed\n",
    "        \n",
    "            \n",
    "    if treat_outliers == True:\n",
    "        print(\"We are correcting for non normality now!\")\n",
    "        # empty dictionary d\n",
    "        d = {}\n",
    "        # Create a dictionary of quantiles\n",
    "        for col in numeric_inputs: \n",
    "            d[col] = indexed.approxQuantile(col,[0.01,0.99],0.25) #if you want to make it go faster increase the last number\n",
    "        #Now fill in the values\n",
    "        for col in numeric_inputs:\n",
    "            skew = indexed.agg(skewness(indexed[col])).collect() #check for skewness\n",
    "            skew = skew[0][0]\n",
    "            # This function will floor, cap and then log+1 (just in case there are 0 values)\n",
    "            if skew > 1:\n",
    "                indexed = indexed.withColumn(col, \\\n",
    "                log(when(df[col] < d[col][0],d[col][0])\\\n",
    "                .when(indexed[col] > d[col][1], d[col][1])\\\n",
    "                .otherwise(indexed[col] ) +1).alias(col))\n",
    "                print(col+\" has been treated for positive (right) skewness. (skew =)\",skew,\")\")\n",
    "            elif skew < -1:\n",
    "                indexed = indexed.withColumn(col, \\\n",
    "                exp(when(df[col] < d[col][0],d[col][0])\\\n",
    "                .when(indexed[col] > d[col][1], d[col][1])\\\n",
    "                .otherwise(indexed[col] )).alias(col))\n",
    "                print(col+\" has been treated for negative (left) skewness. (skew =\",skew,\")\")\n",
    "\n",
    "            \n",
    "    # Produce a warning if there are negative values in the dataframe that Naive Bayes cannot be used. \n",
    "    # Note: we only need to check the numeric input values since anything that is indexed won't have negative values\n",
    "    minimums = df.select([min(c).alias(c) for c in df.columns if c in numeric_inputs]) # Calculate the mins for all columns in the df\n",
    "    min_array = minimums.select(array(numeric_inputs).alias(\"mins\")) # Create an array for all mins and select only the input cols\n",
    "    df_minimum = min_array.select(array_min(min_array.mins)).collect() # Collect golobal min as Python object\n",
    "    df_minimum = df_minimum[0][0] # Slice to get the number itself\n",
    "\n",
    "    features_list = numeric_inputs + string_inputs\n",
    "    assembler = VectorAssembler(inputCols=features_list,outputCol='features')\n",
    "    output = assembler.transform(indexed).select('features','label')\n",
    "\n",
    "#     final_data = output.select('features','label') #drop everything else\n",
    "    \n",
    "    # Now check for negative values and ask user if they want to correct that? \n",
    "    if df_minimum < 0:\n",
    "        print(\" \")\n",
    "        print(\"WARNING: The Naive Bayes Classifier will not be able to process your dataframe as it contains negative values\")\n",
    "        print(\" \")\n",
    "    \n",
    "    if treat_neg_values == True:\n",
    "        print(\"You have opted to correct that by rescaling all your features to a range of 0 to 1\")\n",
    "        print(\" \")\n",
    "        print(\"We are rescaling you dataframe....\")\n",
    "        scaler = MinMaxScaler(inputCol=\"features\", outputCol=\"scaledFeatures\")\n",
    "\n",
    "        # Compute summary statistics and generate MinMaxScalerModel\n",
    "        global scalerModel\n",
    "        scalerModel = scaler.fit(output)\n",
    "\n",
    "        # rescale each feature to range [min, max].\n",
    "        scaled_data = scalerModel.transform(output)\n",
    "        final_data = scaled_data.select('label','scaledFeatures')\n",
    "        final_data = final_data.withColumnRenamed('scaledFeatures','features')\n",
    "        print(\"Done!\")\n",
    "\n",
    "    else:\n",
    "        print(\"You have opted not to correct that therefore you will not be able to use to Naive Bayes classifier\")\n",
    "        print(\"We will return the dataframe unscaled.\")\n",
    "        final_data = output\n",
    "    \n",
    "    return final_data"
   ]
  },
  {
   "cell_type": "markdown",
   "metadata": {},
   "source": [
    "And apply it"
   ]
  },
  {
   "cell_type": "code",
   "execution_count": 7,
   "metadata": {},
   "outputs": [
    {
     "name": "stdout",
     "output_type": "stream",
     "text": [
      "We are correcting for non normality now!\n",
      "age has been treated for positive (right) skewness. (skew =) 3.2644145354168086 )\n",
      "You have opted to correct that by rescaling all your features to a range of 0 to 1\n",
      " \n",
      "We are rescaling you dataframe....\n",
      "Done!\n",
      "+-----+--------------------+\n",
      "|label|            features|\n",
      "+-----+--------------------+\n",
      "|79.99|[1.0,0.0,0.0,0.32...|\n",
      "|61.89|[1.0,0.0,0.0,0.32...|\n",
      "|40.27|[0.52625570776255...|\n",
      "|41.05|[0.52625570776255...|\n",
      "| 44.3|[0.22054794520547...|\n",
      "+-----+--------------------+\n",
      "only showing top 5 rows\n",
      "\n"
     ]
    }
   ],
   "source": [
    "from pyspark.ml.feature import VectorAssembler\n",
    "from pyspark.sql.types import * \n",
    "from pyspark.sql.functions import *\n",
    "from pyspark.ml.feature import StringIndexer\n",
    "from pyspark.ml.feature import MinMaxScaler\n",
    "\n",
    "input_columns = df.columns[:-1] # all except the last one\n",
    "dependent_var = df.columns[-1] # The last column\n",
    "\n",
    "final_data = MLRegressDFPrep(df,input_columns,dependent_var)\n",
    "final_data.show(5)"
   ]
  },
  {
   "cell_type": "markdown",
   "metadata": {},
   "source": [
    "## Check for Multicollinearity\n",
    "\n",
    "Let's make sure we don't have any multicollinearity before we go any further. Remeber the following guidelines for pearson's:\n",
    "\n",
    "- .00-.19 (very weak)\n",
    "- .20-.39 (weak)\n",
    "- .40-.59 (moderate)\n",
    "- .60-.79 (strong)\n",
    "- .80-1.0 (very strong)"
   ]
  },
  {
   "cell_type": "code",
   "execution_count": 8,
   "metadata": {},
   "outputs": [],
   "source": [
    "from pyspark.ml.stat import Correlation\n",
    "pearsonCorr = Correlation.corr(final_data, 'features', 'pearson').collect()[0][0]\n",
    "array = pearsonCorr.toArray()"
   ]
  },
  {
   "cell_type": "code",
   "execution_count": 9,
   "metadata": {},
   "outputs": [
    {
     "name": "stdout",
     "output_type": "stream",
     "text": [
      "0.003339030768914769\n",
      "-0.020880535101809598\n",
      "-0.019744586769280887\n",
      "0.1702125384622427\n",
      "-0.04845304910224158\n",
      "-0.0381343063702499\n",
      "-0.11485329589697867\n",
      "1.0\n"
     ]
    }
   ],
   "source": [
    "for item in array:\n",
    "    print(item[7])"
   ]
  },
  {
   "cell_type": "markdown",
   "metadata": {},
   "source": [
    "Looks like the third and fourth features are strongly correlated, but the rest are okay. We may want to consider removing one of the variables in each correlation pair if we decide to use a logistic regression model."
   ]
  },
  {
   "cell_type": "markdown",
   "metadata": {},
   "source": [
    "## Split dataframe into training and evaluation (test)\n",
    "\n",
    "I'm going with 70/30 but you can use your own mix if you want. "
   ]
  },
  {
   "cell_type": "code",
   "execution_count": 10,
   "metadata": {},
   "outputs": [],
   "source": [
    "train,test = final_data.randomSplit([0.7,0.3])"
   ]
  },
  {
   "cell_type": "markdown",
   "metadata": {},
   "source": [
    "## Train and test our package of algorithms to see which one works best!\n",
    "\n",
    "Next, we need to create our model. Let's use our handy dandy function that iterativley runs through all Regression algorithms. I just copy and pasted this from the previous lecture! How easy is that?!"
   ]
  },
  {
   "cell_type": "code",
   "execution_count": 11,
   "metadata": {},
   "outputs": [],
   "source": [
    "def RegressTrainEval(regressor):\n",
    "\n",
    "    def FindMtype(regressor):\n",
    "        # Intstantiate Model\n",
    "        M = regressor\n",
    "        # Learn what it is\n",
    "        Mtype = type(M).__name__\n",
    "        \n",
    "        return Mtype\n",
    "    \n",
    "    Mtype = FindMtype(regressor)\n",
    "#     print('\\033[1m' + Mtype + ':' + '\\033[0m')\n",
    "\n",
    "\n",
    "    if Mtype == \"LinearRegression\":\n",
    "        \n",
    "        #first without cross val\n",
    "        fitModel = regressor.fit(train)\n",
    "\n",
    "        # Load the Summary\n",
    "        trainingSummary = fitModel.summary\n",
    "        \n",
    "        # Print the coefficients and intercept for linear regression\n",
    "        print('\\033[1m' + \"Linear Regression Model Summary without cross validation:\"+ '\\033[0m')\n",
    "        print(\" \")\n",
    "        print(\"Coefficients: %s\" % str(fitModel.coefficients))\n",
    "        print(\"Intercept: %s\" % str(fitModel.intercept))\n",
    "        print(\"\")\n",
    "\n",
    "        # Summarize the model over the training set and print out some metrics\n",
    "        print(\"numIterations: %d\" % trainingSummary.totalIterations)\n",
    "        print(\"objectiveHistory: (scaled loss + regularization) at each iteration \\n %s\" % str(trainingSummary.objectiveHistory))\n",
    "        print(\"\")\n",
    "        \n",
    "        # Print the Errors\n",
    "        print(\"Training RMSE: %f\" % trainingSummary.rootMeanSquaredError)\n",
    "        print(\"Training r2: %f\" % trainingSummary.r2)\n",
    "        print(\"\")\n",
    "        \n",
    "\n",
    "        # Now load the test results\n",
    "        test_results = fitModel.evaluate(test)\n",
    "\n",
    "        # And print them\n",
    "        print(\"Test RMSE: {}\".format(test_results.rootMeanSquaredError))\n",
    "        print(\"Test r2: {}\".format(test_results.r2))\n",
    "        print(\"\")\n",
    "        \n",
    "        #Now train with cross val\n",
    "        paramGrid = (ParamGridBuilder() \\\n",
    "#              .addGrid(regressor.maxIter, [10, 15]) \\\n",
    "             .addGrid(regressor.regParam, [0.1, 0.01]) \\\n",
    "             .build())\n",
    "        \n",
    "        #Evaluator\n",
    "        revaluator = RegressionEvaluator(metricName=\"rmse\")\n",
    "        \n",
    "        #Cross Validator requires all of the following parameters:\n",
    "        crossval = CrossValidator(estimator=regressor,\n",
    "                                  estimatorParamMaps=paramGrid,\n",
    "                                  evaluator=revaluator,\n",
    "                                  numFolds=2) # 3 is best practice\n",
    "        \n",
    "        print('\\033[1m' + \"Linear Regression Model Summary WITH cross validation:\"+ '\\033[0m')\n",
    "        print(\" \")\n",
    "        # Run cross validations\n",
    "        fitModel = crossval.fit(train)\n",
    "        \n",
    "        # Get Model Summary Statistics\n",
    "        ModelSummary = fitModel.bestModel.summary\n",
    "        print(\"Coefficient Standard Errors: \" + str(ModelSummary.coefficientStandardErrors))\n",
    "        print(\" \")\n",
    "        print(\"P Values: \" + str(ModelSummary.pValues)) # Last element is the intercept\n",
    "        print(\" \")\n",
    "        \n",
    "        global LR_Pvalues\n",
    "        LR_Pvalues = ModelSummary.pValues\n",
    "        \n",
    "        #save model\n",
    "        global LR_BestModel \n",
    "        LR_BestModel = fitModel.bestModel\n",
    "        \n",
    "        # Use test set here so we can measure the accuracy of our model on new data\n",
    "        ModelPredictions = fitModel.transform(test)\n",
    "        \n",
    "        # cvModel uses the best model found from the Cross Validation\n",
    "        # Evaluate best model\n",
    "        test_results = revaluator.evaluate(ModelPredictions)\n",
    "        print('RMSE:', test_results)\n",
    "    \n",
    "        # Set the column names to match the external results dataframe that we will join with later:\n",
    "        columns = ['Regressor', 'Result']\n",
    "        \n",
    "        # Format results and return\n",
    "        rmse_str = [str(test_results)] #make this a string and convert to a list\n",
    "        Mtype = [Mtype] #make this a string\n",
    "        result = spark.createDataFrame(zip(Mtype,rmse_str), schema=columns)\n",
    "        result = result.withColumn('Result',result.Result.substr(0, 5))\n",
    "        return result\n",
    "\n",
    "    else:\n",
    "\n",
    "        # Add parameters of your choice here:\n",
    "        if Mtype in(\"RandomForestRegressor\"):\n",
    "            paramGrid = (ParamGridBuilder() \\\n",
    "#                            .addGrid(regressor.maxDepth, [2, 5, 10])\n",
    "#                            .addGrid(regressor.maxBins, [5, 10, 20])\n",
    "                           .addGrid(regressor.numTrees, [5, 20])\n",
    "                         .build())\n",
    "\n",
    "        # Add parameters of your choice here:\n",
    "        if Mtype in(\"GBTRegressor\"):\n",
    "            paramGrid = (ParamGridBuilder() \\\n",
    "#                          .addGrid(regressor.maxDepth, [2, 5, 10, 20, 30]) \\\n",
    "                         .addGrid(regressor.maxBins, [10, 20]) \\\n",
    "                         .addGrid(regressor.maxIter, [10, 15])\n",
    "                         .build())\n",
    "\n",
    "        # Add parameters of your choice here:\n",
    "        if Mtype in(\"DecisionTreeRegressor\"):\n",
    "            paramGrid = (ParamGridBuilder() \\\n",
    "#                          .addGrid(regressor.maxDepth, [2, 5, 10, 20, 30]) \\\n",
    "                         .addGrid(regressor.maxBins, [10, 20, 40]) \\\n",
    "                         .build())\n",
    "\n",
    "        #Cross Validator requires all of the following parameters:\n",
    "        crossval = CrossValidator(estimator=regressor,\n",
    "                                  estimatorParamMaps=paramGrid,\n",
    "                                  evaluator=RegressionEvaluator(metricName=\"rmse\"),\n",
    "                                  numFolds=2) # 3 is best practice\n",
    "        # Fit Model: Run cross-validation, and choose the best set of parameters.\n",
    "        fitModel = crossval.fit(train)\n",
    "        \n",
    "        # Get Best Model\n",
    "        BestModel = fitModel.bestModel\n",
    "\n",
    "        # FEATURE IMPORTANCES\n",
    "        # Estimate of the importance of each feature.\n",
    "        # Each feature’s importance is the average of its importance across all trees \n",
    "        # in the ensemble The importance vector is normalized to sum to 1. \n",
    "        print(\" \")\n",
    "        print('\\033[1m' + Mtype,\" Feature Importances\"+ '\\033[0m')\n",
    "        print(\"(Scores add up to 1)\")\n",
    "        print(\"Lowest score is the least important\")\n",
    "        print(\" \")\n",
    "        print(BestModel.featureImportances)\n",
    "        \n",
    "        #Create Global Variables for feature importances and models\n",
    "        if Mtype in(\"DecisionTreeRegressor\"):\n",
    "            global DT_featureimportances\n",
    "            DT_featureimportances = BestModel.featureImportances.toArray()\n",
    "            global DT_BestModel \n",
    "            DT_BestModel = fitModel.bestModel\n",
    "        if Mtype in(\"GBTRegressor\"):\n",
    "            global GBT_featureimportances\n",
    "            GBT_featureimportances = BestModel.featureImportances.toArray()\n",
    "            global GBT_BestModel \n",
    "            GBT_BestModel = fitModel.bestModel\n",
    "        if Mtype in(\"RandomForestRegressor\"):\n",
    "            global RF_featureimportances\n",
    "            RF_featureimportances = BestModel.featureImportances.toArray()\n",
    "            global RF_BestModel \n",
    "            RF_BestModel = fitModel.bestModel\n",
    "                    \n",
    "        # Set the column names to match the external results dataframe that we will join with later:\n",
    "        columns = ['Regressor', 'Result']\n",
    "        \n",
    "        # Make predictions.\n",
    "        predictions = fitModel.transform(test)\n",
    "        # Select (prediction, true label) and compute test error\n",
    "        evaluator = RegressionEvaluator(metricName=\"rmse\")\n",
    "        rmse = evaluator.evaluate(predictions)\n",
    "        rmse_str = [str(rmse)] #make this a string and convert to a list\n",
    "        Mtype = [Mtype] #make this a string\n",
    "        result = spark.createDataFrame(zip(Mtype,rmse_str), schema=columns)\n",
    "        result = result.withColumn('Result',result.Result.substr(0, 5))\n",
    "        return result"
   ]
  },
  {
   "cell_type": "markdown",
   "metadata": {},
   "source": [
    "**And now run it!**"
   ]
  },
  {
   "cell_type": "code",
   "execution_count": 12,
   "metadata": {},
   "outputs": [
    {
     "name": "stdout",
     "output_type": "stream",
     "text": [
      "\u001b[1mLinear Regression Model Summary without cross validation:\u001b[0m\n",
      " \n",
      "Coefficients: [60.15074839670888,42.96661553397698,20.549019478379535,-15.958885111977773,3.3173958722267916,9.838915276459128,15.253686948980222,48.17418489976309]\n",
      "Intercept: -31.468103451190572\n",
      "\n",
      "numIterations: 1\n",
      "objectiveHistory: (scaled loss + regularization) at each iteration \n",
      " [0.0]\n",
      "\n",
      "Training RMSE: 7.142173\n",
      "Training r2: 0.812571\n",
      "\n",
      "Test RMSE: 7.255643282842562\n",
      "Test r2: 0.8188868927629136\n",
      "\n",
      "\u001b[1mLinear Regression Model Summary WITH cross validation:\u001b[0m\n",
      " \n",
      "Coefficient Standard Errors: [3.119079296391077, 3.0610902244588294, 2.1172494546895684, 4.08896222551421, 2.474029850814393, 2.704462411394247, 3.562946145783597, 1.3294167709963651, 6.918131053351697]\n",
      " \n",
      "P Values: [0.0, 0.0, 0.0, 6.170345465084104e-05, 0.17756870783650358, 0.0005253244864895645, 4.394065062607311e-05, 0.0, 1.4110320515348107e-05]\n",
      " \n",
      "RMSE: 7.25286264165405\n",
      " \n",
      "\u001b[1mRandomForestRegressor  Feature Importances\u001b[0m\n",
      "(Scores add up to 1)\n",
      "Lowest score is the least important\n",
      " \n",
      "(8,[0,1,2,3,4,5,6,7],[0.27545734667965655,0.049180442120963785,0.03918848700305773,0.11013533876294944,0.08624368598239214,0.022498242607228186,0.04513354737056124,0.37216290947319086])\n",
      " \n",
      "\u001b[1mGBTRegressor  Feature Importances\u001b[0m\n",
      "(Scores add up to 1)\n",
      "Lowest score is the least important\n",
      " \n",
      "(8,[0,1,2,3,4,5,6,7],[0.21517440012348257,0.12670494035558166,0.03517859690685113,0.1252682425602611,0.07649985152984157,0.0806025109748039,0.12375047530561864,0.21682098224355936])\n",
      " \n",
      "\u001b[1mDecisionTreeRegressor  Feature Importances\u001b[0m\n",
      "(Scores add up to 1)\n",
      "Lowest score is the least important\n",
      " \n",
      "(8,[0,1,2,3,4,5,6,7],[0.3372648257873819,0.07997673976668113,0.0019474243400316186,0.10219293124904634,0.03572329658383223,0.015343463665690284,0.01839719794402829,0.40915412066330825])\n",
      "+---------------------+------+\n",
      "|Regressor            |Result|\n",
      "+---------------------+------+\n",
      "|LinearRegression     |7.252 |\n",
      "|RandomForestRegressor|7.910 |\n",
      "|GBTRegressor         |7.071 |\n",
      "|DecisionTreeRegressor|8.525 |\n",
      "+---------------------+------+\n",
      "\n"
     ]
    }
   ],
   "source": [
    "# Run!\n",
    "from pyspark.ml.regression import *\n",
    "from pyspark.ml.evaluation import *\n",
    "# from pyspark.sql import functions as F\n",
    "from pyspark.ml.tuning import CrossValidator, ParamGridBuilder\n",
    "\n",
    "regressors = [\n",
    "                LinearRegression()\n",
    "                ,RandomForestRegressor()\n",
    "                ,GBTRegressor()\n",
    "                ,DecisionTreeRegressor()\n",
    "                ] \n",
    "    \n",
    "#set up your results table\n",
    "columns = ['Regressor', 'Result']\n",
    "vals = [(\"Place Holder\",\"N/A\")]\n",
    "results = spark.createDataFrame(vals, columns)\n",
    "\n",
    "for regressor in regressors:\n",
    "    new_result = RegressTrainEval(regressor)\n",
    "    results = results.union(new_result)\n",
    "results = results.where(\"Regressor!='Place Holder'\")\n",
    "results.show(100,False)"
   ]
  },
  {
   "cell_type": "markdown",
   "metadata": {},
   "source": [
    "**Now for the results!**\n",
    "\n",
    "Now it's time to query the feature importance lists/arrays that were created above! We can use this information to fine tune our model if we want. "
   ]
  },
  {
   "cell_type": "code",
   "execution_count": 13,
   "metadata": {},
   "outputs": [
    {
     "name": "stdout",
     "output_type": "stream",
     "text": [
      "Random Forest best features:  [7 0 3 4]\n",
      "GBT best features:  [7 0 1 3]\n",
      "Decision Tree best features:  [7 0 3 1]\n",
      "Linear Regression best features:  [0.0, 0.0, 0.0, 6.170345465084104e-05, 0.17756870783650358, 0.0005253244864895645, 4.394065062607311e-05, 0.0, 1.4110320515348107e-05]\n"
     ]
    }
   ],
   "source": [
    "n = 4\n",
    "\n",
    "print('Random Forest best features: ',RF_featureimportances.argsort()[-n:][::-1])\n",
    "print('GBT best features: ',GBT_featureimportances.argsort()[-n:][::-1])\n",
    "print('Decision Tree best features: ',DT_featureimportances.argsort()[-n:][::-1])\n",
    "print('Linear Regression best features: ',LR_Pvalues)"
   ]
  },
  {
   "cell_type": "markdown",
   "metadata": {},
   "source": [
    "## 2. For the following given inputs, what would be the estimated cement strength?\n",
    "\n",
    "- Cement: 540\n",
    "- Blast Furnace Slag: 0\n",
    "- Fly Ash: 0\n",
    "- Water: 162\n",
    "- Superplasticizer: 2.5\n",
    "- Coarse Aggregate: 1040\n",
    "- Fine Aggregate: 676\n",
    "- Age: 28\n",
    "\n",
    "The correct answer according to my model is 79.99. Let's see what you get!"
   ]
  },
  {
   "cell_type": "code",
   "execution_count": 22,
   "metadata": {},
   "outputs": [
    {
     "name": "stdout",
     "output_type": "stream",
     "text": [
      "+--------------------+-----------------+\n",
      "|            features|       prediction|\n",
      "+--------------------+-----------------+\n",
      "|[1.0,0.0,0.0,0.32...|67.44838538147297|\n",
      "+--------------------+-----------------+\n",
      "\n"
     ]
    }
   ],
   "source": [
    "# Manually input our values from above. \n",
    "values = [(540,0.0,0.0,162,2.5,1040,676,28)]\n",
    "# Fetch the column names\n",
    "column_names = df.columns\n",
    "column_names = column_names[0:8]\n",
    "# Map values to column names (always better to soft code :) )\n",
    "# test = spark.createDataFrame(values,[\"cement\",\"slag\",\"flyash\",\"water\",\"superplasticizer\",\"coarseaggregate\",\"fineaggregate\",\"age\"])\n",
    "test = spark.createDataFrame(values,column_names)\n",
    "\n",
    "# remember that we treated age for right skewness\n",
    "# so we need to convert the raw value to the transformed value\n",
    "test = test.withColumn(\"age\", log(\"age\") +1)\n",
    "\n",
    "# Transform for a vector\n",
    "features_list = [\"cement\",\"slag\",\"flyash\",\"water\",\"superplasticizer\",\"coarseaggregate\",\"fineaggregate\",\"age\"]\n",
    "assembler = VectorAssembler(inputCols=features_list,outputCol='features')\n",
    "test = assembler.transform(test).select('features')\n",
    "    \n",
    "# rescale each feature to range [min, max].\n",
    "scaled_test = scalerModel.transform(test)\n",
    "final_test = scaled_test.select('scaledFeatures')\n",
    "final_test = final_test.withColumnRenamed('scaledFeatures','features')\n",
    "\n",
    "predictions = LR_BestModel.transform(final_test)\n",
    "predictions.show()"
   ]
  },
  {
   "cell_type": "markdown",
   "metadata": {},
   "source": [
    "## 3. Interact with a user!\n",
    "\n",
    "Now see if you can ask users to input their own value for Age (keeping all other values the same from the question above) and return a predicted value for the cement stength. \n",
    "\n",
    "We did not cover this is in the lecture so you'll have to put your thinking cap on. Accepting user input in PySpark works just like it does in traditional Python.\n",
    "<br>\n",
    "\n",
    "val = input(\"Enter your value: \") "
   ]
  },
  {
   "cell_type": "code",
   "execution_count": 15,
   "metadata": {},
   "outputs": [
    {
     "name": "stdout",
     "output_type": "stream",
     "text": [
      "How old is your cement? 32\n",
      "Your predicted cement stregth is:  68.68154689869931\n"
     ]
    }
   ],
   "source": [
    "age_val = input(\"How old is your cement? \")\n",
    "values = [(540,0.0,0.0,162,2.5,1040,676,age_val)]\n",
    "test = spark.createDataFrame(values,[\"cement\",\"slag\",\"flyash\",\"water\",\"superplasticizer\",\"coarseaggregate\",\"fineaggregate\",\"age\"])\n",
    "\n",
    "# remember that we treated age for right skewness\n",
    "# so we need to convert the raw value to the transformed value\n",
    "test = test.withColumn(\"age\", log(\"age\") +1)\n",
    "\n",
    "# Transform for a vector\n",
    "features_list = [\"cement\",\"slag\",\"flyash\",\"water\",\"superplasticizer\",\"coarseaggregate\",\"fineaggregate\",\"age\"]\n",
    "assembler = VectorAssembler(inputCols=features_list,outputCol='features')\n",
    "test = assembler.transform(test).select('features')\n",
    "    \n",
    "# rescale each feature to range [min, max].\n",
    "scaled_test = scalerModel.transform(test)\n",
    "final_test = scaled_test.select('scaledFeatures')\n",
    "final_test = final_test.withColumnRenamed('scaledFeatures','features')\n",
    "\n",
    "predictions = LR_BestModel.transform(final_test)\n",
    "response = predictions.select(['prediction']).collect()\n",
    "response = response[0][0]\n",
    "print(\"Your predicted cement stregth is: \",response)"
   ]
  },
  {
   "cell_type": "markdown",
   "metadata": {},
   "source": [
    "## 4. Make recommendations of optimal values for cement ingredients (our features)\n",
    "\n",
    "See if you can find the optimal amount of cement to recommend holding the rest of the values from the previous question constant, assuming that the higher the cement strength value the better. "
   ]
  },
  {
   "cell_type": "code",
   "execution_count": 16,
   "metadata": {},
   "outputs": [
    {
     "name": "stdout",
     "output_type": "stream",
     "text": [
      "+-------+------+-----+\n",
      "|summary|cement|csMPa|\n",
      "+-------+------+-----+\n",
      "|    min| 102.0| 2.33|\n",
      "|    max| 540.0| 82.6|\n",
      "+-------+------+-----+\n",
      "\n"
     ]
    }
   ],
   "source": [
    "# First find out the min and max values for cement so we know what grid space to search\n",
    "df.select(\"cement\",\"csMPa\").summary(\"min\", \"max\").show()"
   ]
  },
  {
   "cell_type": "code",
   "execution_count": 17,
   "metadata": {},
   "outputs": [
    {
     "name": "stdout",
     "output_type": "stream",
     "text": [
      "+------+-----------------+\n",
      "|cement|       prediction|\n",
      "+------+-----------------+\n",
      "|   690|87.85105574652002|\n",
      "+------+-----------------+\n",
      "only showing top 1 row\n",
      "\n"
     ]
    }
   ],
   "source": [
    "values = [(540,0.0,0.0,162,2.5,1040,676,28)]\n",
    "columns = [\"cement\",\"slag\",\"flyash\",\"water\",\"superplasticizer\",\"coarseaggregate\",\"fineaggregate\",\"age\"]\n",
    "test = spark.createDataFrame(values,columns)\n",
    "\n",
    "for value in range(50,700,10):\n",
    "    newRow = spark.createDataFrame([(value,0.0,0.0,162,2.5,1040,676,28)], columns)\n",
    "    test = test.union(newRow)\n",
    "\n",
    "# remember that we treated age for right skewness\n",
    "# so we need to convert the raw value to the transformed value\n",
    "test = test.withColumn(\"age\", log(\"age\") +1)\n",
    "\n",
    "# Transform to a vector\n",
    "features_list = [\"cement\",\"slag\",\"flyash\",\"water\",\"superplasticizer\",\"coarseaggregate\",\"fineaggregate\",\"age\"]\n",
    "assembler = VectorAssembler(inputCols=features_list,outputCol='features')\n",
    "# test = assembler.transform(test).select('features')\n",
    "test = assembler.transform(test)\n",
    "    \n",
    "# rescale each feature to range [min, max].\n",
    "scaled_test = scalerModel.transform(test)\n",
    "final_test = scaled_test.withColumnRenamed('features','oldfeatures')\n",
    "final_test = final_test.withColumnRenamed('scaledFeatures','features')\n",
    "\n",
    "predictions = LR_BestModel.transform(final_test)\n",
    "predictions.select(['cement',\"prediction\"]).orderBy(predictions[\"prediction\"].desc()).show(1)"
   ]
  }
 ],
 "metadata": {
  "kernelspec": {
   "display_name": "Python 3",
   "language": "python",
   "name": "python3"
  },
  "language_info": {
   "codemirror_mode": {
    "name": "ipython",
    "version": 3
   },
   "file_extension": ".py",
   "mimetype": "text/x-python",
   "name": "python",
   "nbconvert_exporter": "python",
   "pygments_lexer": "ipython3",
   "version": "3.7.4"
  }
 },
 "nbformat": 4,
 "nbformat_minor": 2
}
