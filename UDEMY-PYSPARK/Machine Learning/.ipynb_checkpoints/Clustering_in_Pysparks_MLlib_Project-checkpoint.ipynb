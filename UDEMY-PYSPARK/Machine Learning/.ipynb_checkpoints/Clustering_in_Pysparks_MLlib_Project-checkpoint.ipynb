{
 "cells": [
  {
   "cell_type": "markdown",
   "metadata": {},
   "source": [
    "# Clustering in PySpark's MLlib Project\n",
    "\n",
    "**Project Title:** University Clustering for the Greater Good\n",
    "\n",
    "**Objective**\n",
    "\n",
    "You are a data scientist employed by the ABCDE Foundation, a non-profit organization whose mission is to increase college graduation rates for underpriveleged populations. Through advocacy and targeted outreach programs, ABCDE strives to identify and alleviate barriers to educational achievement. ABCDE is driven by the belief that with the right supports, an increase in college attendance and completion rates can be achieved, thereby weakening the grip of the cycles of poverty and social immobility affecting many of our communities.\n",
    "\n",
    "ABCDE is committed to developing a more data driven approach to decision making. As a prelude to future analyses, ABCDE has requested that you analyze the data to identify clusters of similar colleges and universities.\n",
    "\n",
    "**Your Task**\n",
    "\n",
    "Use cluster analysis to identify the groups of characteristically similar schools in the CollegeScorecard.csv dataset. A few questions are outlined below to help guide you. \n",
    "\n",
    "## Considerations:\n",
    "\n",
    " - Data Preparation \n",
    " - How will you deal with missing values? \n",
    " - Are there any categorical variables in the dataset? How will you deal with those? \n",
    " - Consider experiementing with hyperparameter optimization techniques\n",
    "\n",
    "These are the (sometimes subjective) questions you need to figure out as a data scientist. It's highly recommended that you familiarize yourself with the dataset's dictionary and documentation (see \"Data Dictionary description below), as well as the theory and technical characteristics of the algorithm(s) you're using.\n",
    "\n",
    "**Interpretation**\n",
    "\n",
    "Is it possible to explain what each cluster represents? Did you retain or prepare a set of features that enables a meaningful interpretation of the clusters? Do the compositions of the clusters seem to make sense?\n",
    "\n",
    "**Validation**\n",
    "\n",
    "How will you measure the validity of your clustering process? Which metrics will you use and how will you apply them?\n",
    "\n",
    "*Important Note:*\n",
    "\n",
    "This is an open-ended assignment (as many or most real-life data science projects are). Your only constraints are that you must use the data provided, execute high-quality and justifiable clustering technique, provide your rationale for the decisions you made, and ultimately produce meaningful cluster labels. Three questions have been provided below to help get you started and provide some direction for your analysis, but feel free to explore the dataset in your own unique way and share it with the class! The sky is the limit!\n",
    "\n",
    "**Source:** https://data.world/exercises/cluster-analysis-exercise-2\n",
    "\n",
    "**Data:** CollegeScorecard.csv <br>\n",
    "**Data Dictionary:** CollegeScoreCardDataDictionary-09-12-2015.csv"
   ]
  },
  {
   "cell_type": "markdown",
   "metadata": {},
   "source": [
    "## Describe the clusters in lamens terms\n",
    "\n",
    "What are some defining characteristics of each cluster? Try to use some of the variables to explain to the client. "
   ]
  },
  {
   "cell_type": "code",
   "execution_count": null,
   "metadata": {},
   "outputs": [],
   "source": []
  },
  {
   "cell_type": "markdown",
   "metadata": {},
   "source": [
    "## How many Universities are in each cluster?"
   ]
  },
  {
   "cell_type": "code",
   "execution_count": null,
   "metadata": {},
   "outputs": [],
   "source": []
  },
  {
   "cell_type": "markdown",
   "metadata": {},
   "source": [
    "## List the Universities by Cluster"
   ]
  },
  {
   "cell_type": "code",
   "execution_count": null,
   "metadata": {},
   "outputs": [],
   "source": []
  }
 ],
 "metadata": {
  "kernelspec": {
   "display_name": "Python 3",
   "language": "python",
   "name": "python3"
  },
  "language_info": {
   "codemirror_mode": {
    "name": "ipython",
    "version": 3
   },
   "file_extension": ".py",
   "mimetype": "text/x-python",
   "name": "python",
   "nbconvert_exporter": "python",
   "pygments_lexer": "ipython3",
   "version": "3.7.4"
  }
 },
 "nbformat": 4,
 "nbformat_minor": 2
}
