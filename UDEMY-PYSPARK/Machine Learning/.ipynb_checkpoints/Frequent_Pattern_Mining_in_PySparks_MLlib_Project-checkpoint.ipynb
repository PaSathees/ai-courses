{
 "cells": [
  {
   "cell_type": "markdown",
   "metadata": {},
   "source": [
    "# Frequent Pattern Mining in PySpark's MLlib Project\n",
    "\n",
    "Let's see if you can use the concepts we learned about in the lecture to try out frequent pattern mining techniques on a new dataset!\n",
    "\n",
    "\n",
    "## Recap:\n",
    "\n",
    "Spark MLlib provides two algorithms related to frequent pattern mining (FPM): \n",
    "\n",
    "1. FP-growth (Frequent Pattern Growth)\n",
    "2. PrefixSpan \n",
    "\n",
    "The distinction is that FP-growth does not use order information in the itemsets, if any, while PrefixSpan is designed for sequential pattern mining where the itemsets are ordered. \n",
    "\n",
    "## Data\n",
    "\n",
    "You own a mall and through membership cards, you have some basic data about your customers like Customer ID, age, gender, annual income and spending score. Spending Score is something you assign to the customer based on your defined parameters like customer behavior and purchasing data.\n",
    "\n",
    "**Dataset:** Mall_Customers.csv <br>\n",
    "**Data Source:**  https://www.kaggle.com/vjchoudhary7/customer-segmentation-tutorial-in-python\n",
    "\n",
    "## Problem statement\n",
    "\n",
    "As the mall owner, you want to understand the customers who can be easily grouped together so that a strategy can be provided to the marketing team to plan accordingly. \n",
    "\n",
    "*Note:* <br>\n",
    "You may need to transform the data in a way that will be meaningful for your market analysis. Think about how you might group the customers in the this data.\n",
    "\n",
    "You will also notice that I did not provide any leading questions in this notebook as I usually do. This to provide a bit of a challenge for you as this is our concept we will be convering before the final project! I hope you enjoy the challenge :)"
   ]
  },
  {
   "cell_type": "code",
   "execution_count": null,
   "metadata": {},
   "outputs": [],
   "source": []
  }
 ],
 "metadata": {
  "kernelspec": {
   "display_name": "Python 3",
   "language": "python",
   "name": "python3"
  },
  "language_info": {
   "codemirror_mode": {
    "name": "ipython",
    "version": 3
   },
   "file_extension": ".py",
   "mimetype": "text/x-python",
   "name": "python",
   "nbconvert_exporter": "python",
   "pygments_lexer": "ipython3",
   "version": "3.7.4"
  }
 },
 "nbformat": 4,
 "nbformat_minor": 2
}
