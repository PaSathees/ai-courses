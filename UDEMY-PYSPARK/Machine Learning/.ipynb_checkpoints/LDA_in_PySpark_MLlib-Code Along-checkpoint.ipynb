{
 "cells": [
  {
   "cell_type": "markdown",
   "metadata": {},
   "source": [
    "# LDA in PySparks MLlib\n",
    "\n",
    "**Linear Discriminant Analysis**, otherwise known as *Topic Modeling*, is an unsupervised machine learning method for discovering topics by reducing dimension space. This method is very popular with Natural Language Processing (NLP) where the intent of the analysis is to discover themes or tags in a dataset that contains natural written language like tweets, news paper articles or even recipes! \n",
    "\n",
    "Today we will be analyzing a collection of christmas cooking recipes scraped from BBC Good Food. Let's see if we can try to discover some additional themes amoungst these recipes imagining that we want to create our own website that provides a more intelligent tagging system to recipes that are pulled from multiple data sources.\n",
    "\n",
    "**Approach** <br>\n",
    "There are several ways to tackle Topic Modeling out there today so I thought I would spend today introducing you to one of the most popular and traditional approaches just get you comfortable with the concept. The coding leading up to where we pass our data into the LDA algorithm will look much like what we covered in the NLP series where we first cleaned our data, then tokenize the data, remove stopwords, and then create a count vector. Then the next step of our analysis will start to look more like the approach we took in the k-means lecture where we will need to find the \"optimal k\" which in this case we can think of more lore like topics instead of clusters. Then the fun part starts where we can see that kinds of topics our model came up with!\n",
    "\n",
    "So let's dig in and see what it finds!"
   ]
  },
  {
   "cell_type": "code",
   "execution_count": 1,
   "metadata": {},
   "outputs": [
    {
     "name": "stdout",
     "output_type": "stream",
     "text": [
      "You are working with 1 core(s) on appid:  local-1591797242977\n"
     ]
    },
    {
     "data": {
      "text/html": [
       "\n",
       "            <div>\n",
       "                <p><b>SparkSession - in-memory</b></p>\n",
       "                \n",
       "        <div>\n",
       "            <p><b>SparkContext</b></p>\n",
       "\n",
       "            <p><a href=\"http://orcuns-mbp-2:4044\">Spark UI</a></p>\n",
       "\n",
       "            <dl>\n",
       "              <dt>Version</dt>\n",
       "                <dd><code>v2.4.4</code></dd>\n",
       "              <dt>Master</dt>\n",
       "                <dd><code>local[*]</code></dd>\n",
       "              <dt>AppName</dt>\n",
       "                <dd><code>LDA</code></dd>\n",
       "            </dl>\n",
       "        </div>\n",
       "        \n",
       "            </div>\n",
       "        "
      ],
      "text/plain": [
       "<pyspark.sql.session.SparkSession at 0x11b2679d0>"
      ]
     },
     "execution_count": 1,
     "metadata": {},
     "output_type": "execute_result"
    }
   ],
   "source": [
    "# First let's create our PySpark instance\n",
    "# import findspark\n",
    "# findspark.init()\n",
    "\n",
    "import pyspark # only run after findspark.init()\n",
    "from pyspark.sql import SparkSession\n",
    "# May take awhile locally\n",
    "spark = SparkSession.builder.appName(\"LDA\").getOrCreate()\n",
    "\n",
    "cores = spark._jsc.sc().getExecutorMemoryStatus().keySet().size()\n",
    "appid = spark._jsc.sc().applicationId()\n",
    "print(\"You are working with\", cores, \"core(s) on appid: \",appid)\n",
    "spark"
   ]
  },
  {
   "cell_type": "code",
   "execution_count": 2,
   "metadata": {},
   "outputs": [],
   "source": [
    "# Read in dependencies\n",
    "from pyspark.sql.types import *\n",
    "\n",
    "from pyspark.ml.feature import *\n",
    "from pyspark.ml.clustering import LDA\n",
    "from pyspark.sql.functions import *\n",
    "\n",
    "# For pipeline development\n",
    "from pyspark.ml import Pipeline "
   ]
  },
  {
   "cell_type": "markdown",
   "metadata": {},
   "source": [
    "## Dataset\n",
    "\n",
    "This JSON lines file contains 1600 christmas cooking recipes scraped from BBC Good Food.\n",
    "\n",
    "### Content\n",
    "\n",
    " - Recipe Title\n",
    " - Recipe Description (we are going to focus on this variable for our analysis)\n",
    " - Recipe Author\n",
    " - Ingredients list\n",
    " - Step by step method\n",
    "\n",
    "**Source:** https://www.yanlong.app/gjbroughton/christmas-recipes\n",
    "\n",
    "\n",
    "\n",
    "**Read in the data**"
   ]
  },
  {
   "cell_type": "code",
   "execution_count": 3,
   "metadata": {},
   "outputs": [],
   "source": [
    "path = 'Datasets/'\n",
    "df = spark.read.json(path+'recipes.json')"
   ]
  },
  {
   "cell_type": "markdown",
   "metadata": {},
   "source": [
    "**View data as always**"
   ]
  },
  {
   "cell_type": "code",
   "execution_count": 4,
   "metadata": {},
   "outputs": [
    {
     "data": {
      "text/html": [
       "<div>\n",
       "<style scoped>\n",
       "    .dataframe tbody tr th:only-of-type {\n",
       "        vertical-align: middle;\n",
       "    }\n",
       "\n",
       "    .dataframe tbody tr th {\n",
       "        vertical-align: top;\n",
       "    }\n",
       "\n",
       "    .dataframe thead th {\n",
       "        text-align: right;\n",
       "    }\n",
       "</style>\n",
       "<table border=\"1\" class=\"dataframe\">\n",
       "  <thead>\n",
       "    <tr style=\"text-align: right;\">\n",
       "      <th></th>\n",
       "      <th>Author</th>\n",
       "      <th>Description</th>\n",
       "      <th>Ingredients</th>\n",
       "      <th>Method</th>\n",
       "      <th>Name</th>\n",
       "      <th>url</th>\n",
       "    </tr>\n",
       "  </thead>\n",
       "  <tbody>\n",
       "    <tr>\n",
       "      <td>0</td>\n",
       "      <td>Mary Cadogan</td>\n",
       "      <td>Combine a few key Christmas flavours here to m...</td>\n",
       "      <td>[2 tbsp olive oil, knob butter, 1 onion, finel...</td>\n",
       "      <td>[Heat oven to 190C/fan 170C/gas 5. Heat 1 tbsp...</td>\n",
       "      <td>Christmas pie</td>\n",
       "      <td>https://www.bbcgoodfood.com/recipes/2793/chris...</td>\n",
       "    </tr>\n",
       "    <tr>\n",
       "      <td>1</td>\n",
       "      <td>Mary Cadogan</td>\n",
       "      <td>An easy-to-make alternative to traditional Chr...</td>\n",
       "      <td>[175g butter, chopped, 200g dark muscovado sug...</td>\n",
       "      <td>[Put the butter, sugar, fruit, zests, juice an...</td>\n",
       "      <td>Simmer-&amp;-stir Christmas cake</td>\n",
       "      <td>https://www.bbcgoodfood.com/recipes/1160/simme...</td>\n",
       "    </tr>\n",
       "    <tr>\n",
       "      <td>2</td>\n",
       "      <td>Sara Buenfeld</td>\n",
       "      <td>These beautiful and classy little cakes make l...</td>\n",
       "      <td>[200g dark muscovado sugar, 175g butter, chopp...</td>\n",
       "      <td>[Tip the sugar, butter, dried fruit, whole che...</td>\n",
       "      <td>Christmas cupcakes</td>\n",
       "      <td>https://www.bbcgoodfood.com/recipes/72622/chri...</td>\n",
       "    </tr>\n",
       "    <tr>\n",
       "      <td>3</td>\n",
       "      <td>Paul Hollywood</td>\n",
       "      <td>Paul Hollywood's fruit rolls can be made ahead...</td>\n",
       "      <td>[500g strong white flour, plus extra for dusti...</td>\n",
       "      <td>[Put the flour and 1 tsp salt into a large bow...</td>\n",
       "      <td>Christmas buns</td>\n",
       "      <td>https://www.bbcgoodfood.com/recipes/1803633/ch...</td>\n",
       "    </tr>\n",
       "    <tr>\n",
       "      <td>4</td>\n",
       "      <td>Barney Desmazery</td>\n",
       "      <td>Made these for the second time today, and I ha...</td>\n",
       "      <td>[280g self-raising flour, 175g golden caster s...</td>\n",
       "      <td>[Heat oven to 190C/170 fan/gas 5 and line a 12...</td>\n",
       "      <td>Christmas cupcakes</td>\n",
       "      <td>https://www.bbcgoodfood.com/recipes/981634/chr...</td>\n",
       "    </tr>\n",
       "  </tbody>\n",
       "</table>\n",
       "</div>"
      ],
      "text/plain": [
       "             Author                                        Description  \\\n",
       "0      Mary Cadogan  Combine a few key Christmas flavours here to m...   \n",
       "1      Mary Cadogan  An easy-to-make alternative to traditional Chr...   \n",
       "2     Sara Buenfeld  These beautiful and classy little cakes make l...   \n",
       "3    Paul Hollywood  Paul Hollywood's fruit rolls can be made ahead...   \n",
       "4  Barney Desmazery  Made these for the second time today, and I ha...   \n",
       "\n",
       "                                         Ingredients  \\\n",
       "0  [2 tbsp olive oil, knob butter, 1 onion, finel...   \n",
       "1  [175g butter, chopped, 200g dark muscovado sug...   \n",
       "2  [200g dark muscovado sugar, 175g butter, chopp...   \n",
       "3  [500g strong white flour, plus extra for dusti...   \n",
       "4  [280g self-raising flour, 175g golden caster s...   \n",
       "\n",
       "                                              Method  \\\n",
       "0  [Heat oven to 190C/fan 170C/gas 5. Heat 1 tbsp...   \n",
       "1  [Put the butter, sugar, fruit, zests, juice an...   \n",
       "2  [Tip the sugar, butter, dried fruit, whole che...   \n",
       "3  [Put the flour and 1 tsp salt into a large bow...   \n",
       "4  [Heat oven to 190C/170 fan/gas 5 and line a 12...   \n",
       "\n",
       "                           Name  \\\n",
       "0                 Christmas pie   \n",
       "1  Simmer-&-stir Christmas cake   \n",
       "2            Christmas cupcakes   \n",
       "3                Christmas buns   \n",
       "4            Christmas cupcakes   \n",
       "\n",
       "                                                 url  \n",
       "0  https://www.bbcgoodfood.com/recipes/2793/chris...  \n",
       "1  https://www.bbcgoodfood.com/recipes/1160/simme...  \n",
       "2  https://www.bbcgoodfood.com/recipes/72622/chri...  \n",
       "3  https://www.bbcgoodfood.com/recipes/1803633/ch...  \n",
       "4  https://www.bbcgoodfood.com/recipes/981634/chr...  "
      ]
     },
     "execution_count": 4,
     "metadata": {},
     "output_type": "execute_result"
    }
   ],
   "source": [
    "df.limit(5).toPandas()"
   ]
  },
  {
   "cell_type": "markdown",
   "metadata": {},
   "source": [
    "**And of course the schema**"
   ]
  },
  {
   "cell_type": "code",
   "execution_count": 4,
   "metadata": {},
   "outputs": [
    {
     "name": "stdout",
     "output_type": "stream",
     "text": [
      "root\n",
      " |-- Author: string (nullable = true)\n",
      " |-- Description: string (nullable = true)\n",
      " |-- Ingredients: array (nullable = true)\n",
      " |    |-- element: string (containsNull = true)\n",
      " |-- Method: array (nullable = true)\n",
      " |    |-- element: string (containsNull = true)\n",
      " |-- Name: string (nullable = true)\n",
      " |-- url: string (nullable = true)\n",
      "\n"
     ]
    }
   ],
   "source": [
    "df.printSchema()"
   ]
  },
  {
   "cell_type": "markdown",
   "metadata": {},
   "source": [
    "## Investigate missing values"
   ]
  },
  {
   "cell_type": "code",
   "execution_count": 6,
   "metadata": {},
   "outputs": [
    {
     "name": "stdout",
     "output_type": "stream",
     "text": [
      "+-----------+-----------------+------------------+\n",
      "|Column_Name|Null_Values_Count|Null_Value_Percent|\n",
      "+-----------+-----------------+------------------+\n",
      "|     Author|                6|0.3710575139146568|\n",
      "|Description|              188|11.626468769325912|\n",
      "+-----------+-----------------+------------------+\n",
      "\n"
     ]
    }
   ],
   "source": [
    "from pyspark.sql.functions import *\n",
    "\n",
    "def null_value_calc(df):\n",
    "    null_columns_counts = []\n",
    "    numRows = df.count()\n",
    "    for k in df.columns:\n",
    "        nullRows = df.where(col(k).isNull()).count()\n",
    "        if(nullRows > 0):\n",
    "            temp = k,nullRows,(nullRows/numRows)*100\n",
    "            null_columns_counts.append(temp)\n",
    "    return(null_columns_counts)\n",
    "\n",
    "null_columns_calc_list = null_value_calc(df)\n",
    "spark.createDataFrame(null_columns_calc_list, ['Column_Name', 'Null_Values_Count','Null_Value_Percent']).show()"
   ]
  },
  {
   "cell_type": "markdown",
   "metadata": {},
   "source": [
    "## Drop missing values\n",
    "\n",
    "Since we are focusing on the description variable for our analysis today, I'm just going to drop the rows that have missing values in that column. "
   ]
  },
  {
   "cell_type": "code",
   "execution_count": 4,
   "metadata": {},
   "outputs": [
    {
     "data": {
      "text/plain": [
       "1429"
      ]
     },
     "execution_count": 4,
     "metadata": {},
     "output_type": "execute_result"
    }
   ],
   "source": [
    "#drop missing values for the sake of the example\n",
    "df = df.na.drop(subset=[\"Description\"])\n",
    "df.count()"
   ]
  },
  {
   "cell_type": "markdown",
   "metadata": {},
   "source": [
    "## Prep the data (the NLP part)\n",
    "\n",
    "This will include the following steps:\n",
    "\n",
    " - Clean text\n",
    " - Tokenize\n",
    " - Remove Stopwords\n",
    " - Create Count Vector of your words (features)\n"
   ]
  },
  {
   "cell_type": "code",
   "execution_count": 22,
   "metadata": {},
   "outputs": [
    {
     "name": "stdout",
     "output_type": "stream",
     "text": [
      "+------------------------------------------------------------------------------------------------+\n",
      "|Description                                                                                     |\n",
      "+------------------------------------------------------------------------------------------------+\n",
      "|Combine a few key Christmas flavours here to make a pie that both children and adults will adore|\n",
      "|An easy-to-make alternative to traditional Christmas cakes which requires no beating            |\n",
      "+------------------------------------------------------------------------------------------------+\n",
      "only showing top 2 rows\n",
      "\n"
     ]
    }
   ],
   "source": [
    "# Let's see a few full rows for the description column\n",
    "df.select('Description').show(2,False)"
   ]
  },
  {
   "cell_type": "markdown",
   "metadata": {},
   "source": [
    "Looks like pretty standard text with punctuation, camel casing and hyphenated words. We can use a pretty simple approach for this using two of the regex replace methods we saw in the NLP lecture and the lower method which lower cases all the text. "
   ]
  },
  {
   "cell_type": "code",
   "execution_count": 5,
   "metadata": {},
   "outputs": [
    {
     "name": "stdout",
     "output_type": "stream",
     "text": [
      "+------------------------------------------------------------------------------------------------+\n",
      "|Description                                                                                     |\n",
      "+------------------------------------------------------------------------------------------------+\n",
      "|combine a few key christmas flavours here to make a pie that both children and adults will adore|\n",
      "|an easy to make alternative to traditional christmas cakes which requires no beating            |\n",
      "+------------------------------------------------------------------------------------------------+\n",
      "only showing top 2 rows\n",
      "\n"
     ]
    }
   ],
   "source": [
    "############## Clean text ##############\n",
    "\n",
    "# Removing anything that is not a letter\n",
    "df_clean = df.withColumn(\"Description\",lower(regexp_replace(col('Description'), '[^A-Za-z ]+', ' ')))\n",
    "# Remove multiple spaces (because we replaced punctuation with a space)\n",
    "df_clean = df_clean.withColumn(\"Description\",regexp_replace(col('Description'), ' +', ' '))\n",
    "df_clean.select('Description').show(2,False)"
   ]
  },
  {
   "cell_type": "markdown",
   "metadata": {},
   "source": [
    "**Tokenize, remove stopwords and create a count vector**"
   ]
  },
  {
   "cell_type": "code",
   "execution_count": 29,
   "metadata": {},
   "outputs": [],
   "source": [
    "# Tokenize\n",
    "regex_tokenizer = RegexTokenizer(inputCol=\"Description\", outputCol=\"words\", pattern=\"\\\\W\")\n",
    "raw_words = regex_tokenizer.transform(df_clean)\n",
    "\n",
    "# Remove Stop words\n",
    "remover = StopWordsRemover(inputCol=\"words\", outputCol=\"filtered\")\n",
    "words_df = remover.transform(raw_words)\n",
    "\n",
    "# Create count vector\n",
    "cv = CountVectorizer(inputCol=\"filtered\", outputCol=\"features\")\n",
    "cvmodel = cv.fit(words_df)\n",
    "df_vect = cvmodel.transform(words_df)"
   ]
  },
  {
   "cell_type": "code",
   "execution_count": 7,
   "metadata": {},
   "outputs": [
    {
     "data": {
      "text/html": [
       "<div>\n",
       "<style scoped>\n",
       "    .dataframe tbody tr th:only-of-type {\n",
       "        vertical-align: middle;\n",
       "    }\n",
       "\n",
       "    .dataframe tbody tr th {\n",
       "        vertical-align: top;\n",
       "    }\n",
       "\n",
       "    .dataframe thead th {\n",
       "        text-align: right;\n",
       "    }\n",
       "</style>\n",
       "<table border=\"1\" class=\"dataframe\">\n",
       "  <thead>\n",
       "    <tr style=\"text-align: right;\">\n",
       "      <th></th>\n",
       "      <th>Author</th>\n",
       "      <th>Description</th>\n",
       "      <th>Ingredients</th>\n",
       "      <th>Method</th>\n",
       "      <th>Name</th>\n",
       "      <th>url</th>\n",
       "      <th>words</th>\n",
       "      <th>filtered</th>\n",
       "      <th>features</th>\n",
       "    </tr>\n",
       "  </thead>\n",
       "  <tbody>\n",
       "    <tr>\n",
       "      <td>0</td>\n",
       "      <td>Mary Cadogan</td>\n",
       "      <td>combine a few key christmas flavours here to m...</td>\n",
       "      <td>[2 tbsp olive oil, knob butter, 1 onion, finel...</td>\n",
       "      <td>[Heat oven to 190C/fan 170C/gas 5. Heat 1 tbsp...</td>\n",
       "      <td>Christmas pie</td>\n",
       "      <td>https://www.bbcgoodfood.com/recipes/2793/chris...</td>\n",
       "      <td>[combine, a, few, key, christmas, flavours, he...</td>\n",
       "      <td>[combine, key, christmas, flavours, make, pie,...</td>\n",
       "      <td>(1.0, 1.0, 0.0, 0.0, 0.0, 0.0, 0.0, 0.0, 0.0, ...</td>\n",
       "    </tr>\n",
       "    <tr>\n",
       "      <td>1</td>\n",
       "      <td>Mary Cadogan</td>\n",
       "      <td>an easy to make alternative to traditional chr...</td>\n",
       "      <td>[175g butter, chopped, 200g dark muscovado sug...</td>\n",
       "      <td>[Put the butter, sugar, fruit, zests, juice an...</td>\n",
       "      <td>Simmer-&amp;-stir Christmas cake</td>\n",
       "      <td>https://www.bbcgoodfood.com/recipes/1160/simme...</td>\n",
       "      <td>[an, easy, to, make, alternative, to, traditio...</td>\n",
       "      <td>[easy, make, alternative, traditional, christm...</td>\n",
       "      <td>(1.0, 1.0, 0.0, 0.0, 0.0, 0.0, 0.0, 1.0, 0.0, ...</td>\n",
       "    </tr>\n",
       "  </tbody>\n",
       "</table>\n",
       "</div>"
      ],
      "text/plain": [
       "         Author                                        Description  \\\n",
       "0  Mary Cadogan  combine a few key christmas flavours here to m...   \n",
       "1  Mary Cadogan  an easy to make alternative to traditional chr...   \n",
       "\n",
       "                                         Ingredients  \\\n",
       "0  [2 tbsp olive oil, knob butter, 1 onion, finel...   \n",
       "1  [175g butter, chopped, 200g dark muscovado sug...   \n",
       "\n",
       "                                              Method  \\\n",
       "0  [Heat oven to 190C/fan 170C/gas 5. Heat 1 tbsp...   \n",
       "1  [Put the butter, sugar, fruit, zests, juice an...   \n",
       "\n",
       "                           Name  \\\n",
       "0                 Christmas pie   \n",
       "1  Simmer-&-stir Christmas cake   \n",
       "\n",
       "                                                 url  \\\n",
       "0  https://www.bbcgoodfood.com/recipes/2793/chris...   \n",
       "1  https://www.bbcgoodfood.com/recipes/1160/simme...   \n",
       "\n",
       "                                               words  \\\n",
       "0  [combine, a, few, key, christmas, flavours, he...   \n",
       "1  [an, easy, to, make, alternative, to, traditio...   \n",
       "\n",
       "                                            filtered  \\\n",
       "0  [combine, key, christmas, flavours, make, pie,...   \n",
       "1  [easy, make, alternative, traditional, christm...   \n",
       "\n",
       "                                            features  \n",
       "0  (1.0, 1.0, 0.0, 0.0, 0.0, 0.0, 0.0, 0.0, 0.0, ...  \n",
       "1  (1.0, 1.0, 0.0, 0.0, 0.0, 0.0, 0.0, 1.0, 0.0, ...  "
      ]
     },
     "execution_count": 7,
     "metadata": {},
     "output_type": "execute_result"
    }
   ],
   "source": [
    "# View the new dataframe\n",
    "df_vect.limit(2).toPandas()"
   ]
  },
  {
   "cell_type": "markdown",
   "metadata": {},
   "source": [
    "## Determine Optimal K for LDA (similar approach to k-means)\n",
    "\n",
    "This portion is going to be more like our k-means analysis where we plot our results and look for the elbow except this time we will be using the following metrics (the only ones PySpark provides):\n",
    "\n",
    "**Log likelihood:** Calculates a lower bound on the log likelihood of the entire corpus. We want higher numbers here. See Equation (16) in the Online LDA paper (Hoffman et al., 2010).\n",
    "\n",
    "**Log Perplexity:** Calculate an upper bound on perplexity. See Equation (16) in the Online LDA paper (Hoffman et al., 2010). We want lower numbers here, however keep in mind that this evaluation metric is debatable as many have shown that, surprisingly, perplexity and human judgment are often not correlated, and even sometimes slightly anti-correlated. Here is one interesting paper here on the subject: http://qpleple.com/perplexity-to-evaluate-topic-models/"
   ]
  },
  {
   "cell_type": "code",
   "execution_count": null,
   "metadata": {},
   "outputs": [],
   "source": [
    "# Dependencies for this section\n",
    "import numpy as np\n",
    "import matplotlib.pyplot as plt\n",
    "from mpl_toolkits.mplot3d import Axes3D"
   ]
  },
  {
   "cell_type": "code",
   "execution_count": 11,
   "metadata": {},
   "outputs": [],
   "source": [
    "kmax = 30\n",
    "ll = np.zeros(kmax)\n",
    "lp = np.zeros(kmax)\n",
    "for k in range(2,kmax):\n",
    "    lda = LDA(k=k, maxIter=10)\n",
    "    model = lda.fit(df_vect)\n",
    "    ll[k] = model.logLikelihood(df_vect)\n",
    "    lp[k] = model.logPerplexity(df_vect)"
   ]
  },
  {
   "cell_type": "code",
   "execution_count": 13,
   "metadata": {},
   "outputs": [
    {
     "data": {
      "text/plain": [
       "Text(0, 0.5, 'lp')"
      ]
     },
     "execution_count": 13,
     "metadata": {},
     "output_type": "execute_result"
    },
    {
     "data": {
      "image/png": "[encoded data removed]",
      "text/plain": [
       "<Figure size 576x432 with 1 Axes>"
      ]
     },
     "metadata": {
      "needs_background": "light"
     },
     "output_type": "display_data"
    },
    {
     "data": {
      "image/png": "[encoded data removed]",
      "text/plain": [
       "<Figure size 576x432 with 1 Axes>"
      ]
     },
     "metadata": {
      "needs_background": "light"
     },
     "output_type": "display_data"
    }
   ],
   "source": [
    "fig, ax = plt.subplots(1,1, figsize =(8,6))\n",
    "ax.plot(range(2,kmax),ll[2:kmax])\n",
    "ax.set_xlabel('k')\n",
    "ax.set_ylabel('ll')\n",
    "\n",
    "fig, ax = plt.subplots(1,1, figsize =(8,6))\n",
    "ax.plot(range(2,kmax),lp[2:kmax])\n",
    "ax.set_xlabel('k')\n",
    "ax.set_ylabel('lp')"
   ]
  },
  {
   "cell_type": "markdown",
   "metadata": {},
   "source": [
    "### Conclusions from graph output obove\n",
    "Looks like in both cases (ll and lp) our model gets worse as k increases. So let's go with a low number of k. I'm going to go with 4 for the purpose of demonstration but we might want to play around with this a bit in a real analysis.\n",
    "\n",
    "\n",
    "## Train your Final LDA Model using preferred K"
   ]
  },
  {
   "cell_type": "code",
   "execution_count": 25,
   "metadata": {},
   "outputs": [],
   "source": [
    "# Trains a LDA model.\n",
    "lda = LDA(k=4, maxIter=10)\n",
    "model = lda.fit(df_vect)"
   ]
  },
  {
   "cell_type": "code",
   "execution_count": 31,
   "metadata": {},
   "outputs": [
    {
     "name": "stdout",
     "output_type": "stream",
     "text": [
      " \n",
      "TOPIC: 0\n",
      "side\n",
      "dish\n",
      "perfect\n",
      "christmas\n",
      "make\n",
      " \n",
      "TOPIC: 1\n",
      "perfect\n",
      "main\n",
      "sharing\n",
      "well\n",
      "vegetarian\n",
      " \n",
      "TOPIC: 2\n",
      "christmas\n",
      "make\n",
      "recipe\n",
      "easy\n",
      "made\n",
      " \n",
      "TOPIC: 3\n",
      "please\n",
      "easier\n",
      "much\n",
      "sausage\n",
      "cinnamon\n"
     ]
    }
   ],
   "source": [
    "topics = model.describeTopics(maxTermsPerTopic = 5)\n",
    "topics = topics.collect()\n",
    "vocablist = cvmodel.vocabulary\n",
    "\n",
    "for x, topic in enumerate(topics):\n",
    "    print(\" \")\n",
    "    print('TOPIC: ' + str(x))\n",
    "    topic = topics\n",
    "    words = topic[x][1]\n",
    "    for n in range(len(words)):\n",
    "        print(cvmodel.vocabulary[words[n]])"
   ]
  },
  {
   "cell_type": "code",
   "execution_count": null,
   "metadata": {},
   "outputs": [],
   "source": [
    "transformed = model.transform(df_vect)\n",
    "\n",
    "to_array = udf(lambda x: x.toArray().tolist(), ArrayType(DoubleType()))\n",
    "recommendations = transformed.withColumn('array',to_array('topicDistribution'))\n",
    "\n",
    "recommendations.limit(5).toPandas()"
   ]
  },
  {
   "cell_type": "code",
   "execution_count": null,
   "metadata": {},
   "outputs": [],
   "source": []
  }
 ],
 "metadata": {
  "kernelspec": {
   "display_name": "Python 3",
   "language": "python",
   "name": "python3"
  },
  "language_info": {
   "codemirror_mode": {
    "name": "ipython",
    "version": 3
   },
   "file_extension": ".py",
   "mimetype": "text/x-python",
   "name": "python",
   "nbconvert_exporter": "python",
   "pygments_lexer": "ipython3",
   "version": "3.7.4"
  }
 },
 "nbformat": 4,
 "nbformat_minor": 2
}
