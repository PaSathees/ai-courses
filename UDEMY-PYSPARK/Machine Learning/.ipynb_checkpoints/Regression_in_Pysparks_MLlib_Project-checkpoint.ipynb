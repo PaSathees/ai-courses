{
 "cells": [
  {
   "cell_type": "markdown",
   "metadata": {},
   "source": [
    "# Regression in PySpark's MLlib Project\n",
    "\n",
    "Now it's time to put what you've learned to into action with a REAL project! \n",
    "\n",
    "You have been hired as a consultant to a cement production company who wants to be able to improve their customer experience around a number of areas like being able to provide recommendations to cusomters on optimal amounts of certian ingredients in the cement making process and perhaps even create an application where users can input their own values and received a predicted cement strength!\n",
    "\n",
    "I have provided a list of question below to help guide you through this project but feel free to deviate and make this project your own! But first, a bit about this dataset.\n",
    "\n",
    "### About this dataset \n",
    "This dataset contains 1030 instances of concrete samples, containing 9 attributes (8 continuous and 1 discreate), and 1 continuous quantitative output variable. There are no missing attribute values.\n",
    "\n",
    "### Attribute Information:\n",
    "\n",
    "Given are the variable name, variable type, the measurement unit and a brief description. The concrete compressive strength is the outcome variable. The order of this listing corresponds to the order of numerals along the rows of the database.\n",
    "\n",
    "Name -- Data Type -- Measurement -- Description\n",
    "\n",
    "- Cement -- quantitative -- kg in a m3 mixture -- Input Variable \n",
    "- Blast Furnace Slag -- quantitative -- kg in a m3 mixture -- Input Variable \n",
    "- Fly Ash -- quantitative -- kg in a m3 mixture -- Input Variable \n",
    "- Water -- quantitative -- kg in a m3 mixture -- Input Variable \n",
    "- Superplasticizer -- quantitative -- kg in a m3 mixture -- Input Variable \n",
    "- Coarse Aggregate -- quantitative -- kg in a m3 mixture -- Input Variable \n",
    "- Fine Aggregate -- quantitative -- kg in a m3 mixture -- Input Variable \n",
    "- Age -- quantitative -- Day (1~365) -- Input Variable \n",
    "- Concrete compressive strength -- quantitative -- MPa -- Output Variable\n",
    "\n",
    "**Source:** https://www.kaggle.com/maajdl/yeh-concret-data\n",
    "\n",
    "**Dataset Name:** Concrete_Data.csv"
   ]
  },
  {
   "cell_type": "markdown",
   "metadata": {},
   "source": [
    "## 1. Which features are the strongest predictors of cement strength?\n",
    "\n",
    "Build your own ML model to figure this one out! This would be good information to give to our client so the sales reps can focus their efforts on certian ingredients to provide recommendations on. For example, if our clients had a customer that was struggling with their cement breaking, we could trouble shoot with them by starting with the factors that we know are important. "
   ]
  },
  {
   "cell_type": "markdown",
   "metadata": {},
   "source": [
    "## 2. For the following given inputs, what would be the estimated cement strength?\n",
    "\n",
    "- Cement: 540\n",
    "- Blast Furnace Slag: 0\n",
    "- Fly Ash: 0\n",
    "- Water: 162\n",
    "- Superplasticizer: 2.5\n",
    "- Coarse Aggregate: 1040\n",
    "- Fine Aggregate: 676\n",
    "- Age: 28\n",
    "\n",
    "The correct answer is 79.99. Let's how close your prediction is!"
   ]
  },
  {
   "cell_type": "markdown",
   "metadata": {},
   "source": [
    "## 3. Now see if you can ask users to input their own value for Age and return a predicted value for the cement stength. \n",
    "\n",
    "We did not cover this is in the lecture so you'll have to put your thinking cap on. Accepting user input in PySpark works just like it does in traditional Python.\n",
    "<br>\n",
    "\n",
    "val = input(\"Enter your value: \") "
   ]
  },
  {
   "cell_type": "markdown",
   "metadata": {},
   "source": [
    "## 4. Make recommendations of optimal values for cement ingredients (our features)\n",
    "\n",
    "See if you can find the optimal amount of cement to recommend holding the rest of the values from the previous question constant, assuming that the higher the cement strength value the better. "
   ]
  }
 ],
 "metadata": {
  "kernelspec": {
   "display_name": "Python 3",
   "language": "python",
   "name": "python3"
  },
  "language_info": {
   "codemirror_mode": {
    "name": "ipython",
    "version": 3
   },
   "file_extension": ".py",
   "mimetype": "text/x-python",
   "name": "python",
   "nbconvert_exporter": "python",
   "pygments_lexer": "ipython3",
   "version": "3.7.4"
  }
 },
 "nbformat": 4,
 "nbformat_minor": 2
}
