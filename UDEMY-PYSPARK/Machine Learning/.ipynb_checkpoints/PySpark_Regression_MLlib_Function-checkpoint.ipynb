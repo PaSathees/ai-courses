{
 "cells": [
  {
   "cell_type": "markdown",
   "metadata": {},
   "source": [
    "# Supervised Machine Learning in PySpark\n",
    "\n",
    "Intro\n",
    "\n",
    "Cover basic structure, training and validation split, model selection, pipelines, Cross validation"
   ]
  },
  {
   "cell_type": "markdown",
   "metadata": {},
   "source": [
    "## Regression\n",
    "\n",
    "**Note:**\n",
    "We did not include Generalized Linear Regression here since it requires a much different implementation method and evaluation strategy than most regressions. "
   ]
  },
  {
   "cell_type": "markdown",
   "metadata": {},
   "source": [
    "## Import necessary libraries"
   ]
  },
  {
   "cell_type": "code",
   "execution_count": null,
   "metadata": {},
   "outputs": [],
   "source": [
    "from pyspark.ml.feature import VectorAssembler\n"
   ]
  },
  {
   "cell_type": "markdown",
   "metadata": {},
   "source": [
    "## Format Data \n",
    "\n",
    "MLlib requires all input columns of your dataframe to be vectorized. You will see that we rename our dependent var to label as that is what is expected for all MLlib applications. If rename once here, we never have to do it again!"
   ]
  },
  {
   "cell_type": "code",
   "execution_count": 41,
   "metadata": {},
   "outputs": [],
   "source": [
    "# Declare data prep function\n",
    "\n",
    "def MLRegressDFPrep(df,input_columns,dependent_var):\n",
    "    assembler = VectorAssembler(inputCols=input_columns,outputCol='features')\n",
    "    output = assembler.transform(df)\n",
    "    renamed = output.withColumnRenamed(dependent_var,'label')\n",
    "    final_data = renamed.select('features','label')\n",
    "    \n",
    "    return final_data"
   ]
  },
  {
   "cell_type": "code",
   "execution_count": 42,
   "metadata": {},
   "outputs": [
    {
     "name": "stdout",
     "output_type": "stream",
     "text": [
      "+--------------------+-----+\n",
      "|            features|label|\n",
      "+--------------------+-----+\n",
      "|[72.2,144.0,14.4,...|   96|\n",
      "|[12.5,120.0,12.2,...|   80|\n",
      "|[10.8,108.0,10.8,...|   72|\n",
      "| [7.8,78.0,7.8,49.0]|   52|\n",
      "|[14.55,145.0,14.5...|   97|\n",
      "+--------------------+-----+\n",
      "only showing top 5 rows\n",
      "\n"
     ]
    }
   ],
   "source": [
    "df = spark.createDataFrame([(96,72.2,144,14.4,19),\n",
    "                            (80,12.5,120,12.2,68),\n",
    "                            (72,10.8,108,10.8,36),\n",
    "                            (52,7.8,78,7.8,49),\n",
    "                            (97,14.55,145,14.55,63),\n",
    "                            (42,6.3,63,6.3,61),\n",
    "                            (20,3.7,30,3.4,22),\n",
    "                            (5,0.75,7,0.75,24),\n",
    "                            (89,13.35,133,13.35,63),\n",
    "                            (19,2.85,28,2.85,26)], \n",
    "                           ['sales_m', 'advertising_k','employees','locations','compage'])\n",
    "\n",
    "input_columns = ['advertising_k','employees','locations','compage']\n",
    "dependent_var = 'sales_m'\n",
    "\n",
    "final_data = MLRegressDFPrep(df,input_columns,dependent_var)\n",
    "final_data.show(5)\n",
    "train,test = final_data.randomSplit([0.7,0.3])"
   ]
  },
  {
   "cell_type": "code",
   "execution_count": 33,
   "metadata": {},
   "outputs": [],
   "source": [
    "from pyspark.ml.regression import *\n",
    "from pyspark.ml.evaluation import *\n",
    "\n",
    "def RegressTrainEval(regressor):\n",
    "\n",
    "    def FindMtype(regressor):\n",
    "        # Intstantiate Model\n",
    "        M = regressor\n",
    "        # Learn what it is\n",
    "        Mtype = type(M).__name__\n",
    "        \n",
    "        return Mtype\n",
    "    \n",
    "    Mtype = FindMtype(regressor)\n",
    "    print(Mtype)\n",
    "\n",
    "\n",
    "#     def Evaluate(Mtype,classifier):\n",
    "\n",
    "    if Mtype == \"LinearRegression\":\n",
    "\n",
    "        # Fit our model\n",
    "        fitModel = regressor.fit(train)\n",
    "\n",
    "        # Load the Summary\n",
    "        trainingSummary = fitModel.summary\n",
    "        \n",
    "        # Print the coefficients and intercept for linear regression\n",
    "        print(\"Coefficients: %s\" % str(fitModel.coefficients))\n",
    "        print(\"Intercept: %s\" % str(fitModel.intercept))\n",
    "        print(\"\")\n",
    "\n",
    "        # Summarize the model over the training set and print out some metrics\n",
    "        print(\"numIterations: %d\" % trainingSummary.totalIterations)\n",
    "        print(\"objectiveHistory: %s\" % str(trainingSummary.objectiveHistory))\n",
    "        print(\"\")\n",
    "        \n",
    "        # Print the Errors\n",
    "        print(\"Training RMSE: %f\" % trainingSummary.rootMeanSquaredError)\n",
    "        print(\"Training r2: %f\" % trainingSummary.r2)\n",
    "        print(\"\")\n",
    "\n",
    "        # Now load the test results\n",
    "        test_results = fitModel.evaluate(test)\n",
    "\n",
    "        # And print them\n",
    "        print(\"Test RMSE: {}\".format(test_results.rootMeanSquaredError))\n",
    "        print(\"Test r2: {}\".format(test_results.r2))\n",
    "        print(\"\")\n",
    "\n",
    "    else:\n",
    "        \n",
    "        # Fit our model\n",
    "        fitModel = regressor.fit(train)\n",
    "                    \n",
    "        # Make predictions.\n",
    "        predictions = fitModel.transform(test)\n",
    "        # Select (prediction, true label) and compute test error\n",
    "        evaluator = RegressionEvaluator(metricName=\"rmse\")\n",
    "        rmse = evaluator.evaluate(predictions)\n",
    "        print(\"Root Mean Squared Error (RMSE) on test data = %g\" % rmse)\n",
    "        print(\"\")"
   ]
  },
  {
   "cell_type": "code",
   "execution_count": 34,
   "metadata": {},
   "outputs": [
    {
     "name": "stdout",
     "output_type": "stream",
     "text": [
      "LinearRegression\n",
      "Coefficients: [-0.4903672321785257,1.2264876672553044,-0.9743544462783574,1.8766639577498148,0.6671339513374913,1.7730018647921157,-0.10889904866592723,-0.030261305723280115,-0.7796826355203386,0.20381413983516675]\n",
      "Intercept: -0.021291243629179005\n",
      "\n",
      "numIterations: 1\n",
      "objectiveHistory: [0.0]\n",
      "\n",
      "Training RMSE: 9.849372\n",
      "Training r2: 0.032913\n",
      "\n",
      "Test RMSE: 10.933152836069855\n",
      "Test r2: -0.0007608531921694528\n",
      "\n",
      "RandomForestRegressor\n",
      "Root Mean Squared Error (RMSE) on test data = 11.0362\n",
      "\n",
      "GBTRegressor\n",
      "Root Mean Squared Error (RMSE) on test data = 13.2638\n",
      "\n",
      "DecisionTreeRegressor\n",
      "Root Mean Squared Error (RMSE) on test data = 12.2536\n",
      "\n"
     ]
    }
   ],
   "source": [
    "# Run!\n",
    "from pyspark.ml.classification import *\n",
    "from pyspark.ml.evaluation import *\n",
    "from pyspark.sql import functions as F\n",
    "\n",
    "regressors = [LinearRegression()\n",
    "              ,RandomForestRegressor(),GBTRegressor(),DecisionTreeRegressor()] \n",
    "    \n",
    "for regressor in regressors:\n",
    "    RegressTrainEval(regressor)"
   ]
  }
 ],
 "metadata": {
  "kernelspec": {
   "display_name": "Python 3",
   "language": "python",
   "name": "python3"
  },
  "language_info": {
   "codemirror_mode": {
    "name": "ipython",
    "version": 3
   },
   "file_extension": ".py",
   "mimetype": "text/x-python",
   "name": "python",
   "nbconvert_exporter": "python",
   "pygments_lexer": "ipython3",
   "version": "3.6.5"
  }
 },
 "nbformat": 4,
 "nbformat_minor": 2
}
