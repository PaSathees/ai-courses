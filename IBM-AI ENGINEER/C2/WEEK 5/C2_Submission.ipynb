{
 "cells": [
  {
   "cell_type": "markdown",
   "id": "8fef22af-1537-48a7-b682-f555a8b1e4a3",
   "metadata": {},
   "source": [
    "# Part A"
   ]
  },
  {
   "cell_type": "code",
   "execution_count": 38,
   "id": "fb55a7d7-24e4-41a2-99b0-52653c9324e3",
   "metadata": {},
   "outputs": [],
   "source": [
    "import pandas as pd\n",
    "import numpy as np\n",
    "from sklearn.model_selection import train_test_split\n",
    "import keras\n",
    "from keras.models import Sequential\n",
    "from keras.layers import Dense\n",
    "import sklearn.metrics as metrics"
   ]
  },
  {
   "cell_type": "code",
   "execution_count": 39,
   "id": "a975575d-6b7a-4eca-806a-2ec0f4d2e891",
   "metadata": {},
   "outputs": [
    {
     "data": {
      "text/html": [
       "<div>\n",
       "<style scoped>\n",
       "    .dataframe tbody tr th:only-of-type {\n",
       "        vertical-align: middle;\n",
       "    }\n",
       "\n",
       "    .dataframe tbody tr th {\n",
       "        vertical-align: top;\n",
       "    }\n",
       "\n",
       "    .dataframe thead th {\n",
       "        text-align: right;\n",
       "    }\n",
       "</style>\n",
       "<table border=\"1\" class=\"dataframe\">\n",
       "  <thead>\n",
       "    <tr style=\"text-align: right;\">\n",
       "      <th></th>\n",
       "      <th>Cement</th>\n",
       "      <th>Blast Furnace Slag</th>\n",
       "      <th>Fly Ash</th>\n",
       "      <th>Water</th>\n",
       "      <th>Superplasticizer</th>\n",
       "      <th>Coarse Aggregate</th>\n",
       "      <th>Fine Aggregate</th>\n",
       "      <th>Age</th>\n",
       "      <th>Strength</th>\n",
       "    </tr>\n",
       "  </thead>\n",
       "  <tbody>\n",
       "    <tr>\n",
       "      <th>0</th>\n",
       "      <td>540.0</td>\n",
       "      <td>0.0</td>\n",
       "      <td>0.0</td>\n",
       "      <td>162.0</td>\n",
       "      <td>2.5</td>\n",
       "      <td>1040.0</td>\n",
       "      <td>676.0</td>\n",
       "      <td>28</td>\n",
       "      <td>79.99</td>\n",
       "    </tr>\n",
       "    <tr>\n",
       "      <th>1</th>\n",
       "      <td>540.0</td>\n",
       "      <td>0.0</td>\n",
       "      <td>0.0</td>\n",
       "      <td>162.0</td>\n",
       "      <td>2.5</td>\n",
       "      <td>1055.0</td>\n",
       "      <td>676.0</td>\n",
       "      <td>28</td>\n",
       "      <td>61.89</td>\n",
       "    </tr>\n",
       "    <tr>\n",
       "      <th>2</th>\n",
       "      <td>332.5</td>\n",
       "      <td>142.5</td>\n",
       "      <td>0.0</td>\n",
       "      <td>228.0</td>\n",
       "      <td>0.0</td>\n",
       "      <td>932.0</td>\n",
       "      <td>594.0</td>\n",
       "      <td>270</td>\n",
       "      <td>40.27</td>\n",
       "    </tr>\n",
       "    <tr>\n",
       "      <th>3</th>\n",
       "      <td>332.5</td>\n",
       "      <td>142.5</td>\n",
       "      <td>0.0</td>\n",
       "      <td>228.0</td>\n",
       "      <td>0.0</td>\n",
       "      <td>932.0</td>\n",
       "      <td>594.0</td>\n",
       "      <td>365</td>\n",
       "      <td>41.05</td>\n",
       "    </tr>\n",
       "    <tr>\n",
       "      <th>4</th>\n",
       "      <td>198.6</td>\n",
       "      <td>132.4</td>\n",
       "      <td>0.0</td>\n",
       "      <td>192.0</td>\n",
       "      <td>0.0</td>\n",
       "      <td>978.4</td>\n",
       "      <td>825.5</td>\n",
       "      <td>360</td>\n",
       "      <td>44.30</td>\n",
       "    </tr>\n",
       "  </tbody>\n",
       "</table>\n",
       "</div>"
      ],
      "text/plain": [
       "   Cement  Blast Furnace Slag  Fly Ash  Water  Superplasticizer  \\\n",
       "0   540.0                 0.0      0.0  162.0               2.5   \n",
       "1   540.0                 0.0      0.0  162.0               2.5   \n",
       "2   332.5               142.5      0.0  228.0               0.0   \n",
       "3   332.5               142.5      0.0  228.0               0.0   \n",
       "4   198.6               132.4      0.0  192.0               0.0   \n",
       "\n",
       "   Coarse Aggregate  Fine Aggregate  Age  Strength  \n",
       "0            1040.0           676.0   28     79.99  \n",
       "1            1055.0           676.0   28     61.89  \n",
       "2             932.0           594.0  270     40.27  \n",
       "3             932.0           594.0  365     41.05  \n",
       "4             978.4           825.5  360     44.30  "
      ]
     },
     "execution_count": 39,
     "metadata": {},
     "output_type": "execute_result"
    }
   ],
   "source": [
    "concrete_data = pd.read_csv('https://s3-api.us-geo.objectstorage.softlayer.net/cf-courses-data/CognitiveClass/DL0101EN/labs/data/concrete_data.csv')\n",
    "concrete_data.head()"
   ]
  },
  {
   "cell_type": "code",
   "execution_count": 40,
   "id": "720cd7d8-bf39-48c1-a0b1-095a8c608b8f",
   "metadata": {},
   "outputs": [],
   "source": [
    "concrete_data_columns = concrete_data.columns\n",
    "predictors = concrete_data[concrete_data_columns[concrete_data_columns != 'Strength']]\n",
    "target = concrete_data['Strength']\n",
    "\n",
    "# splitting dataset\n",
    "predictor_train, predictor_test, target_train, target_test = train_test_split(predictors, target, test_size=.3, random_state=10)"
   ]
  },
  {
   "cell_type": "code",
   "execution_count": 41,
   "id": "0fd6127a-31a1-4a29-bd03-43a10c7b3f11",
   "metadata": {},
   "outputs": [],
   "source": [
    "# get number of predictors\n",
    "n_cols = predictors.shape[1]"
   ]
  },
  {
   "cell_type": "code",
   "execution_count": 42,
   "id": "d81470be-a84a-4f4c-ab00-4e38924f0a67",
   "metadata": {},
   "outputs": [
    {
     "name": "stdout",
     "output_type": "stream",
     "text": [
      "Epoch 1/50\n",
      "721/721 [==============================] - 11s 16ms/step - loss: 22237.4526\n",
      "Epoch 2/50\n",
      "721/721 [==============================] - 0s 145us/step - loss: 3849.8880\n",
      "Epoch 3/50\n",
      "721/721 [==============================] - 0s 196us/step - loss: 3298.3893\n",
      "Epoch 4/50\n",
      "721/721 [==============================] - 0s 183us/step - loss: 2985.8130\n",
      "Epoch 5/50\n",
      "721/721 [==============================] - 0s 150us/step - loss: 2801.4618\n",
      "Epoch 6/50\n",
      "721/721 [==============================] - 0s 164us/step - loss: 2621.8163\n",
      "Epoch 7/50\n",
      "721/721 [==============================] - 0s 153us/step - loss: 2450.3163\n",
      "Epoch 8/50\n",
      "721/721 [==============================] - 0s 141us/step - loss: 2284.4824\n",
      "Epoch 9/50\n",
      "721/721 [==============================] - 0s 139us/step - loss: 2146.3372\n",
      "Epoch 10/50\n",
      "721/721 [==============================] - 0s 136us/step - loss: 2030.9945\n",
      "Epoch 11/50\n",
      "721/721 [==============================] - 0s 140us/step - loss: 1917.4912\n",
      "Epoch 12/50\n",
      "721/721 [==============================] - 0s 193us/step - loss: 1820.6024\n",
      "Epoch 13/50\n",
      "721/721 [==============================] - 0s 131us/step - loss: 1737.5359\n",
      "Epoch 14/50\n",
      "721/721 [==============================] - 0s 141us/step - loss: 1654.5209\n",
      "Epoch 15/50\n",
      "721/721 [==============================] - 0s 153us/step - loss: 1574.6980\n",
      "Epoch 16/50\n",
      "721/721 [==============================] - 0s 129us/step - loss: 1501.2765\n",
      "Epoch 17/50\n",
      "721/721 [==============================] - 0s 136us/step - loss: 1426.4747\n",
      "Epoch 18/50\n",
      "721/721 [==============================] - 0s 148us/step - loss: 1361.4588\n",
      "Epoch 19/50\n",
      "721/721 [==============================] - 0s 134us/step - loss: 1296.6494\n",
      "Epoch 20/50\n",
      "721/721 [==============================] - 0s 130us/step - loss: 1232.2056\n",
      "Epoch 21/50\n",
      "721/721 [==============================] - 0s 125us/step - loss: 1171.8512\n",
      "Epoch 22/50\n",
      "721/721 [==============================] - 0s 136us/step - loss: 1112.1704\n",
      "Epoch 23/50\n",
      "721/721 [==============================] - 0s 139us/step - loss: 1062.1896\n",
      "Epoch 24/50\n",
      "721/721 [==============================] - 0s 141us/step - loss: 1013.9155\n",
      "Epoch 25/50\n",
      "721/721 [==============================] - 0s 152us/step - loss: 954.1276\n",
      "Epoch 26/50\n",
      "721/721 [==============================] - 0s 232us/step - loss: 906.7186\n",
      "Epoch 27/50\n",
      "721/721 [==============================] - 0s 232us/step - loss: 854.8445\n",
      "Epoch 28/50\n",
      "721/721 [==============================] - 0s 277us/step - loss: 808.3194\n",
      "Epoch 29/50\n",
      "721/721 [==============================] - 0s 125us/step - loss: 768.7244\n",
      "Epoch 30/50\n",
      "721/721 [==============================] - 0s 319us/step - loss: 723.6155\n",
      "Epoch 31/50\n",
      "721/721 [==============================] - 0s 304us/step - loss: 685.8645\n",
      "Epoch 32/50\n",
      "721/721 [==============================] - 0s 251us/step - loss: 646.9320\n",
      "Epoch 33/50\n",
      "721/721 [==============================] - 0s 131us/step - loss: 613.8519\n",
      "Epoch 34/50\n",
      "721/721 [==============================] - 0s 120us/step - loss: 576.1873\n",
      "Epoch 35/50\n",
      "721/721 [==============================] - 0s 125us/step - loss: 546.5615\n",
      "Epoch 36/50\n",
      "721/721 [==============================] - 0s 137us/step - loss: 515.2550\n",
      "Epoch 37/50\n",
      "721/721 [==============================] - 0s 145us/step - loss: 487.2093\n",
      "Epoch 38/50\n",
      "721/721 [==============================] - 0s 134us/step - loss: 461.3193\n",
      "Epoch 39/50\n",
      "721/721 [==============================] - 0s 137us/step - loss: 435.8577\n",
      "Epoch 40/50\n",
      "721/721 [==============================] - 0s 142us/step - loss: 418.1067\n",
      "Epoch 41/50\n",
      "721/721 [==============================] - 0s 143us/step - loss: 391.6929\n",
      "Epoch 42/50\n",
      "721/721 [==============================] - 0s 135us/step - loss: 372.0950\n",
      "Epoch 43/50\n",
      "721/721 [==============================] - 0s 134us/step - loss: 354.6083\n",
      "Epoch 44/50\n",
      "721/721 [==============================] - 0s 122us/step - loss: 337.2940\n",
      "Epoch 45/50\n",
      "721/721 [==============================] - 0s 185us/step - loss: 320.5756\n",
      "Epoch 46/50\n",
      "721/721 [==============================] - 0s 135us/step - loss: 305.9036\n",
      "Epoch 47/50\n",
      "721/721 [==============================] - 0s 141us/step - loss: 290.1368\n",
      "Epoch 48/50\n",
      "721/721 [==============================] - 0s 129us/step - loss: 278.3579\n",
      "Epoch 49/50\n",
      "721/721 [==============================] - 0s 134us/step - loss: 269.2143\n",
      "Epoch 50/50\n",
      "721/721 [==============================] - 0s 125us/step - loss: 256.1807\n"
     ]
    },
    {
     "data": {
      "text/plain": [
       "<keras.callbacks.History at 0x7fbee34cf190>"
      ]
     },
     "execution_count": 42,
     "metadata": {},
     "output_type": "execute_result"
    }
   ],
   "source": [
    "# building model\n",
    "def create_regression_model():\n",
    "    model = Sequential()\n",
    "    model.add(Dense(10, activation='relu', input_shape=(n_cols,)))\n",
    "    model.add(Dense(1))\n",
    "    \n",
    "    model.compile(optimizer=\"adam\", loss=\"mean_squared_error\")\n",
    "    return model\n",
    "    \n",
    "model = create_regression_model()\n",
    "model.fit(predictor_train, target_train, epochs=50)"
   ]
  },
  {
   "cell_type": "code",
   "execution_count": 43,
   "id": "2a8fe7bd-8105-428a-aca3-8e855331443d",
   "metadata": {},
   "outputs": [],
   "source": [
    "predictions = model.predict(predictor_test)"
   ]
  },
  {
   "cell_type": "code",
   "execution_count": 44,
   "id": "5d638bb9-c3c6-4714-8b24-4b41ade449e6",
   "metadata": {},
   "outputs": [
    {
     "data": {
      "text/plain": [
       "237.9843723016506"
      ]
     },
     "execution_count": 44,
     "metadata": {},
     "output_type": "execute_result"
    }
   ],
   "source": [
    "mse = metrics.mean_squared_error(predictions, target_test)\n",
    "mse"
   ]
  },
  {
   "cell_type": "code",
   "execution_count": 45,
   "id": "b9ba6316-5140-4287-974e-215cdec5e594",
   "metadata": {},
   "outputs": [],
   "source": [
    "# run 50 times\n",
    "mses = []\n",
    "for i in range(0, 50):\n",
    "    # splitting dataset\n",
    "    predictor_train, predictor_test, target_train, target_test = train_test_split(predictors, target, test_size=.3, random_state=10)\n",
    "    \n",
    "    # get number of predictors\n",
    "    n_cols = predictors.shape[1]\n",
    "    \n",
    "    # building model\n",
    "    model = create_regression_model()\n",
    "    model.fit(predictor_train, target_train, epochs=50, verbose=0)\n",
    "    \n",
    "    # prediction and evaluations\n",
    "    predictions = model.predict(predictor_test)\n",
    "    mse = metrics.mean_squared_error(predictions, target_test)\n",
    "    mses.append(mse)    "
   ]
  },
  {
   "cell_type": "code",
   "execution_count": 46,
   "id": "cd642144-33a1-466b-b544-a53610c8cfc1",
   "metadata": {},
   "outputs": [
    {
     "name": "stdout",
     "output_type": "stream",
     "text": [
      "Mean: 266.1547371128356 STD: 323.54817307902005\n"
     ]
    }
   ],
   "source": [
    "# mean and std of MSE\n",
    "print(f\"Mean: {np.mean(mses)} STD: {np.std(mses)}\")"
   ]
  },
  {
   "cell_type": "markdown",
   "id": "6f5f6f57-1cfe-43fc-be1e-a5e94043301e",
   "metadata": {},
   "source": [
    "# Part B"
   ]
  },
  {
   "cell_type": "code",
   "execution_count": 47,
   "id": "181750ee-14d4-4e85-afa7-66a16f838fa3",
   "metadata": {},
   "outputs": [],
   "source": [
    "# normalizing data\n",
    "predictors_norm = (predictors - predictors.mean()) / predictors.std()"
   ]
  },
  {
   "cell_type": "code",
   "execution_count": 48,
   "id": "e6f1a659-fc84-42da-ae9f-d6e5d42d3755",
   "metadata": {},
   "outputs": [],
   "source": [
    "# run 50 times with normalized data\n",
    "mses = []\n",
    "for i in range(0, 50):\n",
    "    # splitting dataset\n",
    "    predictor_train, predictor_test, target_train, target_test = train_test_split(predictors_norm, target, test_size=.3, random_state=10)\n",
    "    \n",
    "    # get number of predictors\n",
    "    n_cols = predictors_norm.shape[1]\n",
    "    \n",
    "    # building model\n",
    "    model = create_regression_model()\n",
    "    model.fit(predictor_train, target_train, epochs=50, verbose=0)\n",
    "    \n",
    "    # prediction and evaluations\n",
    "    predictions = model.predict(predictor_test)\n",
    "    mse = metrics.mean_squared_error(predictions, target_test)\n",
    "    mses.append(mse)    "
   ]
  },
  {
   "cell_type": "code",
   "execution_count": 49,
   "id": "790fcd0c-1141-4f85-a213-cc9bb965039f",
   "metadata": {},
   "outputs": [
    {
     "name": "stdout",
     "output_type": "stream",
     "text": [
      "Mean: 343.94482231120475 STD: 79.68687870358303\n"
     ]
    }
   ],
   "source": [
    "# mean and std of MSE\n",
    "print(f\"Mean: {np.mean(mses)} STD: {np.std(mses)}\")"
   ]
  },
  {
   "cell_type": "markdown",
   "id": "8cc0a9a2-66db-42ee-b309-52b2517fcaa3",
   "metadata": {},
   "source": [
    "Mean MSE has dropped significantly when normalized"
   ]
  },
  {
   "cell_type": "markdown",
   "id": "dc4bcd29-b315-4428-81e5-a6673853bd20",
   "metadata": {},
   "source": [
    "# Part C"
   ]
  },
  {
   "cell_type": "code",
   "execution_count": 50,
   "id": "3f6c7b2a-3c58-494f-b0db-b64d5c655639",
   "metadata": {},
   "outputs": [],
   "source": [
    "# run 50 times with normalized data and 100 epochs\n",
    "mses = []\n",
    "for i in range(0, 50):\n",
    "    # splitting dataset\n",
    "    predictor_train, predictor_test, target_train, target_test = train_test_split(predictors_norm, target, test_size=.3, random_state=10)\n",
    "    \n",
    "    # get number of predictors\n",
    "    n_cols = predictors_norm.shape[1]\n",
    "    \n",
    "    # building model\n",
    "    model = create_regression_model()\n",
    "    model.fit(predictor_train, target_train, epochs=100, verbose=0)\n",
    "    \n",
    "    # prediction and evaluations\n",
    "    predictions = model.predict(predictor_test)\n",
    "    mse = metrics.mean_squared_error(predictions, target_test)\n",
    "    mses.append(mse)    "
   ]
  },
  {
   "cell_type": "code",
   "execution_count": 51,
   "id": "93ea1c5a-f63a-45f7-80d8-c05e7605b8a9",
   "metadata": {},
   "outputs": [
    {
     "name": "stdout",
     "output_type": "stream",
     "text": [
      "Mean: 152.54062011844252 STD: 11.942354523814046\n"
     ]
    }
   ],
   "source": [
    "# mean and std of MSE\n",
    "print(f\"Mean: {np.mean(mses)} STD: {np.std(mses)}\")"
   ]
  },
  {
   "cell_type": "markdown",
   "id": "67e66dfe-03fc-43aa-b363-30de4d7b1cfc",
   "metadata": {},
   "source": [
    "Mean MSE has reduced with high epoch count compared to Part B"
   ]
  },
  {
   "cell_type": "markdown",
   "id": "d4482408-b26c-4cff-b0ae-ea7427f9595d",
   "metadata": {},
   "source": [
    "# Part D"
   ]
  },
  {
   "cell_type": "code",
   "execution_count": 52,
   "id": "4b788aec-ceef-46d7-b4b9-204ff09466ca",
   "metadata": {},
   "outputs": [],
   "source": [
    "# changing model\n",
    "def create_regression_model_2():\n",
    "    model = Sequential()\n",
    "    model.add(Dense(10, activation='relu', input_shape=(n_cols,)))\n",
    "    model.add(Dense(10, activation='relu'))\n",
    "    model.add(Dense(10, activation='relu'))\n",
    "    model.add(Dense(1))\n",
    "    \n",
    "    model.compile(optimizer=\"adam\", loss=\"mean_squared_error\")\n",
    "    return model"
   ]
  },
  {
   "cell_type": "code",
   "execution_count": 53,
   "id": "4b5e6ec2-89c3-4c52-ae85-63a38aef4292",
   "metadata": {},
   "outputs": [],
   "source": [
    "# run 50 times with normalized data and new model\n",
    "mses = []\n",
    "for i in range(0, 50):\n",
    "    # splitting dataset\n",
    "    predictor_train, predictor_test, target_train, target_test = train_test_split(predictors_norm, target, test_size=.3, random_state=10)\n",
    "    \n",
    "    # get number of predictors\n",
    "    n_cols = predictors_norm.shape[1]\n",
    "    \n",
    "    # building model\n",
    "    model = create_regression_model_2()\n",
    "    model.fit(predictor_train, target_train, epochs=50, verbose=0)\n",
    "    \n",
    "    # prediction and evaluations\n",
    "    predictions = model.predict(predictor_test)\n",
    "    mse = metrics.mean_squared_error(predictions, target_test)\n",
    "    mses.append(mse)    "
   ]
  },
  {
   "cell_type": "code",
   "execution_count": 54,
   "id": "b35d66d8-8df9-4057-8d1a-e1bbb1f5c625",
   "metadata": {},
   "outputs": [
    {
     "name": "stdout",
     "output_type": "stream",
     "text": [
      "Mean: 119.20959037679091 STD: 12.001030505778681\n"
     ]
    }
   ],
   "source": [
    "# mean and std of MSE\n",
    "print(f\"Mean: {np.mean(mses)} STD: {np.std(mses)}\")"
   ]
  },
  {
   "cell_type": "markdown",
   "id": "31a67239-4a92-4fe1-ba21-55d0fb545cbc",
   "metadata": {},
   "source": [
    "Mean MSE has reduced with new model compared to Part B"
   ]
  },
  {
   "cell_type": "code",
   "execution_count": null,
   "id": "ccd6f8e7-a099-48a2-8d97-2f49076ed8af",
   "metadata": {},
   "outputs": [],
   "source": []
  }
 ],
 "metadata": {
  "kernelspec": {
   "display_name": "Python",
   "language": "python",
   "name": "conda-env-python-py"
  },
  "language_info": {
   "codemirror_mode": {
    "name": "ipython",
    "version": 3
   },
   "file_extension": ".py",
   "mimetype": "text/x-python",
   "name": "python",
   "nbconvert_exporter": "python",
   "pygments_lexer": "ipython3",
   "version": "3.7.12"
  }
 },
 "nbformat": 4,
 "nbformat_minor": 5
}
