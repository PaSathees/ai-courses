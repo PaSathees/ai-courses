{
 "cells": [
  {
   "cell_type": "markdown",
   "metadata": {},
   "source": [
    "<img src=\"https://cf-courses-data.s3.us.cloud-object-storage.appdomain.cloud/IBMDeveloperSkillsNetwork-DL0120EN-SkillsNetwork/images/IDSN-logo.png\" width=\"300\" alt=\"cognitiveclass.ai logo\">\n",
    "\n",
    "<h1 align=\"center\"><font size=\"5\">RESTRICTED BOLTZMANN MACHINES</font></h1>\n"
   ]
  },
  {
   "cell_type": "markdown",
   "metadata": {},
   "source": [
    "Estimated time needed: **25** minutes\n"
   ]
  },
  {
   "cell_type": "markdown",
   "metadata": {},
   "source": [
    "<h3>Introduction</h3>\n",
    "<b>Restricted Boltzmann Machine (RBM):</b>  RBMs are shallow neural nets that learn to reconstruct data by themselves in an unsupervised fashion.  \n",
    "\n",
    "\n",
    "<h4>Why are RBMs important?</h4>\n",
    "An RBM are a basic form of autoencoder.  It can automatically extract <b>meaningful</b> features from a given input.\n",
    "\n",
    "\n",
    "<h4>How does it work?</h4>\n",
    "RBM is a 2 layer neural network. Simply, RBM takes the inputs and translates those into a set of binary values that represents them in the hidden layer. Then, these numbers can be translated back to reconstruct the inputs. Through several forward and backward passes, the RBM will be trained, and a trained RBM can reveal which features are the most important ones when detecting patterns.   \n",
    "\n",
    "\n",
    "<h4>What are the applications of an RBM?</h4>\n",
    "RBM is useful for <a href='http://www.cs.utoronto.ca/~hinton/absps/netflixICML.pdf?utm_medium=Exinfluencer&utm_source=Exinfluencer&utm_content=000026UJ&utm_term=10006555&utm_id=NA-SkillsNetwork-Channel-SkillsNetworkCoursesIBMDeveloperSkillsNetworkDL0120ENSkillsNetwork954-2022-01-01'>  Collaborative Filtering</a>, dimensionality reduction, classification, regression, feature learning, topic modeling and even <b>Deep Belief Networks</b>.\n",
    "\n",
    "<h4>Is RBM a generative or Discriminative model?</h4>\n",
    "RBM is a generative model. Let me explain it by first, see what is different between discriminative and generative models: \n",
    "\n",
    "<b>Discriminative:</b> Consider a classification problem where we want to learn to distinguish between Sedan cars (y = 1) and SUV cars (y = 0), based on some features of cars. Given a training set, an algorithm like logistic regression tries to find a straight line, or <i>decision boundary</i>, that separates the suv and sedan.  \n",
    "\n",
    "<b>Generative:</b> looking at cars, we can build a model of what Sedan cars look like. Then, looking at SUVs, we can build a separate model of what SUV cars look like. Finally, to classify a new car, we can match the new car against the Sedan model, and match it against the SUV model, to see whether the new car looks more like the SUV or Sedan. \n",
    "\n",
    "Generative Models specify a probability distribution over a dataset of input vectors. We can carry out both supervised and unsupervised tasks with generative models:\n",
    "<ul>\n",
    "    <li>In an unsupervised task, we try to form a model for $P(x)$, where $P$ is the probability given $x$ as an input vector.</li>\n",
    "    <li>In the supervised task, we first form a model for $P(x|y)$, where $P$ is the probability of $x$ given $y$(the label for $x$). For example, if $y = 0$ indicates that a car is an SUV, and $y = 1$ indicates that a car is a sedan, then $p(x|y = 0)$ models the distribution of SUV features, and $p(x|y = 1)$ models the distribution of sedan features. If we manage to find $P(x|y)$ and $P(y)$, then we can use <b>Bayes rule</b> to estimate $P(y|x)$, because:   \n",
    "        $$p(y|x) = \\frac{p(x|y)p(y)}{p(x)}$$</li>\n",
    "</ul>\n",
    "Now the question is, can we build a generative model, and then use it to create synthetic data by directly sampling from the modeled probability distributions? Lets see. \n"
   ]
  },
  {
   "cell_type": "markdown",
   "metadata": {},
   "source": [
    "<h2>Table of Contents</h2>\n",
    "<ol>\n",
    "    <li><a href=\"#ref1\">Initialization</a></li>\n",
    "    <li><a href=\"#ref2\">RBM layers</a></li>\n",
    "    <li><a href=\"#ref3\">What RBM can do after training?</a></li>\n",
    "    <li><a href=\"#ref4\">How to train the model?</a></li>\n",
    "    <li><a href=\"#ref5\">Learned features</a></li>\n",
    "</ol>\n",
    "<p></p>\n",
    "</div>\n",
    "<br>\n",
    "\n",
    "<hr>\n"
   ]
  },
  {
   "cell_type": "markdown",
   "metadata": {},
   "source": [
    "<a id=\"ref1\"></a>\n",
    "<h3>Initialization</h3>\n",
    "\n",
    "First, we have to load the utility file which contains different utility functions that are not connected\n",
    "in any way to the networks presented in the tutorials, but rather help in\n",
    "processing the outputs into a more understandable way.\n"
   ]
  },
  {
   "cell_type": "code",
   "execution_count": 1,
   "metadata": {},
   "outputs": [],
   "source": [
    "import urllib.request\n",
    "with urllib.request.urlopen(\"https://cf-courses-data.s3.us.cloud-object-storage.appdomain.cloud/IBMDeveloperSkillsNetwork-DL0120EN-SkillsNetwork/labs/Week4/data/utils.py\") as url:\n",
    "    response = url.read()\n",
    "target = open('utils.py', 'w')\n",
    "target.write(response.decode('utf-8'))\n",
    "target.close()"
   ]
  },
  {
   "cell_type": "markdown",
   "metadata": {},
   "source": [
    "<h2>Installing TensorFlow </h2>\n",
    "\n",
    "We will installing TensorFlow version 2.2.0 and its required prerequistes.  Also installing pillow...\n"
   ]
  },
  {
   "cell_type": "code",
   "execution_count": 2,
   "metadata": {},
   "outputs": [
    {
     "name": "stdout",
     "output_type": "stream",
     "text": [
      "Collecting grpcio==1.24.3\n",
      "  Downloading grpcio-1.24.3-cp37-cp37m-manylinux2010_x86_64.whl (2.2 MB)\n",
      "\u001b[2K     \u001b[90m━━━━━━━━━━━━━━━━━━━━━━━━━━━━━━━━━━━━━━━━\u001b[0m \u001b[32m2.2/2.2 MB\u001b[0m \u001b[31m58.7 MB/s\u001b[0m eta \u001b[36m0:00:00\u001b[0m:00:01\u001b[0m\n",
      "\u001b[?25hRequirement already satisfied: six>=1.5.2 in /home/jupyterlab/conda/envs/python/lib/python3.7/site-packages (from grpcio==1.24.3) (1.15.0)\n",
      "Installing collected packages: grpcio\n",
      "  Attempting uninstall: grpcio\n",
      "    Found existing installation: grpcio 1.48.1\n",
      "    Uninstalling grpcio-1.48.1:\n",
      "      Successfully uninstalled grpcio-1.48.1\n",
      "\u001b[31mERROR: pip's dependency resolver does not currently take into account all the packages that are installed. This behaviour is the source of the following dependency conflicts.\n",
      "tensorflow 2.6.0rc0 requires grpcio<2.0,>=1.37.0, but you have grpcio 1.24.3 which is incompatible.\n",
      "tensorflow 2.6.0rc0 requires numpy~=1.19.2, but you have numpy 1.21.4 which is incompatible.\u001b[0m\u001b[31m\n",
      "\u001b[0mSuccessfully installed grpcio-1.24.3\n",
      "Collecting tensorflow==2.2.0\n",
      "  Downloading tensorflow-2.2.0-cp37-cp37m-manylinux2010_x86_64.whl (516.2 MB)\n",
      "\u001b[2K     \u001b[90m━━━━━━━━━━━━━━━━━━━━━━━━━━━━━━━━━━━━━\u001b[0m \u001b[32m516.2/516.2 MB\u001b[0m \u001b[31m888.8 kB/s\u001b[0m eta \u001b[36m0:00:00\u001b[0m00:01\u001b[0m00:01\u001b[0m\n",
      "\u001b[?25hRequirement already satisfied: astunparse==1.6.3 in /home/jupyterlab/conda/envs/python/lib/python3.7/site-packages (from tensorflow==2.2.0) (1.6.3)\n",
      "Collecting h5py<2.11.0,>=2.10.0\n",
      "  Downloading h5py-2.10.0-cp37-cp37m-manylinux1_x86_64.whl (2.9 MB)\n",
      "\u001b[2K     \u001b[90m━━━━━━━━━━━━━━━━━━━━━━━━━━━━━━━━━━━━━━━━\u001b[0m \u001b[32m2.9/2.9 MB\u001b[0m \u001b[31m59.1 MB/s\u001b[0m eta \u001b[36m0:00:00\u001b[0m:00:01\u001b[0m\n",
      "\u001b[?25hRequirement already satisfied: absl-py>=0.7.0 in /home/jupyterlab/conda/envs/python/lib/python3.7/site-packages (from tensorflow==2.2.0) (0.15.0)\n",
      "Requirement already satisfied: protobuf>=3.8.0 in /home/jupyterlab/conda/envs/python/lib/python3.7/site-packages (from tensorflow==2.2.0) (3.20.3)\n",
      "Requirement already satisfied: keras-preprocessing>=1.1.0 in /home/jupyterlab/conda/envs/python/lib/python3.7/site-packages (from tensorflow==2.2.0) (1.1.2)\n",
      "Requirement already satisfied: grpcio>=1.8.6 in /home/jupyterlab/conda/envs/python/lib/python3.7/site-packages (from tensorflow==2.2.0) (1.24.3)\n",
      "Requirement already satisfied: numpy<2.0,>=1.16.0 in /home/jupyterlab/conda/envs/python/lib/python3.7/site-packages (from tensorflow==2.2.0) (1.21.4)\n",
      "Requirement already satisfied: opt-einsum>=2.3.2 in /home/jupyterlab/conda/envs/python/lib/python3.7/site-packages (from tensorflow==2.2.0) (3.3.0)\n",
      "Collecting scipy==1.4.1\n",
      "  Downloading scipy-1.4.1-cp37-cp37m-manylinux1_x86_64.whl (26.1 MB)\n",
      "\u001b[2K     \u001b[90m━━━━━━━━━━━━━━━━━━━━━━━━━━━━━━━━━━━━━━━━\u001b[0m \u001b[32m26.1/26.1 MB\u001b[0m \u001b[31m44.9 MB/s\u001b[0m eta \u001b[36m0:00:00\u001b[0m00:01\u001b[0m00:01\u001b[0m\n",
      "\u001b[?25hRequirement already satisfied: google-pasta>=0.1.8 in /home/jupyterlab/conda/envs/python/lib/python3.7/site-packages (from tensorflow==2.2.0) (0.2.0)\n",
      "Collecting gast==0.3.3\n",
      "  Downloading gast-0.3.3-py2.py3-none-any.whl (9.7 kB)\n",
      "Collecting tensorboard<2.3.0,>=2.2.0\n",
      "  Downloading tensorboard-2.2.2-py3-none-any.whl (3.0 MB)\n",
      "\u001b[2K     \u001b[90m━━━━━━━━━━━━━━━━━━━━━━━━━━━━━━━━━━━━━━━━\u001b[0m \u001b[32m3.0/3.0 MB\u001b[0m \u001b[31m56.3 MB/s\u001b[0m eta \u001b[36m0:00:00\u001b[0m:00:01\u001b[0m\n",
      "\u001b[?25hRequirement already satisfied: wheel>=0.26 in /home/jupyterlab/conda/envs/python/lib/python3.7/site-packages (from tensorflow==2.2.0) (0.38.4)\n",
      "Collecting tensorflow-estimator<2.3.0,>=2.2.0\n",
      "  Downloading tensorflow_estimator-2.2.0-py2.py3-none-any.whl (454 kB)\n",
      "\u001b[2K     \u001b[90m━━━━━━━━━━━━━━━━━━━━━━━━━━━━━━━━━━━━━━\u001b[0m \u001b[32m454.6/454.6 kB\u001b[0m \u001b[31m49.5 MB/s\u001b[0m eta \u001b[36m0:00:00\u001b[0m\n",
      "\u001b[?25hRequirement already satisfied: wrapt>=1.11.1 in /home/jupyterlab/conda/envs/python/lib/python3.7/site-packages (from tensorflow==2.2.0) (1.12.1)\n",
      "Requirement already satisfied: six>=1.12.0 in /home/jupyterlab/conda/envs/python/lib/python3.7/site-packages (from tensorflow==2.2.0) (1.15.0)\n",
      "Requirement already satisfied: termcolor>=1.1.0 in /home/jupyterlab/conda/envs/python/lib/python3.7/site-packages (from tensorflow==2.2.0) (1.1.0)\n",
      "Requirement already satisfied: tensorboard-plugin-wit>=1.6.0 in /home/jupyterlab/conda/envs/python/lib/python3.7/site-packages (from tensorboard<2.3.0,>=2.2.0->tensorflow==2.2.0) (1.8.1)\n",
      "Requirement already satisfied: google-auth-oauthlib<0.5,>=0.4.1 in /home/jupyterlab/conda/envs/python/lib/python3.7/site-packages (from tensorboard<2.3.0,>=2.2.0->tensorflow==2.2.0) (0.4.6)\n",
      "Collecting google-auth<2,>=1.6.3\n",
      "  Downloading google_auth-1.35.0-py2.py3-none-any.whl (152 kB)\n",
      "\u001b[2K     \u001b[90m━━━━━━━━━━━━━━━━━━━━━━━━━━━━━━━━━━━━━━\u001b[0m \u001b[32m152.9/152.9 kB\u001b[0m \u001b[31m17.7 MB/s\u001b[0m eta \u001b[36m0:00:00\u001b[0m\n",
      "\u001b[?25hRequirement already satisfied: markdown>=2.6.8 in /home/jupyterlab/conda/envs/python/lib/python3.7/site-packages (from tensorboard<2.3.0,>=2.2.0->tensorflow==2.2.0) (3.4.1)\n",
      "Requirement already satisfied: werkzeug>=0.11.15 in /home/jupyterlab/conda/envs/python/lib/python3.7/site-packages (from tensorboard<2.3.0,>=2.2.0->tensorflow==2.2.0) (2.2.2)\n",
      "Requirement already satisfied: setuptools>=41.0.0 in /home/jupyterlab/conda/envs/python/lib/python3.7/site-packages (from tensorboard<2.3.0,>=2.2.0->tensorflow==2.2.0) (65.5.1)\n",
      "Requirement already satisfied: requests<3,>=2.21.0 in /home/jupyterlab/conda/envs/python/lib/python3.7/site-packages (from tensorboard<2.3.0,>=2.2.0->tensorflow==2.2.0) (2.28.1)\n",
      "Requirement already satisfied: rsa<5,>=3.1.4 in /home/jupyterlab/conda/envs/python/lib/python3.7/site-packages (from google-auth<2,>=1.6.3->tensorboard<2.3.0,>=2.2.0->tensorflow==2.2.0) (4.9)\n",
      "Collecting cachetools<5.0,>=2.0.0\n",
      "  Downloading cachetools-4.2.4-py3-none-any.whl (10 kB)\n",
      "Requirement already satisfied: pyasn1-modules>=0.2.1 in /home/jupyterlab/conda/envs/python/lib/python3.7/site-packages (from google-auth<2,>=1.6.3->tensorboard<2.3.0,>=2.2.0->tensorflow==2.2.0) (0.2.8)\n",
      "Requirement already satisfied: requests-oauthlib>=0.7.0 in /home/jupyterlab/conda/envs/python/lib/python3.7/site-packages (from google-auth-oauthlib<0.5,>=0.4.1->tensorboard<2.3.0,>=2.2.0->tensorflow==2.2.0) (1.3.1)\n",
      "Requirement already satisfied: importlib-metadata>=4.4 in /home/jupyterlab/conda/envs/python/lib/python3.7/site-packages (from markdown>=2.6.8->tensorboard<2.3.0,>=2.2.0->tensorflow==2.2.0) (4.11.4)\n",
      "Requirement already satisfied: charset-normalizer<3,>=2 in /home/jupyterlab/conda/envs/python/lib/python3.7/site-packages (from requests<3,>=2.21.0->tensorboard<2.3.0,>=2.2.0->tensorflow==2.2.0) (2.1.1)\n",
      "Requirement already satisfied: certifi>=2017.4.17 in /home/jupyterlab/conda/envs/python/lib/python3.7/site-packages (from requests<3,>=2.21.0->tensorboard<2.3.0,>=2.2.0->tensorflow==2.2.0) (2022.9.24)\n",
      "Requirement already satisfied: urllib3<1.27,>=1.21.1 in /home/jupyterlab/conda/envs/python/lib/python3.7/site-packages (from requests<3,>=2.21.0->tensorboard<2.3.0,>=2.2.0->tensorflow==2.2.0) (1.26.13)\n",
      "Requirement already satisfied: idna<4,>=2.5 in /home/jupyterlab/conda/envs/python/lib/python3.7/site-packages (from requests<3,>=2.21.0->tensorboard<2.3.0,>=2.2.0->tensorflow==2.2.0) (3.4)\n",
      "Requirement already satisfied: MarkupSafe>=2.1.1 in /home/jupyterlab/conda/envs/python/lib/python3.7/site-packages (from werkzeug>=0.11.15->tensorboard<2.3.0,>=2.2.0->tensorflow==2.2.0) (2.1.1)\n",
      "Requirement already satisfied: typing-extensions>=3.6.4 in /home/jupyterlab/conda/envs/python/lib/python3.7/site-packages (from importlib-metadata>=4.4->markdown>=2.6.8->tensorboard<2.3.0,>=2.2.0->tensorflow==2.2.0) (3.7.4.3)\n",
      "Requirement already satisfied: zipp>=0.5 in /home/jupyterlab/conda/envs/python/lib/python3.7/site-packages (from importlib-metadata>=4.4->markdown>=2.6.8->tensorboard<2.3.0,>=2.2.0->tensorflow==2.2.0) (3.11.0)\n",
      "Requirement already satisfied: pyasn1<0.5.0,>=0.4.6 in /home/jupyterlab/conda/envs/python/lib/python3.7/site-packages (from pyasn1-modules>=0.2.1->google-auth<2,>=1.6.3->tensorboard<2.3.0,>=2.2.0->tensorflow==2.2.0) (0.4.8)\n",
      "Requirement already satisfied: oauthlib>=3.0.0 in /home/jupyterlab/conda/envs/python/lib/python3.7/site-packages (from requests-oauthlib>=0.7.0->google-auth-oauthlib<0.5,>=0.4.1->tensorboard<2.3.0,>=2.2.0->tensorflow==2.2.0) (3.2.2)\n",
      "Installing collected packages: tensorflow-estimator, scipy, h5py, gast, cachetools, google-auth, tensorboard, tensorflow\n",
      "  Attempting uninstall: tensorflow-estimator\n",
      "    Found existing installation: tensorflow-estimator 1.14.0\n",
      "    Uninstalling tensorflow-estimator-1.14.0:\n",
      "      Successfully uninstalled tensorflow-estimator-1.14.0\n",
      "  Attempting uninstall: scipy\n",
      "    Found existing installation: scipy 1.7.3\n",
      "    Uninstalling scipy-1.7.3:\n",
      "      Successfully uninstalled scipy-1.7.3\n",
      "  Attempting uninstall: h5py\n",
      "    Found existing installation: h5py 3.1.0\n",
      "    Uninstalling h5py-3.1.0:\n",
      "      Successfully uninstalled h5py-3.1.0\n",
      "  Attempting uninstall: gast\n",
      "    Found existing installation: gast 0.4.0\n",
      "    Uninstalling gast-0.4.0:\n",
      "      Successfully uninstalled gast-0.4.0\n",
      "  Attempting uninstall: cachetools\n",
      "    Found existing installation: cachetools 5.2.0\n",
      "    Uninstalling cachetools-5.2.0:\n",
      "      Successfully uninstalled cachetools-5.2.0\n",
      "  Attempting uninstall: google-auth\n",
      "    Found existing installation: google-auth 2.15.0\n",
      "    Uninstalling google-auth-2.15.0:\n",
      "      Successfully uninstalled google-auth-2.15.0\n",
      "  Attempting uninstall: tensorboard\n",
      "    Found existing installation: tensorboard 2.11.0\n",
      "    Uninstalling tensorboard-2.11.0:\n",
      "      Successfully uninstalled tensorboard-2.11.0\n",
      "  Attempting uninstall: tensorflow\n",
      "    Found existing installation: tensorflow 2.6.0rc0\n",
      "    Uninstalling tensorflow-2.6.0rc0:\n",
      "      Successfully uninstalled tensorflow-2.6.0rc0\n",
      "Successfully installed cachetools-4.2.4 gast-0.3.3 google-auth-1.35.0 h5py-2.10.0 scipy-1.4.1 tensorboard-2.2.2 tensorflow-2.2.0 tensorflow-estimator-2.2.0\n",
      "Requirement already satisfied: pillow==8.1.0 in /home/jupyterlab/conda/envs/python/lib/python3.7/site-packages (8.1.0)\n"
     ]
    }
   ],
   "source": [
    "!pip install grpcio==1.24.3\n",
    "!pip install tensorflow==2.2.0\n",
    "!pip install pillow==8.1.0"
   ]
  },
  {
   "cell_type": "markdown",
   "metadata": {},
   "source": [
    "<b>Notice:</b> This notebook has been created with TensorFlow version 2.2, and might not work with other versions. Therefore we check:\n"
   ]
  },
  {
   "cell_type": "code",
   "execution_count": 2,
   "metadata": {},
   "outputs": [],
   "source": [
    "import tensorflow as tf\n",
    "from IPython.display import Markdown, display\n",
    "\n",
    "def printmd(string):\n",
    "    display(Markdown('# <span style=\"color:red\">'+string+'</span>'))\n",
    "\n",
    "\n",
    "if not tf.__version__ == '2.2.0':\n",
    "    printmd('<<<<<!!!!! ERROR !!!! please upgrade to TensorFlow 2.2.0, or restart your Kernel (Kernel->Restart & Clear Output)>>>>>')"
   ]
  },
  {
   "cell_type": "markdown",
   "metadata": {},
   "source": [
    "Now, we load in all the packages that we use to create the net including the TensorFlow package:\n"
   ]
  },
  {
   "cell_type": "code",
   "execution_count": 3,
   "metadata": {},
   "outputs": [],
   "source": [
    "import tensorflow as tf\n",
    "import numpy as np\n",
    "\n",
    "from PIL import Image\n",
    "from utils import tile_raster_images\n",
    "import matplotlib.pyplot as plt\n",
    "%matplotlib inline"
   ]
  },
  {
   "cell_type": "markdown",
   "metadata": {},
   "source": [
    "<hr>\n"
   ]
  },
  {
   "cell_type": "markdown",
   "metadata": {},
   "source": [
    "<a id=\"ref2\"></a>\n",
    "<h3>RBM layers</h3>\n",
    "\n",
    "An RBM has two layers. The first layer of the RBM is called the <b>visible</b> (or input layer). Imagine that our toy example, has only vectors with 7 values, so the visible layer must have $V=7$ input nodes. \n",
    "The second layer is the <b>hidden</b> layer, which has $H$ neurons in our case. Each hidden node takes on values of either 0 or 1 (i.e., $h_i = 1$ or $h_i$ = 0), with a probability that is a logistic function of the inputs it receives from the other $V$ visible units, called for example, $p(h_i = 1)$. For our toy sample, we'll use 2 nodes in the hidden layer, so $H = 2$.\n",
    "\n",
    "<center><img src=\"https://ibm.box.com/shared/static/eu26opvcefgls6vnwuo29uwp0nudmokh.png\" alt=\"RBM Model\" style=\"width: 400px;\"></center>\n"
   ]
  },
  {
   "cell_type": "markdown",
   "metadata": {},
   "source": [
    "     \n",
    "\n",
    "Each node in the first layer also has a <b>bias</b>. We will denote the bias as $v_{bias}$, and this single value is shared among the $V$ visible units.\n",
    "\n",
    "The <b>bias</b> of the second is defined similarly as $h_{bias}$, and this single value among the $H$ hidden units.\n"
   ]
  },
  {
   "cell_type": "code",
   "execution_count": 4,
   "metadata": {},
   "outputs": [
    {
     "name": "stderr",
     "output_type": "stream",
     "text": [
      "2023-01-02 15:57:13.154034: W tensorflow/stream_executor/platform/default/dso_loader.cc:55] Could not load dynamic library 'libcuda.so.1'; dlerror: libcuda.so.1: cannot open shared object file: No such file or directory\n",
      "2023-01-02 15:57:13.154117: E tensorflow/stream_executor/cuda/cuda_driver.cc:313] failed call to cuInit: UNKNOWN ERROR (303)\n",
      "2023-01-02 15:57:13.154175: I tensorflow/stream_executor/cuda/cuda_diagnostics.cc:156] kernel driver does not appear to be running on this host (jupyterlab-sathpaskaran): /proc/driver/nvidia/version does not exist\n",
      "2023-01-02 15:57:13.154574: I tensorflow/core/platform/cpu_feature_guard.cc:143] Your CPU supports instructions that this TensorFlow binary was not compiled to use: AVX2 AVX512F FMA\n",
      "2023-01-02 15:57:13.163435: I tensorflow/core/platform/profile_utils/cpu_utils.cc:102] CPU Frequency: 2593900000 Hz\n",
      "2023-01-02 15:57:13.164332: I tensorflow/compiler/xla/service/service.cc:168] XLA service 0x7f9db4000b20 initialized for platform Host (this does not guarantee that XLA will be used). Devices:\n",
      "2023-01-02 15:57:13.164376: I tensorflow/compiler/xla/service/service.cc:176]   StreamExecutor device (0): Host, Default Version\n"
     ]
    }
   ],
   "source": [
    "v_bias = tf.Variable(tf.zeros([7]), tf.float32)\n",
    "h_bias = tf.Variable(tf.zeros([2]), tf.float32)"
   ]
  },
  {
   "cell_type": "markdown",
   "metadata": {},
   "source": [
    "We have to define weights among the input layer and hidden layer nodes. In the weight matrix, the number of rows are equal to the input nodes, and the number of columns are equal to the output nodes. We define a tensor $\\mathbf{W}$ of shape = (7,2), where the number of visible neurons = 7, and the number of hidden neurons = 2. \n"
   ]
  },
  {
   "cell_type": "code",
   "execution_count": 5,
   "metadata": {},
   "outputs": [],
   "source": [
    "W = tf.constant(np.random.normal(loc=0.0, scale=1.0, size=(7, 2)).astype(np.float32))"
   ]
  },
  {
   "cell_type": "markdown",
   "metadata": {},
   "source": [
    "<hr>\n"
   ]
  },
  {
   "cell_type": "markdown",
   "metadata": {},
   "source": [
    "<a id=\"ref3\"></a>\n",
    "<h3>What RBM can do after training?</h3>\n",
    "Think of RBM as a model that has been trained based on images of a dataset of many SUV and sedan cars. Also, imagine that the RBM network has only two hidden nodes, where one node encodes the weight and, and the other encodes the size.  \n",
    "In a sense, the different configurations represent different cars, where one is an SUV and the other is Sedan.  In a training process, through many forward and backward passes, the RBM adjust its weights to send a stronger signal to either the SUV node (0, 1) or the sedan node (1, 0) in the hidden layer, given the pixels of images. Now, given an SUV in hidden layer, which distribution of pixels should we expect? RBM can give you 2 things. First, it encodes your images in hidden layer. Second, it gives you the probability of observing a case, given some hidden values.\n",
    "\n",
    "\n",
    "<h3>The Inference Process</h3>\n",
    "\n",
    "RBM has two phases:\n",
    "<ul>\n",
    "    <li>Forward Pass</li>  \n",
    "    <li>Backward Pass or Reconstruction</li>\n",
    "</ul>\n",
    "\n",
    "<b>Phase 1) Forward pass:</b>  \n",
    "\n",
    "Input one training sample (one image) $\\mathbf{x}$ through all visible nodes, and pass it to all hidden nodes. Processing happens in each node in the hidden layer. This computation begins by making stochastic decisions about whether to transmit that input or not (i.e. to determine the state of each hidden layer).  First, the probability vector is computed using the input feature vector $\\mathbf{x}$, the weight matrix $\\mathbf{W}$, and the bias term $h_{bias}$, as \n",
    "\n",
    "\n",
    "$$p({h_j}|\\mathbf x)= \\sigma( \\sum_{i=1}^V W_{ij} x_i + h_{bias} )$$, \n",
    "\n",
    "where $\\sigma(z) = (1+e^{-z})^{-1}$ is the logistic function.\n",
    "\n",
    "\n",
    "So, what does $p({h_j})$ represent? It is the <b>probability distribution</b> of the hidden units. That is, RBM uses inputs $x_i$ to make predictions about hidden node activations. For example, imagine that the hidden node activation values are [0.51 0.84] for the first training item. It tells you that the conditional probability for each hidden neuron for Phase 1 is: \n",
    "\n",
    "$$p(h_{1} = 1|\\mathbf{v}) = 0.51$$\n",
    "$$p(h_{2} = 1|\\mathbf{v}) = 0.84$$\n",
    "\n",
    "As a result, for each row in the training set, vector of probabilities is generated.  In TensorFlow, this is referred to as a `tensor` with a shape of (1,2). \n",
    "\n",
    "We then turn unit $j$ with probability $p(h_{j}|\\mathbf{v})$, and turn it off with probability $1 - p(h_{j}|\\mathbf{v})$ by generating a uniform random number vector $\\mathbf{\\xi}$, and comparing it to the activation probability as \n",
    "\n",
    "<center>If $\\xi_j>p(h_{j}|\\mathbf{v})$, then $h_j=1$, else $h_j=0$.</center>\n",
    "\n",
    "\n",
    "Therefore, the conditional probability of a configuration of $\\mathbf{h}$ given $\\mathbf{v}$ (for a training sample) is:\n",
    "\n",
    "$$p(\\mathbf{h} \\mid \\mathbf{v}) = \\prod_{j=1}^H p(h_j \\mid \\mathbf{v})$$\n",
    "\n",
    "\n",
    "where $H$ is the number of hidden units.\n",
    "\n"
   ]
  },
  {
   "cell_type": "markdown",
   "metadata": {},
   "source": [
    "Before we go further, let's look at a toy example for one case out of all input. Assume that we have a trained RBM, and a very simple input vector, such as [1.0, 0.0, 0.0, 1.0, 0.0, 0.0, 0.0].   \n",
    "Let's see what the output of forward pass would look like:\n"
   ]
  },
  {
   "cell_type": "code",
   "execution_count": 6,
   "metadata": {},
   "outputs": [
    {
     "name": "stdout",
     "output_type": "stream",
     "text": [
      "Input:  tf.Tensor([[1. 0. 0. 1. 0. 0. 0.]], shape=(1, 7), dtype=float32)\n",
      "hb:  tf.Tensor([0.1 0.1], shape=(2,), dtype=float32)\n",
      "w:  tf.Tensor(\n",
      "[[-0.05901826 -0.41131505]\n",
      " [ 1.906672   -1.2826929 ]\n",
      " [ 1.1908062   0.89644194]\n",
      " [ 0.79916     1.9393924 ]\n",
      " [-2.0063891   0.51382726]\n",
      " [ 0.6987302  -0.8911158 ]\n",
      " [ 0.6300663  -0.87015104]], shape=(7, 2), dtype=float32)\n",
      "p(h|v):  tf.Tensor([[0.6984951  0.83590615]], shape=(1, 2), dtype=float32)\n",
      "h0 states: tf.Tensor([[0. 0.]], shape=(1, 2), dtype=float32)\n"
     ]
    }
   ],
   "source": [
    "X = tf.constant([[1.0, 0.0, 0.0, 1.0, 0.0, 0.0, 0.0]], tf.float32)\n",
    "\n",
    "v_state = X\n",
    "print (\"Input: \", v_state)\n",
    "\n",
    "h_bias = tf.constant([0.1, 0.1])\n",
    "print (\"hb: \", h_bias)\n",
    "print (\"w: \", W)\n",
    "\n",
    "# Calculate the probabilities of turning the hidden units on:\n",
    "h_prob = tf.nn.sigmoid(tf.matmul(v_state, W) + h_bias)  #probabilities of the hidden units\n",
    "print (\"p(h|v): \", h_prob)\n",
    "\n",
    "# Draw samples from the distribution:\n",
    "h_state = tf.nn.relu(tf.sign(h_prob - tf.random.uniform(tf.shape(h_prob)))) #states\n",
    "print (\"h0 states:\", h_state)"
   ]
  },
  {
   "cell_type": "markdown",
   "metadata": {},
   "source": [
    "<b>Phase 2) Backward Pass (Reconstruction):</b>\n",
    "The RBM reconstructs data by making several forward and backward passes between the visible and hidden layers.\n",
    "\n",
    "So, in the second phase (i.e. reconstruction phase), the samples from the hidden layer (i.e. $\\mathbf h$) becomes the input in the backward pass. The same weight matrix and visible layer biases are used to passed to the sigmoid function. The reproduced output is a reconstruction which is an approximation of the original input.\n"
   ]
  },
  {
   "cell_type": "code",
   "execution_count": 7,
   "metadata": {},
   "outputs": [
    {
     "name": "stdout",
     "output_type": "stream",
     "text": [
      "b:  tf.Tensor([0.1 0.2 0.1 0.1 0.1 0.2 0.1], shape=(7,), dtype=float32)\n",
      "p(vi∣h):  tf.Tensor(\n",
      "[[0.5249792  0.54983395 0.5249792  0.5249792  0.5249792  0.54983395\n",
      "  0.5249792 ]], shape=(1, 7), dtype=float32)\n",
      "v probability states:  tf.Tensor([[1. 0. 1. 0. 1. 1. 1.]], shape=(1, 7), dtype=float32)\n"
     ]
    }
   ],
   "source": [
    "vb = tf.constant([0.1, 0.2, 0.1, 0.1, 0.1, 0.2, 0.1])\n",
    "print (\"b: \", vb)\n",
    "v_prob = tf.nn.sigmoid(tf.matmul(h_state, tf.transpose(W)) + vb)\n",
    "print (\"p(vi∣h): \", v_prob)\n",
    "v_state = tf.nn.relu(tf.sign(v_prob - tf.random.uniform(tf.shape(v_prob))))\n",
    "print (\"v probability states: \", v_state)"
   ]
  },
  {
   "cell_type": "markdown",
   "metadata": {},
   "source": [
    "RBM learns a probability distribution over the input, and then, after being trained, the RBM can generate new samples from the learned probability distribution. As you know, <b>probability distribution</b>, is a mathematical function that provides the probabilities of occurrence of different possible outcomes in an experiment.\n",
    "\n",
    "The (conditional) probability distribution over the visible units v is given by\n",
    "\n",
    "$$p(\\mathbf{v} \\mid \\mathbf{h}) = \\prod_{i=1}^V p(v_i \\mid \\mathbf{h}),$$\n",
    "\n",
    "\n",
    "where,\n",
    "\n",
    "$$p(v_i \\mid \\mathbf{h}) = \\sigma\\left(\\sum_{j=1}^H W_{ji} h_j + v_{bias} \\right)$$\n",
    "\n",
    "so, given current state of hidden units and weights, what is the probability of generating [1. 0. 0. 1. 0. 0. 0.] in reconstruction phase, based on the above <b>probability distribution</b> function?\n"
   ]
  },
  {
   "cell_type": "code",
   "execution_count": 8,
   "metadata": {},
   "outputs": [
    {
     "name": "stdout",
     "output_type": "stream",
     "text": [
      "input X: [[1. 0. 0. 1. 0. 0. 0.]]\n",
      "probablity vector: [0.5249792  0.54983395 0.5249792  0.5249792  0.5249792  0.54983395\n",
      " 0.5249792 ]\n",
      "probability of generating X:  0.0059864256\n"
     ]
    }
   ],
   "source": [
    "inp = X\n",
    "print(\"input X:\" , inp.numpy())\n",
    "\n",
    "print(\"probablity vector:\" , v_prob[0].numpy())\n",
    "v_probability = 1\n",
    "\n",
    "for elm, p in zip(inp[0],v_prob[0]) :\n",
    "    if elm ==1:\n",
    "        v_probability *= p\n",
    "    else:\n",
    "        v_probability *= (1-p)\n",
    "\n",
    "print(\"probability of generating X: \" , v_probability.numpy())"
   ]
  },
  {
   "cell_type": "markdown",
   "metadata": {},
   "source": [
    "How similar are vectors $\\mathbf{x}$ and $\\mathbf{v}$? Of course, the reconstructed values most likely will not look anything like the input vector, because our network has not been trained yet. Our objective is to train the model in such a way that the input vector and reconstructed vector to be same. Therefore, based on how different the input values look to the ones that we just reconstructed, the weights are adjusted. \n"
   ]
  },
  {
   "cell_type": "markdown",
   "metadata": {},
   "source": [
    "<hr>\n"
   ]
  },
  {
   "cell_type": "markdown",
   "metadata": {},
   "source": [
    "\n",
    "<h2>MNIST</h2>\n"
   ]
  },
  {
   "cell_type": "markdown",
   "metadata": {},
   "source": [
    "We will be using the MNIST dataset to practice the usage of RBMs. The following cell loads the MNIST dataset.\n"
   ]
  },
  {
   "cell_type": "code",
   "execution_count": 9,
   "metadata": {},
   "outputs": [
    {
     "name": "stdout",
     "output_type": "stream",
     "text": [
      "Downloading data from https://storage.googleapis.com/tensorflow/tf-keras-datasets/mnist.npz\n",
      "11493376/11490434 [==============================] - 2s 0us/step\n"
     ]
    },
    {
     "name": "stderr",
     "output_type": "stream",
     "text": [
      "2023-01-02 16:04:25.647981: W tensorflow/core/framework/cpu_allocator_impl.cc:81] Allocation of 376320000 exceeds 10% of free system memory.\n"
     ]
    }
   ],
   "source": [
    "#loading training and test data\n",
    "mnist = tf.keras.datasets.mnist\n",
    "(trX, trY), (teX, teY) = mnist.load_data()\n",
    "\n",
    "# showing an example of the Flatten class and operation\n",
    "from tensorflow.keras.layers import Flatten\n",
    "flatten = Flatten(dtype='float32')\n",
    "trX = flatten(trX/255.0)\n",
    "trY = flatten(trY/255.0)"
   ]
  },
  {
   "cell_type": "markdown",
   "metadata": {},
   "source": [
    "Lets look at the dimension of the images.\n"
   ]
  },
  {
   "cell_type": "markdown",
   "metadata": {},
   "source": [
    "MNIST images have 784 pixels, so the visible layer must have 784 input nodes.  For our case, we'll use 50 nodes in the hidden layer, so i = 50.\n"
   ]
  },
  {
   "cell_type": "code",
   "execution_count": 10,
   "metadata": {},
   "outputs": [],
   "source": [
    "vb = tf.Variable(tf.zeros([784]), tf.float32)\n",
    "hb = tf.Variable(tf.zeros([50]), tf.float32)"
   ]
  },
  {
   "cell_type": "markdown",
   "metadata": {},
   "source": [
    "Let $\\mathbf W$ be the Tensor of 784x50 (784 - number of visible neurons, 50 - number of hidden neurons) that represents weights between the neurons. \n"
   ]
  },
  {
   "cell_type": "code",
   "execution_count": 11,
   "metadata": {},
   "outputs": [],
   "source": [
    "W = tf.Variable(tf.zeros([784,50]), tf.float32)"
   ]
  },
  {
   "cell_type": "markdown",
   "metadata": {},
   "source": [
    "Lets define the visible layer:\n"
   ]
  },
  {
   "cell_type": "code",
   "execution_count": 12,
   "metadata": {},
   "outputs": [
    {
     "data": {
      "text/plain": [
       "<tf.Tensor: shape=(1, 50), dtype=float32, numpy=\n",
       "array([[0., 0., 0., 0., 0., 0., 0., 0., 0., 0., 0., 0., 0., 0., 0., 0.,\n",
       "        0., 0., 0., 0., 0., 0., 0., 0., 0., 0., 0., 0., 0., 0., 0., 0.,\n",
       "        0., 0., 0., 0., 0., 0., 0., 0., 0., 0., 0., 0., 0., 0., 0., 0.,\n",
       "        0., 0.]], dtype=float32)>"
      ]
     },
     "execution_count": 12,
     "metadata": {},
     "output_type": "execute_result"
    }
   ],
   "source": [
    "v0_state = tf.Variable(tf.zeros([784]), tf.float32)\n",
    "\n",
    "#testing to see if the matrix product works\n",
    "tf.matmul( [v0_state], W)"
   ]
  },
  {
   "cell_type": "markdown",
   "metadata": {},
   "source": [
    "Now, we can define hidden layer:\n"
   ]
  },
  {
   "cell_type": "code",
   "execution_count": 13,
   "metadata": {},
   "outputs": [
    {
     "name": "stdout",
     "output_type": "stream",
     "text": [
      "h0_state shape:  tf.Tensor([ 1 50], shape=(2,), dtype=int32)\n",
      "first 15 hidden states:  tf.Tensor([0. 0. 1. 1. 1. 1. 1. 0. 0. 1. 1. 1. 0. 0. 1.], shape=(15,), dtype=float32)\n"
     ]
    }
   ],
   "source": [
    "#computing the hidden nodes probability vector and checking shape\n",
    "h0_prob = tf.nn.sigmoid(tf.matmul([v0_state], W) + hb)  #probabilities of the hidden units\n",
    "print(\"h0_state shape: \" , tf.shape(h0_prob))\n",
    "\n",
    "#defining a function to return only the generated hidden states \n",
    "def hidden_layer(v0_state, W, hb):\n",
    "    h0_prob = tf.nn.sigmoid(tf.matmul([v0_state], W) + hb)  #probabilities of the hidden units\n",
    "    h0_state = tf.nn.relu(tf.sign(h0_prob - tf.random.uniform(tf.shape(h0_prob)))) #sample_h_given_X\n",
    "    return h0_state\n",
    "\n",
    "\n",
    "h0_state = hidden_layer(v0_state, W, hb)\n",
    "print(\"first 15 hidden states: \", h0_state[0][0:15])"
   ]
  },
  {
   "cell_type": "markdown",
   "metadata": {},
   "source": [
    "Now, we define reconstruction part:\n"
   ]
  },
  {
   "cell_type": "code",
   "execution_count": 14,
   "metadata": {},
   "outputs": [
    {
     "name": "stdout",
     "output_type": "stream",
     "text": [
      "hidden state shape:  (1, 50)\n",
      "v0 state shape:   (784,)\n",
      "v1 state shape:   (784,)\n"
     ]
    }
   ],
   "source": [
    "def reconstructed_output(h0_state, W, vb):\n",
    "    v1_prob = tf.nn.sigmoid(tf.matmul(h0_state, tf.transpose(W)) + vb) \n",
    "    v1_state = tf.nn.relu(tf.sign(v1_prob - tf.random.uniform(tf.shape(v1_prob)))) #sample_v_given_h\n",
    "    return v1_state[0]\n",
    "\n",
    "v1_state = reconstructed_output(h0_state, W, vb)\n",
    "print(\"hidden state shape: \", h0_state.shape)\n",
    "print(\"v0 state shape:  \", v0_state.shape)\n",
    "print(\"v1 state shape:  \", v1_state.shape)"
   ]
  },
  {
   "cell_type": "markdown",
   "metadata": {},
   "source": [
    "<h3>What is the objective function?</h3>\n",
    "\n",
    "<b>Goal</b>: Maximize the likelihood of our data being drawn from that distribution\n",
    "\n",
    "<b>Calculate error:</b>  \n",
    "In each epoch, we compute the \"error\" as a sum of the squared difference between step 1 and step n,\n",
    "e.g the error shows the difference between the data and its reconstruction.\n",
    "\n",
    "<b>Note:</b> tf.reduce_mean computes the mean of elements across dimensions of a tensor.\n"
   ]
  },
  {
   "cell_type": "code",
   "execution_count": 15,
   "metadata": {},
   "outputs": [
    {
     "name": "stdout",
     "output_type": "stream",
     "text": [
      "error 0.49617347\n"
     ]
    }
   ],
   "source": [
    "def error(v0_state, v1_state):\n",
    "    return tf.reduce_mean(tf.square(v0_state - v1_state))\n",
    "\n",
    "err = tf.reduce_mean(tf.square(v0_state - v1_state))\n",
    "print(\"error\" , err.numpy())"
   ]
  },
  {
   "cell_type": "markdown",
   "metadata": {},
   "source": [
    "<a id=\"ref4\"></a>\n",
    "<h3>Training the Model</h3>\n",
    "<b>Warning...</b> The following part is math-heavy, but you can skip it if you just want to run the cells in the next section.\n",
    "\n",
    "As mentioned, we want to give a high probability to the input data we train on. So, in order to train an RBM, we have to maximize the product of probabilities assigned to all rows $\\mathbf{v}$ (images) in the training set $\\mathbf{V}$ (a matrix, where each row of it is treated as a visible vector $\\mathbf{v}$)\n",
    "\n",
    "$$\\arg \\max_W \\prod_{\\mathbf{v}\\in\\mathbf{V}_T} p(\\mathbf{v})$$\n",
    "\n",
    "\n",
    "which is equivalent to maximizing the expectation of the log probability, given as\n",
    "\n",
    "$$\\arg\\max_W\\left[ \\mathbb{E} \\left(\\prod_{\\mathbf v\\in \\mathbf V}\\text{log} \\left(p(\\mathbf v)\\right) \\right) \\right].$$\n",
    "\n",
    "\n",
    "So, we have to update the weights $W_{ij}$  to increase $p(\\mathbf{v})$ for all $\\mathbf{v}$ in our training data during training. So we have to calculate the derivative:\n",
    "\n",
    "\n",
    "$$\\frac{\\partial \\log p(\\mathbf v)}{\\partial W_{ij}}$$\n",
    "\n",
    "This cannot be easily done by typical <b>gradient descent (SGD)</b>, so we can use another approach, which has 2 steps:\n",
    "<ol>\n",
    "    <li>Gibbs Sampling</li>\n",
    "    <li>Contrastive Divergence</li>\n",
    "</ol>    \n",
    "    \n",
    "<h3>Gibbs Sampling</h3>   \n",
    "\n",
    "<h4>Gibbs Sampling Step 1</h4> \n",
    "Given an input vector $\\mathbf{v}$, we are using $p(\\mathbf{h}|\\mathbf{v})$ to predict the hidden values $\\mathbf{h}$. \n",
    "  $$p({h_j}|\\mathbf v)= \\sigma\\left(\\sum_{i=1}^V W_{ij} v_i + h_{bias} \\right)$$\n",
    "The samples are generated from this distribution by generating the uniform random variate vector $\\mathbf{\\xi} \\sim U[0,1]$ of length $H$ and comparing to the computed probabilities as\n",
    "\n",
    "\n",
    "<center>If $\\xi_j>p(h_{j}|\\mathbf{v})$, then $h_j=1$, else $h_j=0$.</center>\n",
    "\n",
    "\n",
    "<h4>Gibbs Sampling Step 2</h4> \n",
    "Then, knowing the hidden values, we use $p(\\mathbf v| \\mathbf h)$ for reconstructing of new input values v. \n",
    "\n",
    "   $$p({v_i}|\\mathbf h)= \\sigma\\left(\\sum_{j=1}^H W^{T}_{ij} h_j + v_{bias} \\right)$$\n",
    "\n",
    "\n",
    "The samples are generated from this distribution by generating a uniform random variate vector $\\mathbf{\\xi} \\sim U[0,1]$ of length $V$ and comparing to the computed probabilities as\n",
    "\n",
    "<center>If $\\xi_i>p(v_{i}|\\mathbf{h})$, then $v_i=1$, else $v_i=0$.</center>\n",
    "\n",
    "Let vectors $\\mathbf v_k$ and $\\mathbf h_k$ be for the $k$th iteration.  In general, the $kth$ state is generrated as: \n",
    "\n",
    "\n",
    "    \n",
    "<b>Iteration</b> $k$: \n",
    "\n",
    "$$\\mathbf v_{k-1} \\Rightarrow p(\\mathbf h_{k-1}|\\mathbf v_{k-1})\\Rightarrow \\mathbf h_{k-1}\\Rightarrow p(\\mathbf v_{k}|\\mathbf h_{k-1})\\Rightarrow \\mathbf v_k$$       \n",
    "    \n",
    "<h3>Contrastive Divergence (CD-k)</h3>\n",
    "The update of the weight matrix is done during the Contrastive Divergence step. \n",
    "\n",
    "Vectors v0 and vk are used to calculate the activation probabilities for hidden values h0 and hk. The difference between the outer products of those probabilities with input vectors v0 and vk results in the update matrix:\n",
    "\n",
    "\n",
    "$$\\Delta \\mathbf W_k =\\mathbf v_k \\otimes \\mathbf h_k - \\mathbf v_{k-1} \\otimes \\mathbf h_{k-1}$$\n",
    "\n",
    "Contrastive Divergence is actually matrix of values that is computed and used to adjust values of the $\\mathbf W$ matrix. Changing $\\mathbf W$ incrementally leads to training of the  $\\mathbf W$ values. Then, on each step (epoch), $\\mathbf W$ is updated using the following:\n",
    "\n",
    "$$\\mathbf W_k = \\mathbf W_{k-1} + \\alpha * \\Delta \\mathbf W_k$$\n",
    "\n",
    "\n",
    "\n",
    "Reconstruction steps:\n",
    "<ul>\n",
    "    <li> Get one data point from data set, like <i>x</i>, and pass it through the following steps:</li>\n",
    "    \n",
    "<b>Iteration</b> $k=1$: \n",
    "    \n",
    "Sampling (starting with input image)\n",
    "    $$\\mathbf x = \\mathbf v_0 \\Rightarrow p(\\mathbf h_0|\\mathbf v_0)\\Rightarrow \\mathbf h_0 \\Rightarrow p(\\mathbf v_1|\\mathbf h_0)\\Rightarrow \\mathbf v_1$$   \n",
    "    followed by the CD-k step\n",
    "$$\\Delta \\mathbf W_1 =\\mathbf v_1 \\otimes \\mathbf h_1 - \\mathbf v_{0} \\otimes \\mathbf h_{0}$$     \n",
    "$$\\mathbf W_1 = \\mathbf W_{0} + \\alpha * \\Delta \\mathbf W_1$$ \n",
    " \n",
    "<li> $\\mathbf v_1$ is the reconstruction of $\\mathbf x$ sent to the next iteration).</li>\n",
    "\n",
    "<b>Iteration</b> $k=2$: \n",
    "\n",
    "Sampling (starting with $\\mathbf v_1$)\n",
    "\n",
    "$$\\mathbf v_1 \\Rightarrow p(\\mathbf h_1|\\mathbf v_1)\\Rightarrow \\mathbf h_1\\Rightarrow p(\\mathbf v_2|\\mathbf h_1)\\Rightarrow \\mathbf v_2$$   \n",
    "\n",
    "followed by the CD-k step\n",
    "$$\\Delta \\mathbf W_2 =\\mathbf v_2 \\otimes \\mathbf h_2 - \\mathbf v_{1} \\otimes \\mathbf h_{1}$$     \n",
    "$$\\mathbf W_2 = \\mathbf W_{1} + \\alpha * \\Delta \\mathbf W_2$$ \n",
    "\n",
    "<li> $\\mathbf v_2$ is the reconstruction of $\\mathbf v_1$ sent to the next iteration).</li>    \n",
    "      \n",
    "<b>Iteration</b> $k=K$:\n",
    "    \n",
    "Sampling (starting with $\\mathbf v_{K-1}$)\n",
    "\n",
    "$$\\mathbf v_{K-1} \\Rightarrow p(\\mathbf h_{K-1}|\\mathbf v_{K-1})\\Rightarrow \\mathbf h_{K-1}\\Rightarrow p(\\mathbf v_K|\\mathbf h_{K-1})\\Rightarrow \\mathbf v_K$$   \n",
    "\n",
    "followed by the CD-k step\n",
    "$$\\Delta \\mathbf W_K =\\mathbf v_K \\otimes \\mathbf h_K - \\mathbf v_{K-1} \\otimes \\mathbf h_{K-1}$$     \n",
    "$$\\mathbf W_K = \\mathbf W_{K-1} + \\alpha * \\Delta \\mathbf W_K$$ \n",
    "    \n",
    "<b>What is $\\alpha$?</b>  \n",
    "Here, alpha is some small step size, and is also known as the \"learning rate\".\n"
   ]
  },
  {
   "cell_type": "markdown",
   "metadata": {},
   "source": [
    "$K$ is adjustable, and good performance can be achieved with $K=1$, so that we just take one set of sampling steps per image.\n"
   ]
  },
  {
   "cell_type": "code",
   "execution_count": 16,
   "metadata": {},
   "outputs": [],
   "source": [
    "h1_prob = tf.nn.sigmoid(tf.matmul([v1_state], W) + hb)\n",
    "h1_state = tf.nn.relu(tf.sign(h1_prob - tf.random.uniform(tf.shape(h1_prob)))) #sample_h_given_X"
   ]
  },
  {
   "cell_type": "markdown",
   "metadata": {},
   "source": [
    "Lets look at the error of the first run:\n"
   ]
  },
  {
   "cell_type": "code",
   "execution_count": 17,
   "metadata": {},
   "outputs": [
    {
     "name": "stdout",
     "output_type": "stream",
     "text": [
      "error:  tf.Tensor(0.49617347, shape=(), dtype=float32)\n"
     ]
    }
   ],
   "source": [
    "print(\"error: \", error(v0_state, v1_state))"
   ]
  },
  {
   "cell_type": "code",
   "execution_count": 18,
   "metadata": {},
   "outputs": [
    {
     "name": "stdout",
     "output_type": "stream",
     "text": [
      "Epoch: 0 batch #: 1  of 300 sample #: 199 reconstruction error: 0.184216\n",
      "Epoch: 0 batch #: 2  of 300 sample #: 199 reconstruction error: 0.213218\n",
      "Epoch: 0 batch #: 3  of 300 sample #: 199 reconstruction error: 0.104963\n",
      "Epoch: 0 batch #: 4  of 300 sample #: 199 reconstruction error: 0.116793\n",
      "Epoch: 0 batch #: 5  of 300 sample #: 199 reconstruction error: 0.107651\n",
      "Epoch: 0 batch #: 6  of 300 sample #: 199 reconstruction error: 0.193897\n",
      "Epoch: 0 batch #: 7  of 300 sample #: 199 reconstruction error: 0.082837\n",
      "Epoch: 0 batch #: 8  of 300 sample #: 199 reconstruction error: 0.111400\n",
      "Epoch: 0 batch #: 9  of 300 sample #: 199 reconstruction error: 0.098532\n",
      "Epoch: 0 batch #: 10  of 300 sample #: 199 reconstruction error: 0.173105\n",
      "Epoch: 0 batch #: 11  of 300 sample #: 199 reconstruction error: 0.090656\n",
      "Epoch: 0 batch #: 12  of 300 sample #: 199 reconstruction error: 0.142398\n",
      "Epoch: 0 batch #: 13  of 300 sample #: 199 reconstruction error: 0.063853\n",
      "Epoch: 0 batch #: 14  of 300 sample #: 199 reconstruction error: 0.098381\n",
      "Epoch: 0 batch #: 15  of 300 sample #: 199 reconstruction error: 0.109540\n",
      "Epoch: 0 batch #: 16  of 300 sample #: 199 reconstruction error: 0.098289\n",
      "Epoch: 0 batch #: 17  of 300 sample #: 199 reconstruction error: 0.087512\n",
      "Epoch: 0 batch #: 18  of 300 sample #: 199 reconstruction error: 0.137051\n",
      "Epoch: 0 batch #: 19  of 300 sample #: 199 reconstruction error: 0.134388\n",
      "Epoch: 0 batch #: 20  of 300 sample #: 199 reconstruction error: 0.086405\n",
      "Epoch: 0 batch #: 21  of 300 sample #: 199 reconstruction error: 0.072256\n",
      "Epoch: 0 batch #: 22  of 300 sample #: 199 reconstruction error: 0.076779\n",
      "Epoch: 0 batch #: 23  of 300 sample #: 199 reconstruction error: 0.115872\n",
      "Epoch: 0 batch #: 24  of 300 sample #: 199 reconstruction error: 0.136144\n",
      "Epoch: 0 batch #: 25  of 300 sample #: 199 reconstruction error: 0.083548\n",
      "Epoch: 0 batch #: 26  of 300 sample #: 199 reconstruction error: 0.098556\n",
      "Epoch: 0 batch #: 27  of 300 sample #: 199 reconstruction error: 0.122218\n",
      "Epoch: 0 batch #: 28  of 300 sample #: 199 reconstruction error: 0.103418\n",
      "Epoch: 0 batch #: 29  of 300 sample #: 199 reconstruction error: 0.095469\n",
      "Epoch: 0 batch #: 30  of 300 sample #: 199 reconstruction error: 0.077183\n",
      "Epoch: 0 batch #: 31  of 300 sample #: 199 reconstruction error: 0.108105\n",
      "Epoch: 0 batch #: 32  of 300 sample #: 199 reconstruction error: 0.110120\n",
      "Epoch: 0 batch #: 33  of 300 sample #: 199 reconstruction error: 0.069421\n",
      "Epoch: 0 batch #: 34  of 300 sample #: 199 reconstruction error: 0.093968\n",
      "Epoch: 0 batch #: 35  of 300 sample #: 199 reconstruction error: 0.074775\n",
      "Epoch: 0 batch #: 36  of 300 sample #: 199 reconstruction error: 0.086620\n",
      "Epoch: 0 batch #: 37  of 300 sample #: 199 reconstruction error: 0.059547\n",
      "Epoch: 0 batch #: 38  of 300 sample #: 199 reconstruction error: 0.072079\n",
      "Epoch: 0 batch #: 39  of 300 sample #: 199 reconstruction error: 0.094253\n",
      "Epoch: 0 batch #: 40  of 300 sample #: 199 reconstruction error: 0.122628\n",
      "Epoch: 0 batch #: 41  of 300 sample #: 199 reconstruction error: 0.067344\n",
      "Epoch: 0 batch #: 42  of 300 sample #: 199 reconstruction error: 0.063889\n",
      "Epoch: 0 batch #: 43  of 300 sample #: 199 reconstruction error: 0.110688\n",
      "Epoch: 0 batch #: 44  of 300 sample #: 199 reconstruction error: 0.080734\n",
      "Epoch: 0 batch #: 45  of 300 sample #: 199 reconstruction error: 0.070436\n",
      "Epoch: 0 batch #: 46  of 300 sample #: 199 reconstruction error: 0.029755\n",
      "Epoch: 0 batch #: 47  of 300 sample #: 199 reconstruction error: 0.043221\n",
      "Epoch: 0 batch #: 48  of 300 sample #: 199 reconstruction error: 0.032673\n",
      "Epoch: 0 batch #: 49  of 300 sample #: 199 reconstruction error: 0.135362\n",
      "Epoch: 0 batch #: 50  of 300 sample #: 199 reconstruction error: 0.051223\n",
      "Epoch: 0 batch #: 51  of 300 sample #: 199 reconstruction error: 0.059899\n",
      "Epoch: 0 batch #: 52  of 300 sample #: 199 reconstruction error: 0.027062\n",
      "Epoch: 0 batch #: 53  of 300 sample #: 199 reconstruction error: 0.106907\n",
      "Epoch: 0 batch #: 54  of 300 sample #: 199 reconstruction error: 0.040975\n",
      "Epoch: 0 batch #: 55  of 300 sample #: 199 reconstruction error: 0.101986\n",
      "Epoch: 0 batch #: 56  of 300 sample #: 199 reconstruction error: 0.044426\n",
      "Epoch: 0 batch #: 57  of 300 sample #: 199 reconstruction error: 0.048705\n",
      "Epoch: 0 batch #: 58  of 300 sample #: 199 reconstruction error: 0.079029\n",
      "Epoch: 0 batch #: 59  of 300 sample #: 199 reconstruction error: 0.052639\n",
      "Epoch: 0 batch #: 60  of 300 sample #: 199 reconstruction error: 0.086276\n",
      "Epoch: 0 batch #: 61  of 300 sample #: 199 reconstruction error: 0.089801\n",
      "Epoch: 0 batch #: 62  of 300 sample #: 199 reconstruction error: 0.077567\n",
      "Epoch: 0 batch #: 63  of 300 sample #: 199 reconstruction error: 0.058422\n",
      "Epoch: 0 batch #: 64  of 300 sample #: 199 reconstruction error: 0.093911\n",
      "Epoch: 0 batch #: 65  of 300 sample #: 199 reconstruction error: 0.087840\n",
      "Epoch: 0 batch #: 66  of 300 sample #: 199 reconstruction error: 0.057765\n",
      "Epoch: 0 batch #: 67  of 300 sample #: 199 reconstruction error: 0.055567\n",
      "Epoch: 0 batch #: 68  of 300 sample #: 199 reconstruction error: 0.066790\n",
      "Epoch: 0 batch #: 69  of 300 sample #: 199 reconstruction error: 0.073303\n",
      "Epoch: 0 batch #: 70  of 300 sample #: 199 reconstruction error: 0.095123\n",
      "Epoch: 0 batch #: 71  of 300 sample #: 199 reconstruction error: 0.090611\n",
      "Epoch: 0 batch #: 72  of 300 sample #: 199 reconstruction error: 0.057699\n",
      "Epoch: 0 batch #: 73  of 300 sample #: 199 reconstruction error: 0.080981\n",
      "Epoch: 0 batch #: 74  of 300 sample #: 199 reconstruction error: 0.074701\n",
      "Epoch: 0 batch #: 75  of 300 sample #: 199 reconstruction error: 0.047523\n",
      "Epoch: 0 batch #: 76  of 300 sample #: 199 reconstruction error: 0.065576\n",
      "Epoch: 0 batch #: 77  of 300 sample #: 199 reconstruction error: 0.082982\n",
      "Epoch: 0 batch #: 78  of 300 sample #: 199 reconstruction error: 0.099257\n",
      "Epoch: 0 batch #: 79  of 300 sample #: 199 reconstruction error: 0.109817\n",
      "Epoch: 0 batch #: 80  of 300 sample #: 199 reconstruction error: 0.045276\n",
      "Epoch: 0 batch #: 81  of 300 sample #: 199 reconstruction error: 0.043992\n",
      "Epoch: 0 batch #: 82  of 300 sample #: 199 reconstruction error: 0.048729\n",
      "Epoch: 0 batch #: 83  of 300 sample #: 199 reconstruction error: 0.085684\n",
      "Epoch: 0 batch #: 84  of 300 sample #: 199 reconstruction error: 0.084090\n",
      "Epoch: 0 batch #: 85  of 300 sample #: 199 reconstruction error: 0.050535\n",
      "Epoch: 0 batch #: 86  of 300 sample #: 199 reconstruction error: 0.081067\n",
      "Epoch: 0 batch #: 87  of 300 sample #: 199 reconstruction error: 0.073349\n",
      "Epoch: 0 batch #: 88  of 300 sample #: 199 reconstruction error: 0.035210\n",
      "Epoch: 0 batch #: 89  of 300 sample #: 199 reconstruction error: 0.057117\n",
      "Epoch: 0 batch #: 90  of 300 sample #: 199 reconstruction error: 0.087184\n",
      "Epoch: 0 batch #: 91  of 300 sample #: 199 reconstruction error: 0.062512\n",
      "Epoch: 0 batch #: 92  of 300 sample #: 199 reconstruction error: 0.083245\n",
      "Epoch: 0 batch #: 93  of 300 sample #: 199 reconstruction error: 0.116123\n",
      "Epoch: 0 batch #: 94  of 300 sample #: 199 reconstruction error: 0.111574\n",
      "Epoch: 0 batch #: 95  of 300 sample #: 199 reconstruction error: 0.057692\n",
      "Epoch: 0 batch #: 96  of 300 sample #: 199 reconstruction error: 0.050354\n",
      "Epoch: 0 batch #: 97  of 300 sample #: 199 reconstruction error: 0.090744\n",
      "Epoch: 0 batch #: 98  of 300 sample #: 199 reconstruction error: 0.091285\n",
      "Epoch: 0 batch #: 99  of 300 sample #: 199 reconstruction error: 0.056670\n",
      "Epoch: 0 batch #: 100  of 300 sample #: 199 reconstruction error: 0.106972\n",
      "Epoch: 0 batch #: 101  of 300 sample #: 199 reconstruction error: 0.074452\n",
      "Epoch: 0 batch #: 102  of 300 sample #: 199 reconstruction error: 0.089400\n",
      "Epoch: 0 batch #: 103  of 300 sample #: 199 reconstruction error: 0.060562\n",
      "Epoch: 0 batch #: 104  of 300 sample #: 199 reconstruction error: 0.072023\n",
      "Epoch: 0 batch #: 105  of 300 sample #: 199 reconstruction error: 0.055434\n",
      "Epoch: 0 batch #: 106  of 300 sample #: 199 reconstruction error: 0.096503\n",
      "Epoch: 0 batch #: 107  of 300 sample #: 199 reconstruction error: 0.121386\n",
      "Epoch: 0 batch #: 108  of 300 sample #: 199 reconstruction error: 0.077795\n",
      "Epoch: 0 batch #: 109  of 300 sample #: 199 reconstruction error: 0.103992\n",
      "Epoch: 0 batch #: 110  of 300 sample #: 199 reconstruction error: 0.070711\n",
      "Epoch: 0 batch #: 111  of 300 sample #: 199 reconstruction error: 0.092899\n",
      "Epoch: 0 batch #: 112  of 300 sample #: 199 reconstruction error: 0.038975\n",
      "Epoch: 0 batch #: 113  of 300 sample #: 199 reconstruction error: 0.073129\n",
      "Epoch: 0 batch #: 114  of 300 sample #: 199 reconstruction error: 0.087024\n",
      "Epoch: 0 batch #: 115  of 300 sample #: 199 reconstruction error: 0.052558\n",
      "Epoch: 0 batch #: 116  of 300 sample #: 199 reconstruction error: 0.047149\n",
      "Epoch: 0 batch #: 117  of 300 sample #: 199 reconstruction error: 0.048920\n",
      "Epoch: 0 batch #: 118  of 300 sample #: 199 reconstruction error: 0.060520\n",
      "Epoch: 0 batch #: 119  of 300 sample #: 199 reconstruction error: 0.109497\n",
      "Epoch: 0 batch #: 120  of 300 sample #: 199 reconstruction error: 0.081663\n",
      "Epoch: 0 batch #: 121  of 300 sample #: 199 reconstruction error: 0.050641\n",
      "Epoch: 0 batch #: 122  of 300 sample #: 199 reconstruction error: 0.105114\n",
      "Epoch: 0 batch #: 123  of 300 sample #: 199 reconstruction error: 0.078159\n",
      "Epoch: 0 batch #: 124  of 300 sample #: 199 reconstruction error: 0.073904\n",
      "Epoch: 0 batch #: 125  of 300 sample #: 199 reconstruction error: 0.041200\n",
      "Epoch: 0 batch #: 126  of 300 sample #: 199 reconstruction error: 0.078795\n",
      "Epoch: 0 batch #: 127  of 300 sample #: 199 reconstruction error: 0.094432\n",
      "Epoch: 0 batch #: 128  of 300 sample #: 199 reconstruction error: 0.079911\n",
      "Epoch: 0 batch #: 129  of 300 sample #: 199 reconstruction error: 0.052751\n",
      "Epoch: 0 batch #: 130  of 300 sample #: 199 reconstruction error: 0.088964\n",
      "Epoch: 0 batch #: 131  of 300 sample #: 199 reconstruction error: 0.067874\n",
      "Epoch: 0 batch #: 132  of 300 sample #: 199 reconstruction error: 0.049477\n",
      "Epoch: 0 batch #: 133  of 300 sample #: 199 reconstruction error: 0.073852\n",
      "Epoch: 0 batch #: 134  of 300 sample #: 199 reconstruction error: 0.126574\n",
      "Epoch: 0 batch #: 135  of 300 sample #: 199 reconstruction error: 0.095384\n",
      "Epoch: 0 batch #: 136  of 300 sample #: 199 reconstruction error: 0.084212\n",
      "Epoch: 0 batch #: 137  of 300 sample #: 199 reconstruction error: 0.073358\n",
      "Epoch: 0 batch #: 138  of 300 sample #: 199 reconstruction error: 0.068776\n",
      "Epoch: 0 batch #: 139  of 300 sample #: 199 reconstruction error: 0.099110\n",
      "Epoch: 0 batch #: 140  of 300 sample #: 199 reconstruction error: 0.074791\n",
      "Epoch: 0 batch #: 141  of 300 sample #: 199 reconstruction error: 0.085586\n",
      "Epoch: 0 batch #: 142  of 300 sample #: 199 reconstruction error: 0.057064\n",
      "Epoch: 0 batch #: 143  of 300 sample #: 199 reconstruction error: 0.057957\n",
      "Epoch: 0 batch #: 144  of 300 sample #: 199 reconstruction error: 0.077902\n",
      "Epoch: 0 batch #: 145  of 300 sample #: 199 reconstruction error: 0.091401\n",
      "Epoch: 0 batch #: 146  of 300 sample #: 199 reconstruction error: 0.109402\n",
      "Epoch: 0 batch #: 147  of 300 sample #: 199 reconstruction error: 0.074152\n",
      "Epoch: 0 batch #: 148  of 300 sample #: 199 reconstruction error: 0.073939\n",
      "Epoch: 0 batch #: 149  of 300 sample #: 199 reconstruction error: 0.047394\n",
      "Epoch: 0 batch #: 150  of 300 sample #: 199 reconstruction error: 0.052453\n",
      "Epoch: 0 batch #: 151  of 300 sample #: 199 reconstruction error: 0.116746\n",
      "Epoch: 0 batch #: 152  of 300 sample #: 199 reconstruction error: 0.085840\n",
      "Epoch: 0 batch #: 153  of 300 sample #: 199 reconstruction error: 0.065569\n",
      "Epoch: 0 batch #: 154  of 300 sample #: 199 reconstruction error: 0.073632\n",
      "Epoch: 0 batch #: 155  of 300 sample #: 199 reconstruction error: 0.064794\n",
      "Epoch: 0 batch #: 156  of 300 sample #: 199 reconstruction error: 0.069204\n",
      "Epoch: 0 batch #: 157  of 300 sample #: 199 reconstruction error: 0.094009\n",
      "Epoch: 0 batch #: 158  of 300 sample #: 199 reconstruction error: 0.079888\n",
      "Epoch: 0 batch #: 159  of 300 sample #: 199 reconstruction error: 0.056220\n",
      "Epoch: 0 batch #: 160  of 300 sample #: 199 reconstruction error: 0.056973\n",
      "Epoch: 0 batch #: 161  of 300 sample #: 199 reconstruction error: 0.090383\n",
      "Epoch: 0 batch #: 162  of 300 sample #: 199 reconstruction error: 0.102564\n",
      "Epoch: 0 batch #: 163  of 300 sample #: 199 reconstruction error: 0.046680\n",
      "Epoch: 0 batch #: 164  of 300 sample #: 199 reconstruction error: 0.076525\n",
      "Epoch: 0 batch #: 165  of 300 sample #: 199 reconstruction error: 0.078104\n",
      "Epoch: 0 batch #: 166  of 300 sample #: 199 reconstruction error: 0.046680\n",
      "Epoch: 0 batch #: 167  of 300 sample #: 199 reconstruction error: 0.089150\n",
      "Epoch: 0 batch #: 168  of 300 sample #: 199 reconstruction error: 0.050832\n",
      "Epoch: 0 batch #: 169  of 300 sample #: 199 reconstruction error: 0.038827\n",
      "Epoch: 0 batch #: 170  of 300 sample #: 199 reconstruction error: 0.065856\n",
      "Epoch: 0 batch #: 171  of 300 sample #: 199 reconstruction error: 0.025604\n",
      "Epoch: 0 batch #: 172  of 300 sample #: 199 reconstruction error: 0.060616\n",
      "Epoch: 0 batch #: 173  of 300 sample #: 199 reconstruction error: 0.082033\n",
      "Epoch: 0 batch #: 174  of 300 sample #: 199 reconstruction error: 0.102101\n",
      "Epoch: 0 batch #: 175  of 300 sample #: 199 reconstruction error: 0.063109\n",
      "Epoch: 0 batch #: 176  of 300 sample #: 199 reconstruction error: 0.051979\n",
      "Epoch: 0 batch #: 177  of 300 sample #: 199 reconstruction error: 0.034737\n",
      "Epoch: 0 batch #: 178  of 300 sample #: 199 reconstruction error: 0.105270\n",
      "Epoch: 0 batch #: 179  of 300 sample #: 199 reconstruction error: 0.085814\n",
      "Epoch: 0 batch #: 180  of 300 sample #: 199 reconstruction error: 0.083391\n",
      "Epoch: 0 batch #: 181  of 300 sample #: 199 reconstruction error: 0.094882\n",
      "Epoch: 0 batch #: 182  of 300 sample #: 199 reconstruction error: 0.067353\n",
      "Epoch: 0 batch #: 183  of 300 sample #: 199 reconstruction error: 0.118363\n",
      "Epoch: 0 batch #: 184  of 300 sample #: 199 reconstruction error: 0.052058\n",
      "Epoch: 0 batch #: 185  of 300 sample #: 199 reconstruction error: 0.082077\n",
      "Epoch: 0 batch #: 186  of 300 sample #: 199 reconstruction error: 0.100233\n",
      "Epoch: 0 batch #: 187  of 300 sample #: 199 reconstruction error: 0.054002\n",
      "Epoch: 0 batch #: 188  of 300 sample #: 199 reconstruction error: 0.110420\n",
      "Epoch: 0 batch #: 189  of 300 sample #: 199 reconstruction error: 0.082868\n",
      "Epoch: 0 batch #: 190  of 300 sample #: 199 reconstruction error: 0.058866\n",
      "Epoch: 0 batch #: 191  of 300 sample #: 199 reconstruction error: 0.118288\n",
      "Epoch: 0 batch #: 192  of 300 sample #: 199 reconstruction error: 0.124296\n",
      "Epoch: 0 batch #: 193  of 300 sample #: 199 reconstruction error: 0.082455\n",
      "Epoch: 0 batch #: 194  of 300 sample #: 199 reconstruction error: 0.081700\n",
      "Epoch: 0 batch #: 195  of 300 sample #: 199 reconstruction error: 0.042067\n",
      "Epoch: 0 batch #: 196  of 300 sample #: 199 reconstruction error: 0.045968\n",
      "Epoch: 0 batch #: 197  of 300 sample #: 199 reconstruction error: 0.047312\n",
      "Epoch: 0 batch #: 198  of 300 sample #: 199 reconstruction error: 0.105930\n",
      "Epoch: 0 batch #: 199  of 300 sample #: 199 reconstruction error: 0.074537\n",
      "Epoch: 0 batch #: 200  of 300 sample #: 199 reconstruction error: 0.098855\n",
      "Epoch: 0 batch #: 201  of 300 sample #: 199 reconstruction error: 0.085490\n",
      "Epoch: 0 batch #: 202  of 300 sample #: 199 reconstruction error: 0.028923\n",
      "Epoch: 0 batch #: 203  of 300 sample #: 199 reconstruction error: 0.098240\n",
      "Epoch: 0 batch #: 204  of 300 sample #: 199 reconstruction error: 0.045207\n",
      "Epoch: 0 batch #: 205  of 300 sample #: 199 reconstruction error: 0.014833\n",
      "Epoch: 0 batch #: 206  of 300 sample #: 199 reconstruction error: 0.061522\n",
      "Epoch: 0 batch #: 207  of 300 sample #: 199 reconstruction error: 0.072789\n",
      "Epoch: 0 batch #: 208  of 300 sample #: 199 reconstruction error: 0.048878\n",
      "Epoch: 0 batch #: 209  of 300 sample #: 199 reconstruction error: 0.025329\n",
      "Epoch: 0 batch #: 210  of 300 sample #: 199 reconstruction error: 0.105244\n",
      "Epoch: 0 batch #: 211  of 300 sample #: 199 reconstruction error: 0.086642\n",
      "Epoch: 0 batch #: 212  of 300 sample #: 199 reconstruction error: 0.096962\n",
      "Epoch: 0 batch #: 213  of 300 sample #: 199 reconstruction error: 0.105305\n",
      "Epoch: 0 batch #: 214  of 300 sample #: 199 reconstruction error: 0.127379\n",
      "Epoch: 0 batch #: 215  of 300 sample #: 199 reconstruction error: 0.029602\n",
      "Epoch: 0 batch #: 216  of 300 sample #: 199 reconstruction error: 0.094185\n",
      "Epoch: 0 batch #: 217  of 300 sample #: 199 reconstruction error: 0.084487\n",
      "Epoch: 0 batch #: 218  of 300 sample #: 199 reconstruction error: 0.068857\n",
      "Epoch: 0 batch #: 219  of 300 sample #: 199 reconstruction error: 0.075683\n",
      "Epoch: 0 batch #: 220  of 300 sample #: 199 reconstruction error: 0.061847\n",
      "Epoch: 0 batch #: 221  of 300 sample #: 199 reconstruction error: 0.085532\n",
      "Epoch: 0 batch #: 222  of 300 sample #: 199 reconstruction error: 0.096850\n",
      "Epoch: 0 batch #: 223  of 300 sample #: 199 reconstruction error: 0.064725\n",
      "Epoch: 0 batch #: 224  of 300 sample #: 199 reconstruction error: 0.062625\n",
      "Epoch: 0 batch #: 225  of 300 sample #: 199 reconstruction error: 0.077936\n",
      "Epoch: 0 batch #: 226  of 300 sample #: 199 reconstruction error: 0.121360\n",
      "Epoch: 0 batch #: 227  of 300 sample #: 199 reconstruction error: 0.091212\n",
      "Epoch: 0 batch #: 228  of 300 sample #: 199 reconstruction error: 0.055001\n",
      "Epoch: 0 batch #: 229  of 300 sample #: 199 reconstruction error: 0.081347\n",
      "Epoch: 0 batch #: 230  of 300 sample #: 199 reconstruction error: 0.037920\n",
      "Epoch: 0 batch #: 231  of 300 sample #: 199 reconstruction error: 0.027635\n",
      "Epoch: 0 batch #: 232  of 300 sample #: 199 reconstruction error: 0.072365\n",
      "Epoch: 0 batch #: 233  of 300 sample #: 199 reconstruction error: 0.086847\n",
      "Epoch: 0 batch #: 234  of 300 sample #: 199 reconstruction error: 0.073570\n",
      "Epoch: 0 batch #: 235  of 300 sample #: 199 reconstruction error: 0.056475\n",
      "Epoch: 0 batch #: 236  of 300 sample #: 199 reconstruction error: 0.105989\n",
      "Epoch: 0 batch #: 237  of 300 sample #: 199 reconstruction error: 0.070416\n",
      "Epoch: 0 batch #: 238  of 300 sample #: 199 reconstruction error: 0.093532\n",
      "Epoch: 0 batch #: 239  of 300 sample #: 199 reconstruction error: 0.016491\n",
      "Epoch: 0 batch #: 240  of 300 sample #: 199 reconstruction error: 0.089433\n",
      "Epoch: 0 batch #: 241  of 300 sample #: 199 reconstruction error: 0.095806\n",
      "Epoch: 0 batch #: 242  of 300 sample #: 199 reconstruction error: 0.067399\n",
      "Epoch: 0 batch #: 243  of 300 sample #: 199 reconstruction error: 0.073976\n",
      "Epoch: 0 batch #: 244  of 300 sample #: 199 reconstruction error: 0.079568\n",
      "Epoch: 0 batch #: 245  of 300 sample #: 199 reconstruction error: 0.067660\n",
      "Epoch: 0 batch #: 246  of 300 sample #: 199 reconstruction error: 0.080937\n",
      "Epoch: 0 batch #: 247  of 300 sample #: 199 reconstruction error: 0.054538\n",
      "Epoch: 0 batch #: 248  of 300 sample #: 199 reconstruction error: 0.075875\n",
      "Epoch: 0 batch #: 249  of 300 sample #: 199 reconstruction error: 0.046726\n",
      "Epoch: 0 batch #: 250  of 300 sample #: 199 reconstruction error: 0.094249\n",
      "Epoch: 0 batch #: 251  of 300 sample #: 199 reconstruction error: 0.052833\n",
      "Epoch: 0 batch #: 252  of 300 sample #: 199 reconstruction error: 0.072283\n",
      "Epoch: 0 batch #: 253  of 300 sample #: 199 reconstruction error: 0.062713\n",
      "Epoch: 0 batch #: 254  of 300 sample #: 199 reconstruction error: 0.031118\n",
      "Epoch: 0 batch #: 255  of 300 sample #: 199 reconstruction error: 0.062065\n",
      "Epoch: 0 batch #: 256  of 300 sample #: 199 reconstruction error: 0.070467\n",
      "Epoch: 0 batch #: 257  of 300 sample #: 199 reconstruction error: 0.091664\n",
      "Epoch: 0 batch #: 258  of 300 sample #: 199 reconstruction error: 0.083882\n",
      "Epoch: 0 batch #: 259  of 300 sample #: 199 reconstruction error: 0.068115\n",
      "Epoch: 0 batch #: 260  of 300 sample #: 199 reconstruction error: 0.115995\n",
      "Epoch: 0 batch #: 261  of 300 sample #: 199 reconstruction error: 0.041185\n",
      "Epoch: 0 batch #: 262  of 300 sample #: 199 reconstruction error: 0.057029\n",
      "Epoch: 0 batch #: 263  of 300 sample #: 199 reconstruction error: 0.078627\n",
      "Epoch: 0 batch #: 264  of 300 sample #: 199 reconstruction error: 0.076670\n",
      "Epoch: 0 batch #: 265  of 300 sample #: 199 reconstruction error: 0.059669\n",
      "Epoch: 0 batch #: 266  of 300 sample #: 199 reconstruction error: 0.042321\n",
      "Epoch: 0 batch #: 267  of 300 sample #: 199 reconstruction error: 0.067756\n",
      "Epoch: 0 batch #: 268  of 300 sample #: 199 reconstruction error: 0.022484\n",
      "Epoch: 0 batch #: 269  of 300 sample #: 199 reconstruction error: 0.074062\n",
      "Epoch: 0 batch #: 270  of 300 sample #: 199 reconstruction error: 0.086088\n",
      "Epoch: 0 batch #: 271  of 300 sample #: 199 reconstruction error: 0.063881\n",
      "Epoch: 0 batch #: 272  of 300 sample #: 199 reconstruction error: 0.051322\n",
      "Epoch: 0 batch #: 273  of 300 sample #: 199 reconstruction error: 0.041882\n",
      "Epoch: 0 batch #: 274  of 300 sample #: 199 reconstruction error: 0.044072\n",
      "Epoch: 0 batch #: 275  of 300 sample #: 199 reconstruction error: 0.091388\n",
      "Epoch: 0 batch #: 276  of 300 sample #: 199 reconstruction error: 0.077318\n",
      "Epoch: 0 batch #: 277  of 300 sample #: 199 reconstruction error: 0.085839\n",
      "Epoch: 0 batch #: 278  of 300 sample #: 199 reconstruction error: 0.069724\n",
      "Epoch: 0 batch #: 279  of 300 sample #: 199 reconstruction error: 0.043553\n",
      "Epoch: 0 batch #: 280  of 300 sample #: 199 reconstruction error: 0.069251\n",
      "Epoch: 0 batch #: 281  of 300 sample #: 199 reconstruction error: 0.082167\n",
      "Epoch: 0 batch #: 282  of 300 sample #: 199 reconstruction error: 0.116295\n",
      "Epoch: 0 batch #: 283  of 300 sample #: 199 reconstruction error: 0.043986\n",
      "Epoch: 0 batch #: 284  of 300 sample #: 199 reconstruction error: 0.040598\n",
      "Epoch: 0 batch #: 285  of 300 sample #: 199 reconstruction error: 0.062895\n",
      "Epoch: 0 batch #: 286  of 300 sample #: 199 reconstruction error: 0.086515\n",
      "Epoch: 0 batch #: 287  of 300 sample #: 199 reconstruction error: 0.074536\n",
      "Epoch: 0 batch #: 288  of 300 sample #: 199 reconstruction error: 0.033194\n",
      "Epoch: 0 batch #: 289  of 300 sample #: 199 reconstruction error: 0.064489\n",
      "Epoch: 0 batch #: 290  of 300 sample #: 199 reconstruction error: 0.090225\n",
      "Epoch: 0 batch #: 291  of 300 sample #: 199 reconstruction error: 0.100090\n",
      "Epoch: 0 batch #: 292  of 300 sample #: 199 reconstruction error: 0.056031\n",
      "Epoch: 0 batch #: 293  of 300 sample #: 199 reconstruction error: 0.064438\n",
      "Epoch: 0 batch #: 294  of 300 sample #: 199 reconstruction error: 0.074398\n",
      "Epoch: 0 batch #: 295  of 300 sample #: 199 reconstruction error: 0.055384\n",
      "Epoch: 0 batch #: 296  of 300 sample #: 199 reconstruction error: 0.023787\n",
      "Epoch: 0 batch #: 297  of 300 sample #: 199 reconstruction error: 0.100990\n",
      "Epoch: 0 batch #: 298  of 300 sample #: 199 reconstruction error: 0.048431\n",
      "Epoch: 0 batch #: 299  of 300 sample #: 199 reconstruction error: 0.051701\n",
      "Epoch: 0 batch #: 300  of 300 sample #: 199 reconstruction error: 0.081804\n"
     ]
    }
   ],
   "source": [
    "#Parameters\n",
    "alpha = 0.01\n",
    "epochs = 1\n",
    "batchsize = 200\n",
    "weights = []\n",
    "errors = []\n",
    "batch_number = 0\n",
    "K = 1\n",
    "\n",
    "#creating datasets\n",
    "train_ds = \\\n",
    "    tf.data.Dataset.from_tensor_slices((trX, trY)).batch(batchsize)\n",
    "\n",
    "for epoch in range(epochs):\n",
    "    for batch_x, batch_y in train_ds:\n",
    "        batch_number += 1\n",
    "        for i_sample in range(batchsize):           \n",
    "            for k in range(K):\n",
    "                v0_state = batch_x[i_sample]\n",
    "                h0_state = hidden_layer(v0_state, W, hb)\n",
    "                v1_state = reconstructed_output(h0_state, W, vb)\n",
    "                h1_state = hidden_layer(v1_state, W, hb)\n",
    "\n",
    "                delta_W = tf.matmul(tf.transpose([v0_state]), h0_state) - tf.matmul(tf.transpose([v1_state]), h1_state)\n",
    "                W = W + alpha * delta_W\n",
    "\n",
    "                vb = vb + alpha * tf.reduce_mean(v0_state - v1_state, 0)\n",
    "                hb = hb + alpha * tf.reduce_mean(h0_state - h1_state, 0) \n",
    "\n",
    "                v0_state = v1_state\n",
    "\n",
    "            if i_sample == batchsize-1:\n",
    "                err = error(batch_x[i_sample], v1_state)\n",
    "                errors.append(err)\n",
    "                weights.append(W)\n",
    "                print ( 'Epoch: %d' % epoch, \n",
    "                       \"batch #: %i \" % batch_number, \"of %i\" % int(60e3/batchsize), \n",
    "                       \"sample #: %i\" % i_sample,\n",
    "                       'reconstruction error: %f' % err)\n",
    "\n"
   ]
  },
  {
   "cell_type": "markdown",
   "metadata": {},
   "source": [
    "Let's take a look at the errors at the end of each batch:\n"
   ]
  },
  {
   "cell_type": "code",
   "execution_count": 19,
   "metadata": {},
   "outputs": [
    {
     "data": {
      "image/png": "[encoded data removed]",
      "text/plain": [
       "<Figure size 640x480 with 1 Axes>"
      ]
     },
     "metadata": {},
     "output_type": "display_data"
    }
   ],
   "source": [
    "plt.plot(errors)\n",
    "plt.xlabel(\"Batch Number\")\n",
    "plt.ylabel(\"Error\")\n",
    "plt.show()"
   ]
  },
  {
   "cell_type": "markdown",
   "metadata": {},
   "source": [
    "What is the final weight matrix $W$ after training?\n"
   ]
  },
  {
   "cell_type": "code",
   "execution_count": 20,
   "metadata": {},
   "outputs": [
    {
     "name": "stdout",
     "output_type": "stream",
     "text": [
      "[[-0.29       -0.35999992 -0.11999998 ... -0.36999992 -0.30999997\n",
      "  -0.18      ]\n",
      " [-0.36999992 -0.4999998  -0.12999998 ... -0.29999998 -0.31999996\n",
      "  -0.17      ]\n",
      " [-0.36999992 -0.42999986 -0.08999999 ... -0.31999996 -0.28\n",
      "  -0.25000003]\n",
      " ...\n",
      " [-0.35999992 -0.42999986 -0.13999999 ... -0.40999988 -0.31999996\n",
      "  -0.23000003]\n",
      " [-0.31999996 -0.45999983 -0.09999999 ... -0.3799999  -0.22000003\n",
      "  -0.18      ]\n",
      " [-0.32999995 -0.46999982 -0.14999999 ... -0.3899999  -0.31999996\n",
      "  -0.22000003]]\n"
     ]
    }
   ],
   "source": [
    "print(W.numpy()) # a weight matrix of shape (50,784)"
   ]
  },
  {
   "cell_type": "markdown",
   "metadata": {},
   "source": [
    "<a id=\"ref5\"></a>\n",
    "<h3>Learned features</h3> \n"
   ]
  },
  {
   "cell_type": "markdown",
   "metadata": {},
   "source": [
    "We can take each hidden unit and visualize the connections between that hidden unit and each element in the input vector. In our case, we have 50 hidden units. Lets visualize those.\n"
   ]
  },
  {
   "cell_type": "markdown",
   "metadata": {},
   "source": [
    "Let's plot the current weights:\n",
    "<b>tile_raster_images</b> helps in generating an easy to grasp image from a set of samples or weights. It transforms the <b>uw</b> (with one flattened image per row of size 784), into an array (of size $28\\times28$) in which images are reshaped and laid out like tiles on a floor.\n"
   ]
  },
  {
   "cell_type": "code",
   "execution_count": 21,
   "metadata": {},
   "outputs": [
    {
     "data": {
      "image/png": "[encoded data removed]",
      "text/plain": [
       "<Figure size 1800x1800 with 1 Axes>"
      ]
     },
     "metadata": {},
     "output_type": "display_data"
    }
   ],
   "source": [
    "tile_raster_images(X=W.numpy().T, img_shape=(28, 28), tile_shape=(5, 10), tile_spacing=(1, 1))\n",
    "import matplotlib.pyplot as plt\n",
    "from PIL import Image\n",
    "%matplotlib inline\n",
    "image = Image.fromarray(tile_raster_images(X=W.numpy().T, img_shape=(28, 28) ,tile_shape=(5, 10), tile_spacing=(1, 1)))\n",
    "### Plot image\n",
    "plt.rcParams['figure.figsize'] = (18.0, 18.0)\n",
    "imgplot = plt.imshow(image)\n",
    "imgplot.set_cmap('gray')  "
   ]
  },
  {
   "cell_type": "markdown",
   "metadata": {},
   "source": [
    "Each tile in the above visualization corresponds to a vector of connections between a hidden unit and visible layer's units. \n"
   ]
  },
  {
   "cell_type": "markdown",
   "metadata": {},
   "source": [
    "Let's look at one of the learned weights corresponding to one of hidden units for example. In this particular square, the gray color represents weight = 0, and the whiter it is, the more positive the weights are (closer to 1). Conversely, the darker pixels are, the more negative the weights. The positive pixels will increase the probability of activation in hidden units (after multiplying by input/visible pixels), and negative pixels will decrease the probability of a unit hidden to be 1 (activated). So, why is this important?  So we can see that this specific square (hidden unit) can detect a feature (e.g. a \"/\" shape) and if it exists in the input.\n"
   ]
  },
  {
   "cell_type": "code",
   "execution_count": 22,
   "metadata": {},
   "outputs": [
    {
     "data": {
      "image/png": "[encoded data removed]",
      "text/plain": [
       "<Figure size 400x400 with 1 Axes>"
      ]
     },
     "metadata": {},
     "output_type": "display_data"
    }
   ],
   "source": [
    "from PIL import Image\n",
    "image = Image.fromarray(tile_raster_images(X =W.numpy().T[10:11], img_shape=(28, 28),tile_shape=(1, 1), tile_spacing=(1, 1)))\n",
    "### Plot image\n",
    "plt.rcParams['figure.figsize'] = (4.0, 4.0)\n",
    "imgplot = plt.imshow(image)\n",
    "imgplot.set_cmap('gray')  "
   ]
  },
  {
   "cell_type": "markdown",
   "metadata": {},
   "source": [
    "Let's look at the reconstruction of an image now. Imagine that we have a destructed image of figure 3. Lets see if our trained network can fix it:\n",
    "\n",
    "First we plot the image:\n"
   ]
  },
  {
   "cell_type": "code",
   "execution_count": 23,
   "metadata": {},
   "outputs": [
    {
     "name": "stdout",
     "output_type": "stream",
     "text": [
      "--2023-01-02 16:09:08--  https://ibm.box.com/shared/static/vvm1b63uvuxq88vbw9znpwu5ol380mco.jpg\n",
      "Resolving ibm.box.com (ibm.box.com)... 74.112.186.144\n",
      "Connecting to ibm.box.com (ibm.box.com)|74.112.186.144|:443... connected.\n",
      "HTTP request sent, awaiting response... 301 Moved Permanently\n",
      "Location: /public/static/vvm1b63uvuxq88vbw9znpwu5ol380mco.jpg [following]\n",
      "--2023-01-02 16:09:09--  https://ibm.box.com/public/static/vvm1b63uvuxq88vbw9znpwu5ol380mco.jpg\n",
      "Reusing existing connection to ibm.box.com:443.\n",
      "HTTP request sent, awaiting response... 301 Moved Permanently\n",
      "Location: https://ibm.ent.box.com/public/static/vvm1b63uvuxq88vbw9znpwu5ol380mco.jpg [following]\n",
      "--2023-01-02 16:09:09--  https://ibm.ent.box.com/public/static/vvm1b63uvuxq88vbw9znpwu5ol380mco.jpg\n",
      "Resolving ibm.ent.box.com (ibm.ent.box.com)... 74.112.186.144\n",
      "Connecting to ibm.ent.box.com (ibm.ent.box.com)|74.112.186.144|:443... connected.\n",
      "HTTP request sent, awaiting response... 302 Found\n",
      "Location: https://dl2.boxcloud.com/d/1/b1!ky5VTINX7Vjh6FLjZbzPtSL5pcVAokVpT8fX-XdPgBqq_u4zlGWwhmAamPTFtwDgIQaghn3Suqo1sVlj1KZfPhLq5Jv1rcttKhy5TPoclHCG296oYpKrLHxs67OcAeQKLiHfqeUlIWLYeGrZDXjwKqI4tctB2HrO3VfzcfzWhhFeyEluR_mmWnohB1AB8lWpQH_fTLgufymYNYzgwaziJQcKqdOT2KIf99lfT75nPh2B-ORveJaL6eghgWkseIuF0885UAm5wDA11Lij0GUqeNrwAv-fqn5dqr9i8jElORH2vyhl2WG-9Zvl2ADMEOgwDTrEiVvZs9fm-HB0r6xsKiuYua-0t8sa8_rz12QoYuVkUGZk-aTmzTz2olQbOAX21aH_Nj3BGUtL5vsrbb32A0fYFfO1IQD56oOx2dvAdaIEN8gG2NeAPolFyN6TmTkPICvk3n7CoBI9qaZ8EqJ6_1XNfecRjcgSD4_6U7y1IbCRBghewOvOyewQ2RCnuIR78L1YZvnr6Rny5iCFHq7F1t8vCItEYaykM4wsBCDc7gE8bgBfgPKWWBkUBalnDzNm3YsTz6VlfRtkl1q3-BuYJMXH7scvPZsP2rGx_pt8BrV23HMsfiRoAepdIybMYSQw29g2kjKZH4zpwK4XP1fimXtULnUJg6Wp373FTrogZlR5aLxKTXDJjNNzxo5OX0Bdoa0RMTUCsU_l9AccTr00bDmTOvdXYBILjKrTGBFSDO_Ojw0QtJyYerPVR7US6Butv4jnymalSmVJnEDPR750FIhYcZXxKrog6a3kqOo58BJLp6Mb3g0JBqraDdq6RACPzdRImqd6KLbCl2LXJKQXv1Ss29_oBu5kwpTxW5IqaMibtU17xQBBXhczt5YUx4WYVv2jHktV1uq0acMqA_NJj-e3gNGwklhjcuYUhxW4epphmjav4MdO9bY8LgKqIQpnr_qe0iVesUuaOVGNq_D9Rh9W4FIlxKXC-RaW9hF2mmryeqfz6c6sy5zmaVCQ8bjBFY3xjWQyMbQLo5bit9qQSLnQ90sbREYWkQdASbTbxI-lKevo3xh6LJiU6ZIT9bGXjuw1cTBCGg9iLk72vLUGoRvK9RJjkEAD79klXlzE9-vLwGcdwcOxuD86oG-tj87eQwe2iUVr1GtUj22agjJt8ycmfqH5atxb3K5gkWt8EaDAn7O1A3nXNyizjeBfQ2SpOLrzSRb8ti0zXNBQJvB_uAQVu6NqevIfqYdzKaJIgsFZ4PqZFdbeH1w9oaApJTSzD7uZxsfPzHeeRAOzo7xLBFEjqVp8hDm7YkWuR4KMfluLmTHsApT5tcD9tcgooBwyoBno6GbFktM6W9VikMpyyj5qTb_osKMt3qee2XWvC0uucKHtlBPqB-Hx8mUNZR1dUlnb97tgfLVx06TwXUL5oKfTe1fGeLznCWx9IKzbBEyY5PeR3PoejOsE7mNL/download [following]\n",
      "--2023-01-02 16:09:10--  https://dl2.boxcloud.com/d/1/b1!ky5VTINX7Vjh6FLjZbzPtSL5pcVAokVpT8fX-XdPgBqq_u4zlGWwhmAamPTFtwDgIQaghn3Suqo1sVlj1KZfPhLq5Jv1rcttKhy5TPoclHCG296oYpKrLHxs67OcAeQKLiHfqeUlIWLYeGrZDXjwKqI4tctB2HrO3VfzcfzWhhFeyEluR_mmWnohB1AB8lWpQH_fTLgufymYNYzgwaziJQcKqdOT2KIf99lfT75nPh2B-ORveJaL6eghgWkseIuF0885UAm5wDA11Lij0GUqeNrwAv-fqn5dqr9i8jElORH2vyhl2WG-9Zvl2ADMEOgwDTrEiVvZs9fm-HB0r6xsKiuYua-0t8sa8_rz12QoYuVkUGZk-aTmzTz2olQbOAX21aH_Nj3BGUtL5vsrbb32A0fYFfO1IQD56oOx2dvAdaIEN8gG2NeAPolFyN6TmTkPICvk3n7CoBI9qaZ8EqJ6_1XNfecRjcgSD4_6U7y1IbCRBghewOvOyewQ2RCnuIR78L1YZvnr6Rny5iCFHq7F1t8vCItEYaykM4wsBCDc7gE8bgBfgPKWWBkUBalnDzNm3YsTz6VlfRtkl1q3-BuYJMXH7scvPZsP2rGx_pt8BrV23HMsfiRoAepdIybMYSQw29g2kjKZH4zpwK4XP1fimXtULnUJg6Wp373FTrogZlR5aLxKTXDJjNNzxo5OX0Bdoa0RMTUCsU_l9AccTr00bDmTOvdXYBILjKrTGBFSDO_Ojw0QtJyYerPVR7US6Butv4jnymalSmVJnEDPR750FIhYcZXxKrog6a3kqOo58BJLp6Mb3g0JBqraDdq6RACPzdRImqd6KLbCl2LXJKQXv1Ss29_oBu5kwpTxW5IqaMibtU17xQBBXhczt5YUx4WYVv2jHktV1uq0acMqA_NJj-e3gNGwklhjcuYUhxW4epphmjav4MdO9bY8LgKqIQpnr_qe0iVesUuaOVGNq_D9Rh9W4FIlxKXC-RaW9hF2mmryeqfz6c6sy5zmaVCQ8bjBFY3xjWQyMbQLo5bit9qQSLnQ90sbREYWkQdASbTbxI-lKevo3xh6LJiU6ZIT9bGXjuw1cTBCGg9iLk72vLUGoRvK9RJjkEAD79klXlzE9-vLwGcdwcOxuD86oG-tj87eQwe2iUVr1GtUj22agjJt8ycmfqH5atxb3K5gkWt8EaDAn7O1A3nXNyizjeBfQ2SpOLrzSRb8ti0zXNBQJvB_uAQVu6NqevIfqYdzKaJIgsFZ4PqZFdbeH1w9oaApJTSzD7uZxsfPzHeeRAOzo7xLBFEjqVp8hDm7YkWuR4KMfluLmTHsApT5tcD9tcgooBwyoBno6GbFktM6W9VikMpyyj5qTb_osKMt3qee2XWvC0uucKHtlBPqB-Hx8mUNZR1dUlnb97tgfLVx06TwXUL5oKfTe1fGeLznCWx9IKzbBEyY5PeR3PoejOsE7mNL/download\n",
      "Resolving dl2.boxcloud.com (dl2.boxcloud.com)... 74.112.186.128\n",
      "Connecting to dl2.boxcloud.com (dl2.boxcloud.com)|74.112.186.128|:443... connected.\n",
      "HTTP request sent, awaiting response... 200 OK\n",
      "Length: 24383 (24K) [image/jpeg]\n",
      "Saving to: ‘destructed3.jpg’\n",
      "\n",
      "destructed3.jpg     100%[===================>]  23.81K  --.-KB/s    in 0.002s  \n",
      "\n",
      "2023-01-02 16:09:10 (13.2 MB/s) - ‘destructed3.jpg’ saved [24383/24383]\n",
      "\n"
     ]
    },
    {
     "data": {
      "image/png": "[encoded data removed]",
      "text/plain": [
       "<PIL.JpegImagePlugin.JpegImageFile image mode=RGB size=181x181 at 0x7F9D842AFE90>"
      ]
     },
     "execution_count": 23,
     "metadata": {},
     "output_type": "execute_result"
    }
   ],
   "source": [
    "!wget -O destructed3.jpg  https://ibm.box.com/shared/static/vvm1b63uvuxq88vbw9znpwu5ol380mco.jpg\n",
    "img = Image.open('destructed3.jpg')\n",
    "img"
   ]
  },
  {
   "cell_type": "markdown",
   "metadata": {},
   "source": [
    "Now let's pass this image through the neural net:\n"
   ]
  },
  {
   "cell_type": "code",
   "execution_count": 24,
   "metadata": {},
   "outputs": [],
   "source": [
    "# convert the image to a 1d numpy array\n",
    "sample_case = np.array(img.convert('I').resize((28,28))).ravel().reshape((1, -1))/255.0\n",
    "\n",
    "sample_case = tf.cast(sample_case, dtype=tf.float32)"
   ]
  },
  {
   "cell_type": "markdown",
   "metadata": {},
   "source": [
    "Feed the sample case into the network and reconstruct the output:\n"
   ]
  },
  {
   "cell_type": "code",
   "execution_count": 25,
   "metadata": {},
   "outputs": [
    {
     "name": "stdout",
     "output_type": "stream",
     "text": [
      "Probability nodes in hidden layer: tf.Tensor(\n",
      "[[9.9999642e-01 1.0000000e+00 2.8052284e-18 4.7885635e-01 2.4493337e-03\n",
      "  1.1815595e-05 2.5241048e-18 9.9920571e-01 6.3619334e-01 9.2840324e-08\n",
      "  1.1563897e-01 1.7117262e-03 8.9735788e-11 1.1277708e-04 2.7242431e-13\n",
      "  9.9843299e-01 9.9274962e-09 2.3756921e-03 1.0424453e-01 1.0000000e+00\n",
      "  1.7665029e-03 9.9967551e-01 1.5147862e-10 1.0000000e+00 1.3712173e-07\n",
      "  7.7875004e-09 9.9999976e-01 4.1233996e-01 7.9453912e-07 6.7722103e-13\n",
      "  1.4332703e-11 9.9998271e-01 2.5859425e-12 9.9999863e-01 9.9996722e-01\n",
      "  9.9991643e-01 7.9017508e-01 2.1600723e-04 3.4181571e-01 1.2168497e-02\n",
      "  9.9705172e-01 2.6660562e-03 1.6838568e-09 9.9836898e-01 1.0000000e+00\n",
      "  1.0541945e-10 5.7233976e-14 4.0535596e-11 9.9997652e-01 1.3622685e-10]], shape=(1, 50), dtype=float32)\n",
      "activated nodes in hidden layer: tf.Tensor(\n",
      "[[1. 1. 0. 0. 0. 0. 0. 1. 1. 0. 0. 0. 0. 0. 0. 1. 0. 0. 0. 1. 0. 1. 0. 1.\n",
      "  0. 0. 1. 0. 0. 0. 0. 1. 0. 1. 1. 1. 1. 0. 0. 0. 1. 0. 0. 1. 1. 0. 0. 0.\n",
      "  1. 0.]], shape=(1, 50), dtype=float32)\n",
      "tf.Tensor(\n",
      "[[1.60396099e-04 1.07493048e-04 1.14140094e-04 1.80780888e-04\n",
      "  2.27570534e-04 2.07960606e-04 8.71322482e-05 1.99794769e-04\n",
      "  1.02250626e-04 1.38133764e-04 2.25335360e-04 1.66922808e-04\n",
      "  1.02761114e-04 1.87695026e-04 1.66535378e-04 2.90066004e-04\n",
      "  1.43617392e-04 1.88201666e-04 1.10766770e-04 1.66833401e-04\n",
      "  1.26153231e-04 1.46567822e-04 1.80780888e-04 1.39415264e-04\n",
      "  2.12162733e-04 2.18570232e-04 1.61975622e-04 1.51067972e-04\n",
      "  2.09987164e-04 1.95860863e-04 1.90079212e-04 1.28746033e-04\n",
      "  1.45703554e-04 1.72525644e-04 2.38180161e-04 1.85459852e-04\n",
      "  1.68502331e-04 2.27838755e-04 2.85983086e-04 3.19182873e-04\n",
      "  2.95668840e-04 2.59310007e-04 1.66535378e-04 1.42514706e-04\n",
      "  3.70144844e-04 3.87817621e-04 1.64151192e-04 1.74015760e-04\n",
      "  1.55687332e-04 2.11656094e-04 1.55150890e-04 1.51187181e-04\n",
      "  1.48057938e-04 1.73717737e-04 2.16454268e-04 1.75416470e-04\n",
      "  1.48057938e-04 1.75416470e-04 1.37984753e-04 1.51753426e-04\n",
      "  2.13265419e-04 1.78545713e-04 2.08944082e-04 2.38090754e-04\n",
      "  2.64167786e-04 2.17676163e-04 2.77280807e-04 1.11237314e-04\n",
      "  1.03802413e-04 1.97738409e-04 2.87681818e-04 4.59074974e-04\n",
      "  5.02824783e-04 1.17585412e-04 1.25288963e-04 1.49875879e-04\n",
      "  8.78906212e-05 2.73764133e-04 3.57419252e-04 1.81525946e-04\n",
      "  2.13116407e-04 1.57028437e-04 1.39415264e-04 2.32070684e-04\n",
      "  1.68591738e-04 1.36703253e-04 1.41173601e-04 1.41978264e-04\n",
      "  2.36302614e-04 2.36600637e-04 3.98606062e-04 4.55081463e-04\n",
      "  4.25010920e-04 3.59803438e-04 3.44753265e-04 2.31295824e-04\n",
      "  2.67118216e-04 4.11719084e-04 1.00290775e-03 1.89265609e-03\n",
      "  3.70121002e-03 1.32963061e-03 9.64164734e-04 3.25351954e-04\n",
      "  1.41739845e-04 2.03400850e-04 2.54064798e-04 2.40713358e-04\n",
      "  2.95072794e-04 3.48061323e-04 1.50948763e-04 1.26123428e-04\n",
      "  1.72019005e-04 1.45047903e-04 1.28328800e-04 1.12200782e-04\n",
      "  2.77429819e-04 1.44615769e-03 1.37445331e-03 1.42285228e-03\n",
      "  1.24308467e-03 4.11880016e-03 2.01809406e-03 1.97115541e-03\n",
      "  4.71913815e-03 5.89320064e-03 3.38354409e-02 5.07221520e-02\n",
      "  6.58601522e-02 4.31711972e-02 2.58559883e-02 9.80663300e-03\n",
      "  2.74077058e-03 1.54411793e-03 3.12554836e-03 2.61634588e-03\n",
      "  1.12718344e-03 3.23355198e-04 1.72883272e-04 1.24424696e-04\n",
      "  1.58727169e-04 1.66833401e-04 1.30772591e-04 1.99675560e-04\n",
      "  7.46786594e-04 2.19258666e-03 6.26149774e-03 2.54630744e-02\n",
      "  5.83716631e-02 7.07940757e-02 1.25071585e-01 1.98738009e-01\n",
      "  2.90959001e-01 5.55541515e-01 8.81775022e-01 8.75055373e-01\n",
      "  8.83732557e-01 8.23625922e-01 4.48931932e-01 2.26162821e-01\n",
      "  1.64072067e-01 1.94035769e-02 1.25063658e-02 4.26849723e-03\n",
      "  7.61270523e-04 5.30451536e-04 4.40597534e-04 2.70873308e-04\n",
      "  1.60396099e-04 1.43051147e-04 1.86294317e-04 6.63369894e-04\n",
      "  3.36065888e-03 7.63091445e-03 2.62351930e-02 6.46699965e-02\n",
      "  4.32660341e-01 5.14620900e-01 5.01966894e-01 7.89147258e-01\n",
      "  9.12095070e-01 9.23087537e-01 9.65224862e-01 9.60325122e-01\n",
      "  9.43180680e-01 9.28434134e-01 8.47658813e-01 7.79593706e-01\n",
      "  3.23969781e-01 1.43696457e-01 2.83491015e-02 7.89180398e-03\n",
      "  2.03526020e-03 4.54813242e-04 3.14384699e-04 1.74492598e-04\n",
      "  1.83820724e-04 2.54720449e-04 3.13222408e-04 1.66997313e-03\n",
      "  5.34749031e-03 2.09102333e-02 8.18993747e-02 1.61516130e-01\n",
      "  3.37452769e-01 6.51840091e-01 7.49739349e-01 8.56529713e-01\n",
      "  8.97417903e-01 8.83533657e-01 8.63823771e-01 8.35497737e-01\n",
      "  6.42526388e-01 4.82165247e-01 7.36126244e-01 8.96566272e-01\n",
      "  7.35665917e-01 5.05086899e-01 4.69414294e-02 5.31765819e-03\n",
      "  1.72811747e-03 2.52157450e-04 7.56114721e-04 1.03993647e-04\n",
      "  1.32888556e-04 1.62988901e-04 3.66896391e-04 1.70761347e-03\n",
      "  3.83895636e-03 2.16128826e-02 5.94361126e-02 9.57772434e-02\n",
      "  3.28402817e-01 4.83590424e-01 5.79657137e-01 6.16774559e-01\n",
      "  5.54227054e-01 5.00603974e-01 3.50890577e-01 1.05536133e-01\n",
      "  5.98136187e-02 8.84230733e-02 3.73361498e-01 6.92443848e-01\n",
      "  7.59577096e-01 5.42395055e-01 8.41320455e-02 9.40421224e-03\n",
      "  3.05277109e-03 5.08934259e-04 3.24636698e-04 2.58207321e-04\n",
      "  1.30206347e-04 2.11209059e-04 2.99185514e-04 9.91642475e-04\n",
      "  2.90346146e-03 1.04969740e-02 3.88435423e-02 9.05382335e-02\n",
      "  8.58682990e-02 1.73233479e-01 3.12002599e-01 1.78447634e-01\n",
      "  1.46480232e-01 3.90475392e-02 2.33490169e-02 1.05185211e-02\n",
      "  1.35233104e-02 7.21948445e-02 3.18656087e-01 8.46732736e-01\n",
      "  8.87923956e-01 6.92678452e-01 1.05367541e-01 9.15691257e-03\n",
      "  3.00347805e-03 5.97983599e-04 4.56005335e-04 2.50965357e-04\n",
      "  1.92582607e-04 2.50577927e-04 3.25292349e-04 1.02862716e-03\n",
      "  2.83294916e-03 8.60935450e-03 9.38442349e-03 3.47930491e-02\n",
      "  3.48421335e-02 3.66289020e-02 7.40024745e-02 8.24075043e-02\n",
      "  1.90159976e-02 2.30858922e-02 1.42986476e-02 3.77956629e-02\n",
      "  1.65223688e-01 4.82663959e-01 8.06297541e-01 9.16361034e-01\n",
      "  7.70254195e-01 3.34991395e-01 5.71270585e-02 6.64082170e-03\n",
      "  1.44344568e-03 7.00742006e-04 3.76909971e-04 1.85549259e-04\n",
      "  1.92403793e-04 2.35676765e-04 3.98397446e-04 1.32560730e-03\n",
      "  3.25685740e-03 6.96638227e-03 9.25108790e-03 1.07196569e-02\n",
      "  6.87894225e-03 5.25292754e-03 1.49582922e-02 5.45368493e-02\n",
      "  5.97843230e-02 1.69371575e-01 9.20028985e-02 2.40468204e-01\n",
      "  6.49400115e-01 8.91037822e-01 8.89658034e-01 8.79340649e-01\n",
      "  4.08030897e-01 9.63687301e-02 1.36124492e-02 1.94680691e-03\n",
      "  8.29577446e-04 4.32133675e-04 2.02208757e-04 1.76936388e-04\n",
      "  1.57028437e-04 1.89751387e-04 4.62651253e-04 6.43521547e-04\n",
      "  9.82135534e-04 5.29855490e-03 3.43924761e-03 1.81573629e-03\n",
      "  1.15099549e-03 8.87480378e-03 3.57555449e-02 1.20482028e-01\n",
      "  5.02562523e-01 6.38029754e-01 6.87656462e-01 8.55515182e-01\n",
      "  9.54894602e-01 9.20528114e-01 8.34289312e-01 7.14184105e-01\n",
      "  3.21016550e-01 2.90303230e-02 4.58180904e-03 8.06063414e-04\n",
      "  4.96625900e-04 4.05818224e-04 2.20328569e-04 8.14617742e-05\n",
      "  1.47104263e-04 2.10404396e-04 2.56001949e-04 9.75161791e-04\n",
      "  1.60881877e-03 4.46394086e-03 3.30457091e-03 2.78291106e-03\n",
      "  2.56586075e-03 7.18623400e-03 5.76473176e-02 5.19575715e-01\n",
      "  8.59843612e-01 9.06159163e-01 9.69557166e-01 9.69533622e-01\n",
      "  9.69714165e-01 9.21294332e-01 8.32926512e-01 5.51014364e-01\n",
      "  1.18170977e-01 1.35738254e-02 2.09301710e-03 5.58733940e-04\n",
      "  2.81035900e-04 4.83304262e-04 1.95294619e-04 1.75088644e-04\n",
      "  1.66267157e-04 1.29163265e-04 2.25365162e-04 9.98079777e-04\n",
      "  2.05910206e-03 5.34978509e-03 4.64197993e-03 2.85160542e-03\n",
      "  7.68724084e-03 3.19887996e-02 6.03646040e-02 3.51649970e-01\n",
      "  8.14601898e-01 8.87468576e-01 9.02255774e-01 9.44120884e-01\n",
      "  9.41806674e-01 9.63688493e-01 9.03064907e-01 5.19138515e-01\n",
      "  5.99278510e-02 1.45604908e-02 6.70295954e-03 1.32265687e-03\n",
      "  3.25351954e-04 2.41458416e-04 2.43663788e-04 2.41219997e-04\n",
      "  1.35809183e-04 1.28179789e-04 4.40567732e-04 8.93592834e-04\n",
      "  2.64132023e-03 4.66328859e-03 8.90192389e-03 1.74320042e-02\n",
      "  2.08262503e-02 3.54943275e-02 2.02308893e-02 9.07234848e-02\n",
      "  3.22014511e-01 3.91172290e-01 1.92267627e-01 6.86783731e-01\n",
      "  7.82203734e-01 9.33746219e-01 9.23983574e-01 5.03430724e-01\n",
      "  5.83375990e-02 1.13304555e-02 8.57773423e-03 1.19015574e-03\n",
      "  5.12003899e-04 2.80529261e-04 2.67148018e-04 2.08765268e-04\n",
      "  1.31636858e-04 1.58637762e-04 5.70416451e-04 1.53952837e-03\n",
      "  8.86452198e-03 1.05878711e-02 3.69655192e-02 6.20949268e-02\n",
      "  4.95086908e-02 1.97623968e-02 3.11120749e-02 1.65976286e-02\n",
      "  4.11750376e-02 5.09141386e-02 5.54422736e-02 1.46766394e-01\n",
      "  4.79594380e-01 7.82758951e-01 7.51892209e-01 6.16836786e-01\n",
      "  1.36182457e-01 1.92992687e-02 7.39669800e-03 1.73443556e-03\n",
      "  4.99546528e-04 2.46375799e-04 2.52425671e-04 1.81496143e-04\n",
      "  2.16454268e-04 1.37567520e-04 5.02854586e-04 4.69321012e-03\n",
      "  2.22589672e-02 3.86978686e-02 1.40812308e-01 9.82669592e-02\n",
      "  4.13160622e-02 9.21586156e-03 1.47257745e-02 8.14309716e-03\n",
      "  2.39425898e-02 3.05565596e-02 5.52974343e-02 1.01158887e-01\n",
      "  3.25794667e-01 5.80470026e-01 5.73386967e-01 3.94667029e-01\n",
      "  1.25840008e-01 7.12029636e-02 3.54379416e-02 8.65346193e-03\n",
      "  2.43201852e-03 6.40839338e-04 3.57151031e-04 2.82675028e-04\n",
      "  1.75297260e-04 1.32471323e-04 1.34155154e-03 1.46178007e-02\n",
      "  9.00959671e-02 2.14103520e-01 2.55970865e-01 1.35775685e-01\n",
      "  4.32532132e-02 1.32039487e-02 1.69086158e-02 3.02215517e-02\n",
      "  2.18867958e-02 2.63060033e-02 8.58779252e-02 1.69934511e-01\n",
      "  3.34522814e-01 5.22752702e-01 6.73834741e-01 6.36115372e-01\n",
      "  2.93067932e-01 1.16533965e-01 7.44612217e-02 1.56589448e-02\n",
      "  3.00866365e-03 6.89327717e-04 4.51087952e-04 1.28298998e-04\n",
      "  1.71393156e-04 3.06397676e-04 1.93911791e-03 6.75328672e-02\n",
      "  2.59693146e-01 5.47567666e-01 4.78398085e-01 1.87260568e-01\n",
      "  6.08588755e-02 2.10746527e-02 4.48085666e-02 2.31586993e-02\n",
      "  3.14241350e-02 4.75924313e-02 7.86048770e-02 3.15940380e-01\n",
      "  5.11600256e-01 3.60128701e-01 5.32780468e-01 5.04602909e-01\n",
      "  2.78506547e-01 8.81014466e-02 3.98354232e-02 1.26446486e-02\n",
      "  5.46747446e-03 1.01491809e-03 4.51505184e-04 1.07716856e-04\n",
      "  1.33961439e-04 1.76936388e-04 3.04383039e-03 1.09420717e-01\n",
      "  4.10002172e-01 6.79030895e-01 7.20845819e-01 3.26807082e-01\n",
      "  2.52697349e-01 1.00384086e-01 5.68682253e-02 6.12838268e-02\n",
      "  3.60217094e-02 4.38428521e-02 1.57662868e-01 3.82043213e-01\n",
      "  3.32230031e-01 4.94206369e-01 5.56369305e-01 6.22244954e-01\n",
      "  1.73261672e-01 6.89822435e-02 4.24655676e-02 7.20277429e-03\n",
      "  5.02550602e-03 1.16574764e-03 3.65942717e-04 1.06804015e-04\n",
      "  2.08467245e-04 1.80214643e-04 1.99466944e-03 1.07261479e-01\n",
      "  5.53009391e-01 7.59532332e-01 8.32227111e-01 6.60976171e-01\n",
      "  5.42806983e-01 1.78539813e-01 1.70347571e-01 1.46663308e-01\n",
      "  7.41654038e-02 1.46815062e-01 2.35738665e-01 3.74552250e-01\n",
      "  4.04447258e-01 2.17454314e-01 2.47013599e-01 2.18751639e-01\n",
      "  5.91963530e-02 4.49126065e-02 1.73488557e-02 4.21231985e-03\n",
      "  2.70748138e-03 1.21679902e-03 2.02387571e-04 1.20444834e-04\n",
      "  1.21459787e-04 2.46226788e-04 2.48268247e-03 6.16144836e-02\n",
      "  5.34894526e-01 8.01955760e-01 8.02772164e-01 8.06285858e-01\n",
      "  8.72763515e-01 6.53283596e-01 2.99864233e-01 2.87312210e-01\n",
      "  1.91136122e-01 2.26809651e-01 3.56781960e-01 3.25188816e-01\n",
      "  2.95715213e-01 5.06745279e-02 1.55133069e-01 9.56108570e-02\n",
      "  8.30012560e-02 1.90494657e-02 6.08709455e-03 3.63025069e-03\n",
      "  4.13709879e-03 6.71446323e-04 2.15709209e-04 9.30222450e-05\n",
      "  1.23620033e-04 1.86294317e-04 3.09735537e-04 7.24703074e-03\n",
      "  8.64499509e-02 5.79823494e-01 6.66129708e-01 8.85813653e-01\n",
      "  8.00367117e-01 7.00739801e-01 6.82701349e-01 5.88690042e-01\n",
      "  2.61192083e-01 3.72326732e-01 3.57824802e-01 3.10585320e-01\n",
      "  9.68924165e-02 5.91009259e-02 6.82775080e-02 5.68732619e-02\n",
      "  3.59369516e-02 4.64397669e-03 2.17047334e-03 1.61018968e-03\n",
      "  1.32185221e-03 3.51876020e-04 1.24245882e-04 1.36703253e-04\n",
      "  1.16445925e-04 2.07960606e-04 2.03788280e-04 7.99983740e-04\n",
      "  9.06351209e-03 1.34980947e-01 2.15480804e-01 3.89550358e-01\n",
      "  5.84331334e-01 5.00729501e-01 4.08200860e-01 2.18790114e-01\n",
      "  1.36454970e-01 1.21361673e-01 8.50867927e-02 7.20144808e-02\n",
      "  5.07808030e-02 2.20961273e-02 1.10255182e-02 2.54768133e-03\n",
      "  3.13755870e-03 2.15831399e-03 7.79032707e-04 5.76525927e-04\n",
      "  2.04235315e-04 2.16871500e-04 1.69515610e-04 1.91926956e-04\n",
      "  8.71322482e-05 1.63584948e-04 2.62469053e-04 2.03609467e-04\n",
      "  5.12033701e-04 1.71962380e-03 6.35731220e-03 1.33972466e-02\n",
      "  1.47261918e-02 3.66270542e-03 4.97782230e-03 5.06466627e-03\n",
      "  6.62162900e-03 4.63655591e-03 5.17010689e-03 7.03266263e-03\n",
      "  1.35636330e-03 5.13583422e-04 5.68360090e-04 4.36455011e-04\n",
      "  4.15265560e-04 3.41027975e-04 2.66581774e-04 1.76131725e-04\n",
      "  1.38372183e-04 1.50084496e-04 1.67101622e-04 1.65283680e-04\n",
      "  8.04332085e-05 1.32560730e-04 1.26153231e-04 1.51991844e-04\n",
      "  1.77770853e-04 4.75168228e-04 7.96169043e-04 3.47256660e-04\n",
      "  1.58220530e-04 7.44363206e-05 1.44839287e-04 1.03949918e-04\n",
      "  7.98998808e-05 1.01032871e-04 2.64614820e-04 1.84148550e-04\n",
      "  1.59054995e-04 6.04482339e-05 1.02842583e-04 2.47001648e-04\n",
      "  2.90423632e-04 1.91479921e-04 2.79575586e-04 1.43289566e-04\n",
      "  1.49309635e-04 1.34050846e-04 2.03877687e-04 2.39253044e-04\n",
      "  1.97798014e-04 1.57237053e-04 1.52498484e-04 1.49518251e-04\n",
      "  1.61111355e-04 1.99407339e-04 3.04967165e-04 3.90499830e-04\n",
      "  4.58747149e-04 3.76105309e-04 6.33567572e-04 4.35501337e-04\n",
      "  2.12937593e-04 3.05265188e-04 1.19326112e-04 1.74343586e-04\n",
      "  3.76611948e-04 4.05341387e-04 2.74986029e-04 1.56670809e-04\n",
      "  1.58578157e-04 1.96963549e-04 9.65039289e-05 1.44481659e-04\n",
      "  2.03877687e-04 1.58727169e-04 1.79052353e-04 9.06881760e-05]], shape=(1, 784), dtype=float32)\n"
     ]
    }
   ],
   "source": [
    "hh0_p = tf.nn.sigmoid(tf.matmul(sample_case, W) + hb)\n",
    "hh0_s = tf.round(hh0_p)\n",
    "\n",
    "print(\"Probability nodes in hidden layer:\" ,hh0_p)\n",
    "print(\"activated nodes in hidden layer:\" ,hh0_s)\n",
    "\n",
    "# reconstruct\n",
    "vv1_p = tf.nn.sigmoid(tf.matmul(hh0_s, tf.transpose(W)) + vb)\n",
    "\n",
    "print(vv1_p)\n",
    "#rec_prob = sess.run(vv1_p, feed_dict={ hh0_s: hh0_s_val, W: prv_w, vb: prv_vb})"
   ]
  },
  {
   "cell_type": "markdown",
   "metadata": {},
   "source": [
    "Here we plot the reconstructed image:\n"
   ]
  },
  {
   "cell_type": "code",
   "execution_count": 26,
   "metadata": {},
   "outputs": [
    {
     "data": {
      "image/png": "[encoded data removed]",
      "text/plain": [
       "<Figure size 400x400 with 1 Axes>"
      ]
     },
     "metadata": {},
     "output_type": "display_data"
    }
   ],
   "source": [
    "img = Image.fromarray(tile_raster_images(X=vv1_p.numpy(), img_shape=(28, 28),tile_shape=(1, 1), tile_spacing=(1, 1)))\n",
    "plt.rcParams['figure.figsize'] = (4.0, 4.0)\n",
    "imgplot = plt.imshow(img)\n",
    "imgplot.set_cmap('gray') "
   ]
  },
  {
   "cell_type": "markdown",
   "metadata": {},
   "source": [
    "<hr>\n",
    "\n",
    "## Want to learn more?\n",
    "\n",
    "Also, you can use __Watson Studio__ to run these notebooks faster with bigger datasets.__Watson Studio__ is IBM’s leading cloud solution for data scientists, built by data scientists. With Jupyter notebooks, RStudio, Apache Spark and popular libraries pre-packaged in the cloud, __Watson Studio__ enables data scientists to collaborate on their projects without having to install anything. Join the fast-growing community of __Watson Studio__ users today with a free account at [Watson Studio](https://cocl.us/ML0120EN_DSX).This is the end of this lesson. Thank you for reading this notebook, and good luck on your studies.\n"
   ]
  },
  {
   "cell_type": "markdown",
   "metadata": {},
   "source": [
    "### Thanks for completing this lesson!\n",
    "\n",
    "Notebook created by: <a href = \"https://ca.linkedin.com/in/saeedaghabozorgi?utm_medium=Exinfluencer&utm_source=Exinfluencer&utm_content=000026UJ&utm_term=10006555&utm_id=NA-SkillsNetwork-Channel-SkillsNetworkCoursesIBMDeveloperSkillsNetworkDL0120ENSkillsNetwork954-2022-01-01\">Saeed Aghabozorgi</a>\n",
    "\n",
    "Updated to TF 2.X by  <a href=\"https://ca.linkedin.com/in/nilmeier?utm_medium=Exinfluencer&utm_source=Exinfluencer&utm_content=000026UJ&utm_term=10006555&utm_id=NA-SkillsNetwork-Channel-SkillsNetworkCoursesIBMDeveloperSkillsNetworkDL0120ENSkillsNetwork954-2022-01-01\"> Jerome Nilmeier</a><br />\n"
   ]
  },
  {
   "cell_type": "markdown",
   "metadata": {},
   "source": [
    "### References:\n",
    "https://en.wikipedia.org/wiki/Restricted_Boltzmann_machine  \n",
    "http://deeplearning.net/tutorial/rbm.html  \n",
    "http://www.cs.utoronto.ca/~hinton/absps/netflixICML.pdf<br>\n",
    "http://imonad.com/rbm/restricted-boltzmann-machine/  \n"
   ]
  },
  {
   "cell_type": "markdown",
   "metadata": {},
   "source": [
    "<hr>\n",
    "\n",
    "Copyright &copy; 2018 [Cognitive Class](https://cocl.us/DX0108EN_CC). This notebook and its source code are released under the terms of the [MIT License](https://bigdatauniversity.com/mit-license/?utm_medium=Exinfluencer&utm_source=Exinfluencer&utm_content=000026UJ&utm_term=10006555&utm_id=NA-SkillsNetwork-Channel-SkillsNetworkCoursesIBMDeveloperSkillsNetworkDL0120ENSkillsNetwork954-2022-01-01).\n"
   ]
  }
 ],
 "metadata": {
  "kernelspec": {
   "display_name": "Python",
   "language": "python",
   "name": "conda-env-python-py"
  },
  "language_info": {
   "codemirror_mode": {
    "name": "ipython",
    "version": 3
   },
   "file_extension": ".py",
   "mimetype": "text/x-python",
   "name": "python",
   "nbconvert_exporter": "python",
   "pygments_lexer": "ipython3",
   "version": "3.7.12"
  }
 },
 "nbformat": 4,
 "nbformat_minor": 4
}
