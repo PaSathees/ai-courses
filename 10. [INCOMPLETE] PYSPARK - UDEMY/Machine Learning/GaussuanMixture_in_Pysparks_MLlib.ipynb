{
 "cells": [
  {
   "cell_type": "markdown",
   "metadata": {},
   "source": [
    "# Gaussian Mixture Modeling in PySpark's MLlib \n",
    "\n",
    "As we discussed in the concept review lecture, GMM is a \"soft\" clustering method that provides a probability of how associated a data point is with a cluster as opposed to simply which cluster the data point is associated with. It works esspecially well for data that has multiple distributions, but can be used for any kind of data.\n",
    "\n",
    "If you would like to learn even more about GMM I recommend the following article: https://towardsdatascience.com/gaussian-mixture-models-explained-6986aaf5a95\n",
    "\n",
    "**Link to GMM in PySpark Documentation:**<br>\n",
    "https://spark.apache.org/docs/latest/api/python/pyspark.ml.html#pyspark.ml.clustering.GaussianMixture"
   ]
  },
  {
   "cell_type": "code",
   "execution_count": 1,
   "metadata": {},
   "outputs": [
    {
     "name": "stdout",
     "output_type": "stream",
     "text": [
      "You are working with 1 core(s)\n"
     ]
    },
    {
     "data": {
      "text/html": [
       "\n",
       "            <div>\n",
       "                <p><b>SparkSession - in-memory</b></p>\n",
       "                \n",
       "        <div>\n",
       "            <p><b>SparkContext</b></p>\n",
       "\n",
       "            <p><a href=\"http://orcuns-mbp-2:4040\">Spark UI</a></p>\n",
       "\n",
       "            <dl>\n",
       "              <dt>Version</dt>\n",
       "                <dd><code>v2.4.4</code></dd>\n",
       "              <dt>Master</dt>\n",
       "                <dd><code>local[*]</code></dd>\n",
       "              <dt>AppName</dt>\n",
       "                <dd><code>Gix</code></dd>\n",
       "            </dl>\n",
       "        </div>\n",
       "        \n",
       "            </div>\n",
       "        "
      ],
      "text/plain": [
       "<pyspark.sql.session.SparkSession at 0x7fe05e299190>"
      ]
     },
     "execution_count": 1,
     "metadata": {},
     "output_type": "execute_result"
    }
   ],
   "source": [
    "# First let's create our PySpark instance\n",
    "# import findspark\n",
    "# findspark.init()\n",
    "\n",
    "import pyspark # only run after findspark.init()\n",
    "from pyspark.sql import SparkSession\n",
    "# May take awhile locally\n",
    "spark = SparkSession.builder.appName(\"Gix\").getOrCreate()\n",
    "\n",
    "cores = spark._jsc.sc().getExecutorMemoryStatus().keySet().size()\n",
    "print(\"You are working with\", cores, \"core(s)\")\n",
    "spark"
   ]
  },
  {
   "cell_type": "markdown",
   "metadata": {},
   "source": [
    "## About this data\n",
    "\n",
    "Sample Sales Data, Order Info, Sales, Customer, Shipping, etc., Used for Segmentation, Customer Analytics, Clustering and More. Inspired for retail analytics. This was originally used for Pentaho DI Kettle, But I found the set could be useful for Sales Simulation training.\n",
    "\n",
    "Originally Written by María Carina Roldán, Pentaho Community Member, BI consultant (Assert Solutions), Argentina. This work is licensed under the Creative Commons Attribution-Noncommercial-Share Alike 3.0 Unported License. Modified by Gus Segura June 2014.\n",
    "\n",
    "**Source:** https://www.kaggle.com/kyanyoga/sample-sales-data"
   ]
  },
  {
   "cell_type": "code",
   "execution_count": 2,
   "metadata": {},
   "outputs": [],
   "source": [
    "path =\"Datasets/\"\n",
    "df = spark.read.csv(path+'sales_data_sample.csv',inferSchema=True,header=True)"
   ]
  },
  {
   "cell_type": "code",
   "execution_count": 3,
   "metadata": {},
   "outputs": [
    {
     "data": {
      "text/html": [
       "<div>\n",
       "<style scoped>\n",
       "    .dataframe tbody tr th:only-of-type {\n",
       "        vertical-align: middle;\n",
       "    }\n",
       "\n",
       "    .dataframe tbody tr th {\n",
       "        vertical-align: top;\n",
       "    }\n",
       "\n",
       "    .dataframe thead th {\n",
       "        text-align: right;\n",
       "    }\n",
       "</style>\n",
       "<table border=\"1\" class=\"dataframe\">\n",
       "  <thead>\n",
       "    <tr style=\"text-align: right;\">\n",
       "      <th></th>\n",
       "      <th>ORDERNUMBER</th>\n",
       "      <th>QUANTITYORDERED</th>\n",
       "      <th>PRICEEACH</th>\n",
       "      <th>ORDERLINENUMBER</th>\n",
       "      <th>SALES</th>\n",
       "      <th>ORDERDATE</th>\n",
       "      <th>STATUS</th>\n",
       "      <th>QTR_ID</th>\n",
       "      <th>MONTH_ID</th>\n",
       "      <th>YEAR_ID</th>\n",
       "      <th>...</th>\n",
       "      <th>ADDRESSLINE1</th>\n",
       "      <th>ADDRESSLINE2</th>\n",
       "      <th>CITY</th>\n",
       "      <th>STATE</th>\n",
       "      <th>POSTALCODE</th>\n",
       "      <th>COUNTRY</th>\n",
       "      <th>TERRITORY</th>\n",
       "      <th>CONTACTLASTNAME</th>\n",
       "      <th>CONTACTFIRSTNAME</th>\n",
       "      <th>DEALSIZE</th>\n",
       "    </tr>\n",
       "  </thead>\n",
       "  <tbody>\n",
       "    <tr>\n",
       "      <td>0</td>\n",
       "      <td>10107</td>\n",
       "      <td>30</td>\n",
       "      <td>95.70</td>\n",
       "      <td>2</td>\n",
       "      <td>2871.00</td>\n",
       "      <td>2/24/2003 0:00</td>\n",
       "      <td>Shipped</td>\n",
       "      <td>1</td>\n",
       "      <td>2</td>\n",
       "      <td>2003</td>\n",
       "      <td>...</td>\n",
       "      <td>897 Long Airport Avenue</td>\n",
       "      <td>None</td>\n",
       "      <td>NYC</td>\n",
       "      <td>NY</td>\n",
       "      <td>10022</td>\n",
       "      <td>USA</td>\n",
       "      <td>NA</td>\n",
       "      <td>Yu</td>\n",
       "      <td>Kwai</td>\n",
       "      <td>Small</td>\n",
       "    </tr>\n",
       "    <tr>\n",
       "      <td>1</td>\n",
       "      <td>10121</td>\n",
       "      <td>34</td>\n",
       "      <td>81.35</td>\n",
       "      <td>5</td>\n",
       "      <td>2765.90</td>\n",
       "      <td>5/7/2003 0:00</td>\n",
       "      <td>Shipped</td>\n",
       "      <td>2</td>\n",
       "      <td>5</td>\n",
       "      <td>2003</td>\n",
       "      <td>...</td>\n",
       "      <td>59 rue de l'Abbaye</td>\n",
       "      <td>None</td>\n",
       "      <td>Reims</td>\n",
       "      <td>None</td>\n",
       "      <td>51100</td>\n",
       "      <td>France</td>\n",
       "      <td>EMEA</td>\n",
       "      <td>Henriot</td>\n",
       "      <td>Paul</td>\n",
       "      <td>Small</td>\n",
       "    </tr>\n",
       "    <tr>\n",
       "      <td>2</td>\n",
       "      <td>10134</td>\n",
       "      <td>41</td>\n",
       "      <td>94.74</td>\n",
       "      <td>2</td>\n",
       "      <td>3884.34</td>\n",
       "      <td>7/1/2003 0:00</td>\n",
       "      <td>Shipped</td>\n",
       "      <td>3</td>\n",
       "      <td>7</td>\n",
       "      <td>2003</td>\n",
       "      <td>...</td>\n",
       "      <td>27 rue du Colonel Pierre Avia</td>\n",
       "      <td>None</td>\n",
       "      <td>Paris</td>\n",
       "      <td>None</td>\n",
       "      <td>75508</td>\n",
       "      <td>France</td>\n",
       "      <td>EMEA</td>\n",
       "      <td>Da Cunha</td>\n",
       "      <td>Daniel</td>\n",
       "      <td>Medium</td>\n",
       "    </tr>\n",
       "    <tr>\n",
       "      <td>3</td>\n",
       "      <td>10145</td>\n",
       "      <td>45</td>\n",
       "      <td>83.26</td>\n",
       "      <td>6</td>\n",
       "      <td>3746.70</td>\n",
       "      <td>8/25/2003 0:00</td>\n",
       "      <td>Shipped</td>\n",
       "      <td>3</td>\n",
       "      <td>8</td>\n",
       "      <td>2003</td>\n",
       "      <td>...</td>\n",
       "      <td>78934 Hillside Dr.</td>\n",
       "      <td>None</td>\n",
       "      <td>Pasadena</td>\n",
       "      <td>CA</td>\n",
       "      <td>90003</td>\n",
       "      <td>USA</td>\n",
       "      <td>NA</td>\n",
       "      <td>Young</td>\n",
       "      <td>Julie</td>\n",
       "      <td>Medium</td>\n",
       "    </tr>\n",
       "    <tr>\n",
       "      <td>4</td>\n",
       "      <td>10159</td>\n",
       "      <td>49</td>\n",
       "      <td>100.00</td>\n",
       "      <td>14</td>\n",
       "      <td>5205.27</td>\n",
       "      <td>10/10/2003 0:00</td>\n",
       "      <td>Shipped</td>\n",
       "      <td>4</td>\n",
       "      <td>10</td>\n",
       "      <td>2003</td>\n",
       "      <td>...</td>\n",
       "      <td>7734 Strong St.</td>\n",
       "      <td>None</td>\n",
       "      <td>San Francisco</td>\n",
       "      <td>CA</td>\n",
       "      <td>None</td>\n",
       "      <td>USA</td>\n",
       "      <td>NA</td>\n",
       "      <td>Brown</td>\n",
       "      <td>Julie</td>\n",
       "      <td>Medium</td>\n",
       "    </tr>\n",
       "  </tbody>\n",
       "</table>\n",
       "<p>5 rows × 25 columns</p>\n",
       "</div>"
      ],
      "text/plain": [
       "   ORDERNUMBER  QUANTITYORDERED  PRICEEACH  ORDERLINENUMBER    SALES  \\\n",
       "0        10107               30      95.70                2  2871.00   \n",
       "1        10121               34      81.35                5  2765.90   \n",
       "2        10134               41      94.74                2  3884.34   \n",
       "3        10145               45      83.26                6  3746.70   \n",
       "4        10159               49     100.00               14  5205.27   \n",
       "\n",
       "         ORDERDATE   STATUS  QTR_ID  MONTH_ID  YEAR_ID  ...  \\\n",
       "0   2/24/2003 0:00  Shipped       1         2     2003  ...   \n",
       "1    5/7/2003 0:00  Shipped       2         5     2003  ...   \n",
       "2    7/1/2003 0:00  Shipped       3         7     2003  ...   \n",
       "3   8/25/2003 0:00  Shipped       3         8     2003  ...   \n",
       "4  10/10/2003 0:00  Shipped       4        10     2003  ...   \n",
       "\n",
       "                    ADDRESSLINE1  ADDRESSLINE2           CITY STATE  \\\n",
       "0        897 Long Airport Avenue          None            NYC    NY   \n",
       "1             59 rue de l'Abbaye          None          Reims  None   \n",
       "2  27 rue du Colonel Pierre Avia          None          Paris  None   \n",
       "3             78934 Hillside Dr.          None       Pasadena    CA   \n",
       "4                7734 Strong St.          None  San Francisco    CA   \n",
       "\n",
       "  POSTALCODE COUNTRY TERRITORY CONTACTLASTNAME CONTACTFIRSTNAME DEALSIZE  \n",
       "0      10022     USA        NA              Yu             Kwai    Small  \n",
       "1      51100  France      EMEA         Henriot             Paul    Small  \n",
       "2      75508  France      EMEA        Da Cunha           Daniel   Medium  \n",
       "3      90003     USA        NA           Young            Julie   Medium  \n",
       "4       None     USA        NA           Brown            Julie   Medium  \n",
       "\n",
       "[5 rows x 25 columns]"
      ]
     },
     "execution_count": 3,
     "metadata": {},
     "output_type": "execute_result"
    }
   ],
   "source": [
    "df.limit(5).toPandas()"
   ]
  },
  {
   "cell_type": "code",
   "execution_count": 4,
   "metadata": {},
   "outputs": [
    {
     "name": "stdout",
     "output_type": "stream",
     "text": [
      "root\n",
      " |-- ORDERNUMBER: integer (nullable = true)\n",
      " |-- QUANTITYORDERED: integer (nullable = true)\n",
      " |-- PRICEEACH: double (nullable = true)\n",
      " |-- ORDERLINENUMBER: integer (nullable = true)\n",
      " |-- SALES: double (nullable = true)\n",
      " |-- ORDERDATE: string (nullable = true)\n",
      " |-- STATUS: string (nullable = true)\n",
      " |-- QTR_ID: integer (nullable = true)\n",
      " |-- MONTH_ID: integer (nullable = true)\n",
      " |-- YEAR_ID: integer (nullable = true)\n",
      " |-- PRODUCTLINE: string (nullable = true)\n",
      " |-- MSRP: integer (nullable = true)\n",
      " |-- PRODUCTCODE: string (nullable = true)\n",
      " |-- CUSTOMERNAME: string (nullable = true)\n",
      " |-- PHONE: string (nullable = true)\n",
      " |-- ADDRESSLINE1: string (nullable = true)\n",
      " |-- ADDRESSLINE2: string (nullable = true)\n",
      " |-- CITY: string (nullable = true)\n",
      " |-- STATE: string (nullable = true)\n",
      " |-- POSTALCODE: string (nullable = true)\n",
      " |-- COUNTRY: string (nullable = true)\n",
      " |-- TERRITORY: string (nullable = true)\n",
      " |-- CONTACTLASTNAME: string (nullable = true)\n",
      " |-- CONTACTFIRSTNAME: string (nullable = true)\n",
      " |-- DEALSIZE: string (nullable = true)\n",
      "\n"
     ]
    }
   ],
   "source": [
    "df.printSchema()"
   ]
  },
  {
   "cell_type": "markdown",
   "metadata": {},
   "source": [
    "## Import some libraries we will need\n",
    "\n",
    "You will notice that some of these are pythonic which means they won't distribute accross our dataframe, but we will only use them on situations were distribution is not usually necessary. I always try to use PySpark functions where ever I can, but sometimes the functionality I need is not available. In these cases I lean back on my trusty Python libraries :)"
   ]
  },
  {
   "cell_type": "code",
   "execution_count": 5,
   "metadata": {},
   "outputs": [],
   "source": [
    "import matplotlib.pyplot as plt\n",
    "from mpl_toolkits.mplot3d import Axes3D\n",
    "from pyspark.sql.functions import *\n",
    "from pyspark.ml.feature import VectorAssembler\n",
    "from pyspark.ml.clustering import GaussianMixture\n",
    "import numpy as np"
   ]
  },
  {
   "cell_type": "code",
   "execution_count": 6,
   "metadata": {},
   "outputs": [
    {
     "data": {
      "text/html": [
       "<div>\n",
       "<style scoped>\n",
       "    .dataframe tbody tr th:only-of-type {\n",
       "        vertical-align: middle;\n",
       "    }\n",
       "\n",
       "    .dataframe tbody tr th {\n",
       "        vertical-align: top;\n",
       "    }\n",
       "\n",
       "    .dataframe thead th {\n",
       "        text-align: right;\n",
       "    }\n",
       "</style>\n",
       "<table border=\"1\" class=\"dataframe\">\n",
       "  <thead>\n",
       "    <tr style=\"text-align: right;\">\n",
       "      <th></th>\n",
       "      <th>QUANTITYORDERED</th>\n",
       "      <th>PRICEEACH</th>\n",
       "      <th>SALES</th>\n",
       "    </tr>\n",
       "  </thead>\n",
       "  <tbody>\n",
       "    <tr>\n",
       "      <td>0</td>\n",
       "      <td>30</td>\n",
       "      <td>95.70</td>\n",
       "      <td>2871.00</td>\n",
       "    </tr>\n",
       "    <tr>\n",
       "      <td>1</td>\n",
       "      <td>34</td>\n",
       "      <td>81.35</td>\n",
       "      <td>2765.90</td>\n",
       "    </tr>\n",
       "    <tr>\n",
       "      <td>2</td>\n",
       "      <td>41</td>\n",
       "      <td>94.74</td>\n",
       "      <td>3884.34</td>\n",
       "    </tr>\n",
       "    <tr>\n",
       "      <td>3</td>\n",
       "      <td>45</td>\n",
       "      <td>83.26</td>\n",
       "      <td>3746.70</td>\n",
       "    </tr>\n",
       "    <tr>\n",
       "      <td>4</td>\n",
       "      <td>49</td>\n",
       "      <td>100.00</td>\n",
       "      <td>5205.27</td>\n",
       "    </tr>\n",
       "  </tbody>\n",
       "</table>\n",
       "</div>"
      ],
      "text/plain": [
       "   QUANTITYORDERED  PRICEEACH    SALES\n",
       "0               30      95.70  2871.00\n",
       "1               34      81.35  2765.90\n",
       "2               41      94.74  3884.34\n",
       "3               45      83.26  3746.70\n",
       "4               49     100.00  5205.27"
      ]
     },
     "execution_count": 6,
     "metadata": {},
     "output_type": "execute_result"
    }
   ],
   "source": [
    "# Fill in null values with average\n",
    "# Since this function passes in a df, we don't need to (and cannot) create a UDF for it\n",
    "# It will distribute accross our dataframe because the functions within the function are from PySpark\n",
    "def fill_with_mean(df, include=set()): \n",
    "    stats = df.agg(*(\n",
    "        avg(c).alias(c) for c in df.columns if c in include\n",
    "    ))\n",
    "#     stats = stats.select(*(col(c).cast(\"int\").alias(c) for c in stats.columns)) #IntegerType()\n",
    "    return df.na.fill(stats.first().asDict())\n",
    "\n",
    "cols_list = [\"QUANTITYORDERED\",\"PRICEEACH\",\"SALES\"]\n",
    "df = df.select(cols_list)\n",
    "columns = df.columns\n",
    "df = fill_with_mean(df, columns)\n",
    "df.limit(5).toPandas()"
   ]
  },
  {
   "cell_type": "markdown",
   "metadata": {},
   "source": [
    "Convert all input columns into a vector as usual"
   ]
  },
  {
   "cell_type": "code",
   "execution_count": 14,
   "metadata": {},
   "outputs": [
    {
     "name": "stdout",
     "output_type": "stream",
     "text": [
      "+---------------+---------+-------+--------------------+\n",
      "|QUANTITYORDERED|PRICEEACH|  SALES|            features|\n",
      "+---------------+---------+-------+--------------------+\n",
      "|             30|     95.7| 2871.0|  [30.0,95.7,2871.0]|\n",
      "|             34|    81.35| 2765.9| [34.0,81.35,2765.9]|\n",
      "|             41|    94.74|3884.34|[41.0,94.74,3884.34]|\n",
      "|             45|    83.26| 3746.7| [45.0,83.26,3746.7]|\n",
      "|             49|    100.0|5205.27|[49.0,100.0,5205.27]|\n",
      "|             36|    96.66|3479.76|[36.0,96.66,3479.76]|\n",
      "|             29|    86.13|2497.77|[29.0,86.13,2497.77]|\n",
      "|             48|    100.0|5512.32|[48.0,100.0,5512.32]|\n",
      "|             22|    98.57|2168.54|[22.0,98.57,2168.54]|\n",
      "|             41|    100.0|4708.44|[41.0,100.0,4708.44]|\n",
      "|             37|    100.0|3965.66|[37.0,100.0,3965.66]|\n",
      "|             23|    100.0|2333.12|[23.0,100.0,2333.12]|\n",
      "|             28|    100.0|3188.64|[28.0,100.0,3188.64]|\n",
      "|             34|    100.0|3676.76|[34.0,100.0,3676.76]|\n",
      "|             45|    92.83|4177.35|[45.0,92.83,4177.35]|\n",
      "|             36|    100.0|4099.68|[36.0,100.0,4099.68]|\n",
      "|             23|    100.0|2597.39|[23.0,100.0,2597.39]|\n",
      "|             41|    100.0|4394.38|[41.0,100.0,4394.38]|\n",
      "|             46|    94.74|4358.04|[46.0,94.74,4358.04]|\n",
      "|             42|    100.0|4396.14|[42.0,100.0,4396.14]|\n",
      "+---------------+---------+-------+--------------------+\n",
      "only showing top 20 rows\n",
      "\n"
     ]
    }
   ],
   "source": [
    "input_columns = df.columns # Collect the column names as a list\n",
    "vecAssembler = VectorAssembler(inputCols=input_columns, outputCol=\"features\")\n",
    "final_df = vecAssembler.transform(df)#.select('features')\n",
    "final_df.show()"
   ]
  },
  {
   "cell_type": "markdown",
   "metadata": {},
   "source": [
    "## Determine optimal K"
   ]
  },
  {
   "cell_type": "code",
   "execution_count": 8,
   "metadata": {},
   "outputs": [],
   "source": [
    "kmax = 50\n",
    "ll = np.zeros(kmax)\n",
    "for k in range(2,kmax):\n",
    "    gm = GaussianMixture(k=k, tol=0.0001,maxIter=10, seed=10)\n",
    "    model = gm.fit(final_df)\n",
    "    summary = model.summary\n",
    "    ll[k] = summary.logLikelihood"
   ]
  },
  {
   "cell_type": "code",
   "execution_count": 9,
   "metadata": {},
   "outputs": [
    {
     "data": {
      "text/plain": [
       "Text(0, 0.5, 'll')"
      ]
     },
     "execution_count": 9,
     "metadata": {},
     "output_type": "execute_result"
    },
    {
     "data": {
      "image/png": "[encoded data removed]",
      "text/plain": [
       "<Figure size 576x432 with 1 Axes>"
      ]
     },
     "metadata": {
      "needs_background": "light"
     },
     "output_type": "display_data"
    }
   ],
   "source": [
    "fig, ax = plt.subplots(1,1, figsize =(8,6))\n",
    "ax.plot(range(2,kmax),ll[2:kmax])\n",
    "ax.set_xlabel('k')\n",
    "ax.set_ylabel('ll')"
   ]
  },
  {
   "cell_type": "code",
   "execution_count": 15,
   "metadata": {},
   "outputs": [
    {
     "name": "stdout",
     "output_type": "stream",
     "text": [
      "Clusters:  5\n",
      "Cluster Sizes:  [1304, 480, 618, 358, 63]\n",
      "Log Likelihood:  -32598.407851161053\n",
      "Model Weights: : 5\n",
      "Means:  Row(mean=DenseVector([35.2491, 100.0, 4860.8227]))\n",
      "Cov:  Row(cov=DenseMatrix(3, 3, [95.5291, -0.0003, 13302.4692, -0.0003, 0.0001, -0.0152, 13302.4692, -0.0152, 3120824.2224], False))\n"
     ]
    }
   ],
   "source": [
    "#for the sake of speed and simplicity we will stick with k = 5\n",
    "gm = GaussianMixture(k=5, maxIter=10, seed=10)\n",
    "model = gm.fit(final_df)\n",
    "\n",
    "summary = model.summary\n",
    "print(\"Clusters: \",summary.k)\n",
    "print(\"Cluster Sizes: \",summary.clusterSizes)\n",
    "print(\"Log Likelihood: \",summary.logLikelihood)\n",
    "\n",
    "weights = model.weights\n",
    "print(\"Model Weights: :\",len(weights))\n",
    "\n",
    "print(\"Means: \", model.gaussiansDF.select(\"mean\").head())\n",
    "\n",
    "print(\"Cov: \",model.gaussiansDF.select(\"cov\").head())\n",
    "\n",
    "transformed = model.transform(final_df)#.select(\"features\", \"prediction\")"
   ]
  },
  {
   "cell_type": "markdown",
   "metadata": {},
   "source": [
    "## Reflection\n",
    "\n",
    "Looks the 5 clusters that our model identified range in size quite a bit. There is one cluster that only has 7 cases in it as opposed to 1,307 in the largest cluster. If we were using this dataset to target customers, we may want to focus our efforts on the largest group first as we would have more bange for our buck. "
   ]
  },
  {
   "cell_type": "code",
   "execution_count": 16,
   "metadata": {},
   "outputs": [
    {
     "data": {
      "text/html": [
       "<div>\n",
       "<style scoped>\n",
       "    .dataframe tbody tr th:only-of-type {\n",
       "        vertical-align: middle;\n",
       "    }\n",
       "\n",
       "    .dataframe tbody tr th {\n",
       "        vertical-align: top;\n",
       "    }\n",
       "\n",
       "    .dataframe thead th {\n",
       "        text-align: right;\n",
       "    }\n",
       "</style>\n",
       "<table border=\"1\" class=\"dataframe\">\n",
       "  <thead>\n",
       "    <tr style=\"text-align: right;\">\n",
       "      <th></th>\n",
       "      <th>QUANTITYORDERED</th>\n",
       "      <th>PRICEEACH</th>\n",
       "      <th>SALES</th>\n",
       "      <th>features</th>\n",
       "      <th>prediction</th>\n",
       "      <th>probability</th>\n",
       "    </tr>\n",
       "  </thead>\n",
       "  <tbody>\n",
       "    <tr>\n",
       "      <td>0</td>\n",
       "      <td>30</td>\n",
       "      <td>95.70</td>\n",
       "      <td>2871.00</td>\n",
       "      <td>[30.0, 95.7, 2871.0]</td>\n",
       "      <td>1</td>\n",
       "      <td>[9.483745410886175e-11, 0.971460705708676, 0.0...</td>\n",
       "    </tr>\n",
       "    <tr>\n",
       "      <td>1</td>\n",
       "      <td>34</td>\n",
       "      <td>81.35</td>\n",
       "      <td>2765.90</td>\n",
       "      <td>[34.0, 81.35, 2765.9]</td>\n",
       "      <td>1</td>\n",
       "      <td>[1.4688568096103765e-10, 0.9051872010095801, 0...</td>\n",
       "    </tr>\n",
       "    <tr>\n",
       "      <td>2</td>\n",
       "      <td>41</td>\n",
       "      <td>94.74</td>\n",
       "      <td>3884.34</td>\n",
       "      <td>[41.0, 94.74, 3884.34]</td>\n",
       "      <td>1</td>\n",
       "      <td>[1.3495466097048827e-10, 0.9999996892639424, 1...</td>\n",
       "    </tr>\n",
       "    <tr>\n",
       "      <td>3</td>\n",
       "      <td>45</td>\n",
       "      <td>83.26</td>\n",
       "      <td>3746.70</td>\n",
       "      <td>[45.0, 83.26, 3746.7]</td>\n",
       "      <td>3</td>\n",
       "      <td>[1.3514915937830054e-10, 0.49604857345960574, ...</td>\n",
       "    </tr>\n",
       "    <tr>\n",
       "      <td>4</td>\n",
       "      <td>49</td>\n",
       "      <td>100.00</td>\n",
       "      <td>5205.27</td>\n",
       "      <td>[49.0, 100.0, 5205.27]</td>\n",
       "      <td>0</td>\n",
       "      <td>[0.9999997730158432, 4.8831077210275815e-12, 4...</td>\n",
       "    </tr>\n",
       "    <tr>\n",
       "      <td>5</td>\n",
       "      <td>36</td>\n",
       "      <td>96.66</td>\n",
       "      <td>3479.76</td>\n",
       "      <td>[36.0, 96.66, 3479.76]</td>\n",
       "      <td>1</td>\n",
       "      <td>[1.0807113750934128e-10, 0.9999968131562051, 3...</td>\n",
       "    </tr>\n",
       "    <tr>\n",
       "      <td>6</td>\n",
       "      <td>29</td>\n",
       "      <td>86.13</td>\n",
       "      <td>2497.77</td>\n",
       "      <td>[29.0, 86.13, 2497.77]</td>\n",
       "      <td>1</td>\n",
       "      <td>[1.0181508435177755e-10, 0.7589338682871087, 0...</td>\n",
       "    </tr>\n",
       "  </tbody>\n",
       "</table>\n",
       "</div>"
      ],
      "text/plain": [
       "   QUANTITYORDERED  PRICEEACH    SALES                features  prediction  \\\n",
       "0               30      95.70  2871.00    [30.0, 95.7, 2871.0]           1   \n",
       "1               34      81.35  2765.90   [34.0, 81.35, 2765.9]           1   \n",
       "2               41      94.74  3884.34  [41.0, 94.74, 3884.34]           1   \n",
       "3               45      83.26  3746.70   [45.0, 83.26, 3746.7]           3   \n",
       "4               49     100.00  5205.27  [49.0, 100.0, 5205.27]           0   \n",
       "5               36      96.66  3479.76  [36.0, 96.66, 3479.76]           1   \n",
       "6               29      86.13  2497.77  [29.0, 86.13, 2497.77]           1   \n",
       "\n",
       "                                         probability  \n",
       "0  [9.483745410886175e-11, 0.971460705708676, 0.0...  \n",
       "1  [1.4688568096103765e-10, 0.9051872010095801, 0...  \n",
       "2  [1.3495466097048827e-10, 0.9999996892639424, 1...  \n",
       "3  [1.3514915937830054e-10, 0.49604857345960574, ...  \n",
       "4  [0.9999997730158432, 4.8831077210275815e-12, 4...  \n",
       "5  [1.0807113750934128e-10, 0.9999968131562051, 3...  \n",
       "6  [1.0181508435177755e-10, 0.7589338682871087, 0...  "
      ]
     },
     "execution_count": 16,
     "metadata": {},
     "output_type": "execute_result"
    }
   ],
   "source": [
    "transformed.limit(7).toPandas()"
   ]
  },
  {
   "cell_type": "markdown",
   "metadata": {},
   "source": [
    "Let's see if we can try to learn something about our clusters!"
   ]
  },
  {
   "cell_type": "code",
   "execution_count": 17,
   "metadata": {
    "scrolled": true
   },
   "outputs": [
    {
     "name": "stdout",
     "output_type": "stream",
     "text": [
      "+---------------+---------+------+------------------+----------+----------------------------------------------------------------------------------------------------------+\n",
      "|QUANTITYORDERED|PRICEEACH|SALES |features          |prediction|probability                                                                                               |\n",
      "+---------------+---------+------+------------------+----------+----------------------------------------------------------------------------------------------------------+\n",
      "|30             |95.7     |2871.0|[30.0,95.7,2871.0]|1         |[9.483745410886175E-11,0.971460705708676,0.028539294006225242,9.483745410886175E-11,9.542365376560225E-11]|\n",
      "+---------------+---------+------+------------------+----------+----------------------------------------------------------------------------------------------------------+\n",
      "only showing top 1 row\n",
      "\n"
     ]
    }
   ],
   "source": [
    "transformed.show(1,False)"
   ]
  },
  {
   "cell_type": "code",
   "execution_count": 18,
   "metadata": {},
   "outputs": [
    {
     "name": "stdout",
     "output_type": "stream",
     "text": [
      "+----------+--------------+--------------------+-----------------+----------+\n",
      "|prediction|min(PRICEEACH)|min(QUANTITYORDERED)|count(prediction)|min(SALES)|\n",
      "+----------+--------------+--------------------+-----------------+----------+\n",
      "|         0|         100.0|                   6|             1304|    785.64|\n",
      "|         1|          73.0|                   6|              480|    541.14|\n",
      "|         2|         28.29|                  13|              618|    759.46|\n",
      "|         3|         26.88|                  38|              358|    1209.6|\n",
      "|         4|         27.22|                  11|               63|    482.13|\n",
      "+----------+--------------+--------------------+-----------------+----------+\n",
      "\n"
     ]
    }
   ],
   "source": [
    "transformed.groupBy(\"prediction\").agg({\"prediction\":\"count\",'QUANTITYORDERED':'min','PRICEEACH':'min','SALES':'min'}).orderBy(\"prediction\").show()"
   ]
  },
  {
   "cell_type": "code",
   "execution_count": 19,
   "metadata": {},
   "outputs": [
    {
     "name": "stdout",
     "output_type": "stream",
     "text": [
      "+----------+--------------+--------------------+-----------------+----------+\n",
      "|prediction|max(PRICEEACH)|max(QUANTITYORDERED)|count(prediction)|max(SALES)|\n",
      "+----------+--------------+--------------------+-----------------+----------+\n",
      "|         0|         100.0|                  76|             1304|   14082.8|\n",
      "|         1|         99.91|                  59|              480|   5498.08|\n",
      "|         2|         84.71|                  40|              618|    2840.0|\n",
      "|         3|          98.0|                  55|              358|    4508.0|\n",
      "|         4|         98.65|                  97|               63|   9048.16|\n",
      "+----------+--------------+--------------------+-----------------+----------+\n",
      "\n"
     ]
    }
   ],
   "source": [
    "transformed.groupBy(\"prediction\").agg({\"prediction\":\"count\",'QUANTITYORDERED':'max','PRICEEACH':'max','SALES':'max'}).orderBy(\"prediction\").show()"
   ]
  },
  {
   "cell_type": "code",
   "execution_count": 20,
   "metadata": {},
   "outputs": [
    {
     "name": "stdout",
     "output_type": "stream",
     "text": [
      "+----------+------------------+--------------------+-----------------+------------------+\n",
      "|prediction|    avg(PRICEEACH)|avg(QUANTITYORDERED)|count(prediction)|        avg(SALES)|\n",
      "+----------+------------------+--------------------+-----------------+------------------+\n",
      "|         0|             100.0|  35.247699386503065|             1304| 4860.461702453987|\n",
      "|         1| 89.66639583333338|   34.71666666666667|              480| 3102.452374999999|\n",
      "|         2| 61.83092233009705|  28.868932038834952|              618|1772.9966343042076|\n",
      "|         3| 60.31581005586585|   45.20391061452514|              358| 2735.826927374301|\n",
      "|         4|46.406825396825404|   38.34920634920635|               63|2067.8046031746026|\n",
      "+----------+------------------+--------------------+-----------------+------------------+\n",
      "\n"
     ]
    }
   ],
   "source": [
    "transformed.groupBy(\"prediction\").agg({\"prediction\":\"count\",'QUANTITYORDERED':'mean','PRICEEACH':'mean','SALES':'mean'}).orderBy(\"prediction\").show()"
   ]
  },
  {
   "cell_type": "code",
   "execution_count": 21,
   "metadata": {},
   "outputs": [
    {
     "name": "stdout",
     "output_type": "stream",
     "text": [
      "Total Cases in this Cluster:  1304\n"
     ]
    },
    {
     "data": {
      "text/html": [
       "<div>\n",
       "<style scoped>\n",
       "    .dataframe tbody tr th:only-of-type {\n",
       "        vertical-align: middle;\n",
       "    }\n",
       "\n",
       "    .dataframe tbody tr th {\n",
       "        vertical-align: top;\n",
       "    }\n",
       "\n",
       "    .dataframe thead th {\n",
       "        text-align: right;\n",
       "    }\n",
       "</style>\n",
       "<table border=\"1\" class=\"dataframe\">\n",
       "  <thead>\n",
       "    <tr style=\"text-align: right;\">\n",
       "      <th></th>\n",
       "      <th>summary</th>\n",
       "      <th>QUANTITYORDERED</th>\n",
       "      <th>PRICEEACH</th>\n",
       "      <th>SALES</th>\n",
       "      <th>prediction</th>\n",
       "    </tr>\n",
       "  </thead>\n",
       "  <tbody>\n",
       "    <tr>\n",
       "      <td>0</td>\n",
       "      <td>min</td>\n",
       "      <td>6</td>\n",
       "      <td>100.0</td>\n",
       "      <td>785.64</td>\n",
       "      <td>0</td>\n",
       "    </tr>\n",
       "    <tr>\n",
       "      <td>1</td>\n",
       "      <td>mean</td>\n",
       "      <td>35.247699386503065</td>\n",
       "      <td>100.0</td>\n",
       "      <td>4860.461702453987</td>\n",
       "      <td>0.0</td>\n",
       "    </tr>\n",
       "    <tr>\n",
       "      <td>2</td>\n",
       "      <td>max</td>\n",
       "      <td>76</td>\n",
       "      <td>100.0</td>\n",
       "      <td>14082.8</td>\n",
       "      <td>0</td>\n",
       "    </tr>\n",
       "  </tbody>\n",
       "</table>\n",
       "</div>"
      ],
      "text/plain": [
       "  summary     QUANTITYORDERED PRICEEACH              SALES prediction\n",
       "0     min                   6     100.0             785.64          0\n",
       "1    mean  35.247699386503065     100.0  4860.461702453987        0.0\n",
       "2     max                  76     100.0            14082.8          0"
      ]
     },
     "execution_count": 21,
     "metadata": {},
     "output_type": "execute_result"
    }
   ],
   "source": [
    "limited = transformed.filter(\"prediction == 0\")\n",
    "aggregates = limited.summary(\"min\", \"mean\", \"max\")\n",
    "print(\"Total Cases in this Cluster: \",limited.count())\n",
    "aggregates.toPandas()"
   ]
  },
  {
   "cell_type": "markdown",
   "metadata": {},
   "source": [
    "# Conclusions\n",
    "\n",
    "Of the 5 clusters, the first one seems to buy for quality (highest price per item and max sales), while the last cluster seems to be the \"buy in bulk\" shoppers. Cluster 3 seems to be more of a bargain hunter (lowest price each and avg sales)"
   ]
  }
 ],
 "metadata": {
  "kernelspec": {
   "display_name": "Python 3",
   "language": "python",
   "name": "python3"
  },
  "language_info": {
   "codemirror_mode": {
    "name": "ipython",
    "version": 3
   },
   "file_extension": ".py",
   "mimetype": "text/x-python",
   "name": "python",
   "nbconvert_exporter": "python",
   "pygments_lexer": "ipython3",
   "version": "3.8.3"
  }
 },
 "nbformat": 4,
 "nbformat_minor": 2
}
